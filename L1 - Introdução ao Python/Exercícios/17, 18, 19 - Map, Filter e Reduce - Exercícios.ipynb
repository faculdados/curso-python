{
 "cells": [
  {
   "cell_type": "markdown",
   "id": "9babc626-b2aa-445f-9e9c-8843c8c485d9",
   "metadata": {},
   "source": [
    "# Map, Reduce e Filter"
   ]
  },
  {
   "cell_type": "code",
   "execution_count": 3,
   "id": "f3f05bc1-2891-4b0c-ad48-d084c340b4a1",
   "metadata": {},
   "outputs": [],
   "source": [
    "from functools import reduce "
   ]
  },
  {
   "cell_type": "code",
   "execution_count": 4,
   "id": "0c0bd80e-1483-4d7b-82ee-5837a43b21fd",
   "metadata": {},
   "outputs": [
    {
     "data": {
      "text/plain": [
       "[29.703, 6.605, 46.922, 95.453, 3.062, 78.854, 21.068]"
      ]
     },
     "execution_count": 4,
     "metadata": {},
     "output_type": "execute_result"
    }
   ],
   "source": [
    "# Exercício 1 - Utilize map para imprimir o quadrado dos números abaixo com 3 casas decimais.\n",
    "nums_float = [5.45, 2.57, 6.85, 9.77, 1.75, 8.88, 4.59]\n",
    "list(map(lambda x: round(x ** 2, 3), nums_float))"
   ]
  },
  {
   "cell_type": "code",
   "execution_count": 5,
   "id": "ea359569-8fcb-4c40-935c-bd63105eab6e",
   "metadata": {},
   "outputs": [
    {
     "data": {
      "text/plain": [
       "24840"
      ]
     },
     "execution_count": 5,
     "metadata": {},
     "output_type": "execute_result"
    }
   ],
   "source": [
    "# Exercício 2 - Utilize reduce para imprimir na tela a multiplicação desses números\n",
    "nums = [4, 6, 9, 23, 5]\n",
    "reduce(lambda num1, num2: num1 * num2, nums)"
   ]
  },
  {
   "cell_type": "code",
   "execution_count": 7,
   "id": "5b869b76-fd58-428e-9477-1da63238eb3d",
   "metadata": {},
   "outputs": [
    {
     "data": {
      "text/plain": [
       "['Caio', 'José']"
      ]
     },
     "execution_count": 7,
     "metadata": {},
     "output_type": "execute_result"
    }
   ],
   "source": [
    "# Exercício 3 - Utilize filter para imprimir na tela nomes com menos de 5 letras\n",
    "nomes = [\"Caio\", \"Pedro\", \"José\", \"Maria\", \"Fernando\"]\n",
    "list(filter(lambda nome: len(nome) < 5, nomes))"
   ]
  },
  {
   "cell_type": "code",
   "execution_count": 8,
   "id": "69e8ff2b-cbe2-4013-9ee1-f63a85a55076",
   "metadata": {},
   "outputs": [
    {
     "data": {
      "text/plain": [
       "['A', 'B', 'c', 'D', 'e', 'f', 'G']"
      ]
     },
     "execution_count": 8,
     "metadata": {},
     "output_type": "execute_result"
    }
   ],
   "source": [
    "# Exexercício 4 - Utilize map para mudar as letras abaixo. Se for minúscula deve retornar maiúscula e vice-versa\n",
    "letras = ['a', 'b', 'C', 'd', 'E', 'F', 'g']\n",
    "list(map(lambda x: x.upper() if x == x.lower() else x.lower(), letras))"
   ]
  },
  {
   "cell_type": "code",
   "execution_count": 9,
   "id": "89ba1f40-099e-45b8-8cb1-6546f410b94c",
   "metadata": {},
   "outputs": [
    {
     "data": {
      "text/plain": [
       "[('A', 'a'),\n",
       " ('B', 'b'),\n",
       " ('C', 'c'),\n",
       " ('D', 'd'),\n",
       " ('E', 'e'),\n",
       " ('F', 'f'),\n",
       " ('G', 'g')]"
      ]
     },
     "execution_count": 9,
     "metadata": {},
     "output_type": "execute_result"
    }
   ],
   "source": [
    "# Exexercício 5 - Utilize map com a lista de letras do exercíco anterior\n",
    "# para retornar uma lista de tuplas com as letras em maiúsculas e minúsculas. Ex.: 'a' -> ('A', 'a')\n",
    "list(map(lambda x: (x.upper(), x.lower()), letras))"
   ]
  },
  {
   "cell_type": "code",
   "execution_count": 11,
   "id": "894795ff-53df-4a1c-8f58-ee67e6bdcbd3",
   "metadata": {},
   "outputs": [
    {
     "data": {
      "text/plain": [
       "'Eu amo python'"
      ]
     },
     "execution_count": 11,
     "metadata": {},
     "output_type": "execute_result"
    }
   ],
   "source": [
    "# Exercício 6 - Utilize reduce para imprimir na tela a concatenação das palavras abaixo, com um espaço ' ' entre elas\n",
    "palavras = ['Eu', 'amo', 'python']\n",
    "reduce(lambda palavra1, palavra2: palavra1 + ' ' + palavra2, palavras)"
   ]
  },
  {
   "cell_type": "code",
   "execution_count": 12,
   "id": "c8f88385-4b7e-4dce-87b2-5cdcec17b13c",
   "metadata": {},
   "outputs": [
    {
     "data": {
      "text/plain": [
       "[5, 55, 23, 20]"
      ]
     },
     "execution_count": 12,
     "metadata": {},
     "output_type": "execute_result"
    }
   ],
   "source": [
    "# Exercício 7 - Utilize filter para imprimir na tela apenas os números positivos da lista abaixo\n",
    "numeros = [5, -10, 55, 23, -16, -47, 20, -12]\n",
    "list(filter(lambda num: num >= 0, numeros))"
   ]
  }
 ],
 "metadata": {
  "kernelspec": {
   "display_name": "Python 3",
   "language": "python",
   "name": "python3"
  },
  "language_info": {
   "codemirror_mode": {
    "name": "ipython",
    "version": 3
   },
   "file_extension": ".py",
   "mimetype": "text/x-python",
   "name": "python",
   "nbconvert_exporter": "python",
   "pygments_lexer": "ipython3",
   "version": "3.8.8"
  }
 },
 "nbformat": 4,
 "nbformat_minor": 5
}
