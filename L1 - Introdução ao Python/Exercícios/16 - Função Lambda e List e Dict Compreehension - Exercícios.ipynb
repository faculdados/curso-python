{
 "cells": [
  {
   "cell_type": "markdown",
   "id": "62652ae6-a042-499e-87bf-367bfcdf46ca",
   "metadata": {},
   "source": [
    "# Funções Lambda"
   ]
  },
  {
   "cell_type": "code",
   "execution_count": null,
   "id": "c310266b-bb66-43af-9009-19941bebb319",
   "metadata": {},
   "outputs": [],
   "source": [
    "# Exercício 1 - Escreva uma função lambda que adiciona 5 a um número passado como argumento para a função"
   ]
  },
  {
   "cell_type": "code",
   "execution_count": null,
   "id": "9ddf6234-0171-4c01-84ab-a4548e9f27e9",
   "metadata": {},
   "outputs": [],
   "source": [
    "# Exercício 2 - Escreva uma função utilizando \"def\" e dentro dela utilize lambda. \n",
    "# A função deve se chamar \"dividir_por\" e a partir dela deve ser possível criar \"funções filhas\", exemplo: \"dividir_por_2\", \"dividir_por_3\"\n",
    "# O número da função dividir_por vai ser o denominador."
   ]
  },
  {
   "cell_type": "code",
   "execution_count": null,
   "id": "48e682f9-e323-45ab-a8b0-1e3a1295ff17",
   "metadata": {},
   "outputs": [],
   "source": [
    "# Exercício 3 - Escreva uma função lambda que receba uma palavra como parâmetro e retorne True se essa palavra começar com a letra \"a\" ou \"A\""
   ]
  },
  {
   "cell_type": "code",
   "execution_count": null,
   "id": "8db47264-92b1-44cc-ba33-8979b4a38951",
   "metadata": {},
   "outputs": [],
   "source": [
    "# Exercício 4 - Escreva uma função lambda para ordenar a lista abaixo em ordem alfabética\n",
    "nomes = ['Jeniffer', 'Diego', 'Penélope', 'Thomas', 'Bruna', 'Emerson']"
   ]
  },
  {
   "cell_type": "code",
   "execution_count": null,
   "id": "6e7a9169-696c-4728-99d2-b3b6baac34a9",
   "metadata": {},
   "outputs": [],
   "source": [
    "# Exercício 5 - Escreva uma função lambda para ordenar a lista do exercício anterior pela última letra do nome"
   ]
  },
  {
   "cell_type": "code",
   "execution_count": null,
   "id": "69f3fcf1-0f1a-41f2-964f-b0543aea7354",
   "metadata": {},
   "outputs": [],
   "source": [
    "# Exercício 6 - Escreva uma função lambda para ordenar de forma descendente a lista abaixo pelo segundo item das tuplas\n",
    "notas = [('Inglês', 8), ('Geografia', 5), ('Matemática', 10), ('Português', 7), ('História', 3)]"
   ]
  },
  {
   "cell_type": "markdown",
   "id": "c623c9f9-5d52-4e66-93c2-b4a79c1a8dfa",
   "metadata": {},
   "source": [
    "# List/Dict Comprehension"
   ]
  },
  {
   "cell_type": "markdown",
   "id": "315d83fb-9975-4bfd-9114-bdfdb5613e95",
   "metadata": {},
   "source": [
    "#### Utilize list/dict comprehension nos exercícios abaixo"
   ]
  },
  {
   "cell_type": "code",
   "execution_count": null,
   "id": "5750f6fa-a3fe-4f04-8b55-6853d467a2e4",
   "metadata": {},
   "outputs": [],
   "source": [
    "# Exercício 7 - Crie uma lista idêntica a lista abaixo\n",
    "numeros = [1, 2, 3, 4, 5, 6, 7, 8, 9, 10]"
   ]
  },
  {
   "cell_type": "code",
   "execution_count": null,
   "id": "debaaa0c-7fee-4725-9233-f452d4a57272",
   "metadata": {},
   "outputs": [],
   "source": [
    "# Exercício 8 - Eleve ao quadrado todo número da lista \"numeros\" abaixo e retorne uma nova lista"
   ]
  },
  {
   "cell_type": "code",
   "execution_count": null,
   "id": "1c7e56ca-ad7e-41d8-bdbc-67b4d1ec11e0",
   "metadata": {},
   "outputs": [],
   "source": [
    "# Exercício 9 - O mesmo que o exercício 8, mas acrescente na nova lista, apenas se o número elevado ao quadrado for maior que 30."
   ]
  },
  {
   "cell_type": "code",
   "execution_count": null,
   "id": "add7a637-4199-4eff-9e70-1abc33f1636d",
   "metadata": {},
   "outputs": [],
   "source": [
    "# Exercício 10 - Crie um dicionário a partir da lista abaixo, com a mesma chave e valor (exemplo: \"x\":\"x\")\n",
    "estados=['SP', 'RJ', 'BA']"
   ]
  },
  {
   "cell_type": "code",
   "execution_count": null,
   "id": "7e0b2820-1aa2-41c2-aacc-433fc98928a6",
   "metadata": {},
   "outputs": [],
   "source": [
    "# Exercício 11 - Crie um dicionário com as chaves e valores abaixo.\n",
    "keys = ['Inglês', 'Português', 'Matemática', 'Geografia']\n",
    "values = [7, 4, 9, 8]"
   ]
  },
  {
   "cell_type": "code",
   "execution_count": null,
   "id": "0c602506-c049-45f4-9710-dd596f8d7f27",
   "metadata": {},
   "outputs": [],
   "source": [
    "# Exercício 12 - Crie um dicionário a partir do range abaixo, onde cada número do range é a chave e cada número dividido por 100 é o valor.\n",
    "rng = range(100, 10000, 500)"
   ]
  }
 ],
 "metadata": {
  "kernelspec": {
   "display_name": "Python 3",
   "language": "python",
   "name": "python3"
  },
  "language_info": {
   "codemirror_mode": {
    "name": "ipython",
    "version": 3
   },
   "file_extension": ".py",
   "mimetype": "text/x-python",
   "name": "python",
   "nbconvert_exporter": "python",
   "pygments_lexer": "ipython3",
   "version": "3.8.8"
  }
 },
 "nbformat": 4,
 "nbformat_minor": 5
}
