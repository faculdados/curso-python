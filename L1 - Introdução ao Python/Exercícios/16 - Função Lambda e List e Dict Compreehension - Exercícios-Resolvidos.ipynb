{
 "cells": [
  {
   "cell_type": "markdown",
   "id": "62652ae6-a042-499e-87bf-367bfcdf46ca",
   "metadata": {},
   "source": [
    "# Funções Lambda"
   ]
  },
  {
   "cell_type": "code",
   "execution_count": 3,
   "id": "c310266b-bb66-43af-9009-19941bebb319",
   "metadata": {},
   "outputs": [
    {
     "data": {
      "text/plain": [
       "17"
      ]
     },
     "execution_count": 3,
     "metadata": {},
     "output_type": "execute_result"
    }
   ],
   "source": [
    "# Exercício 1 - Escreva uma função lambda que adiciona 5 a um número passado como argumento para a função\n",
    "add_5 = lambda x: x + 5\n",
    "add_5(12)"
   ]
  },
  {
   "cell_type": "code",
   "execution_count": 5,
   "id": "9ddf6234-0171-4c01-84ab-a4548e9f27e9",
   "metadata": {},
   "outputs": [
    {
     "name": "stdout",
     "output_type": "stream",
     "text": [
      "5.0\n",
      "6.0\n",
      "10.0\n"
     ]
    }
   ],
   "source": [
    "# Exercício 2 - Escreva uma função utilizando \"def\" e dentro dela utilize lambda. \n",
    "# A função deve se chamar \"dividir_por\" e a partir dela deve ser possível criar \"funções filhas\", exemplo: \"dividir_por_2\", \"dividir_por_3\"\n",
    "# O número da função dividir_por vai ser o denominador.\n",
    "def dividir_por(num):\n",
    "    return lambda x: x / num\n",
    "dividir_por_2 = dividir_por(2)\n",
    "dividir_por_3 = dividir_por(3)\n",
    "dividir_por_10 = dividir_por(10)\n",
    "print(dividir_por_2(10))\n",
    "print(dividir_por_3(18))\n",
    "print(dividir_por_10(100))"
   ]
  },
  {
   "cell_type": "code",
   "execution_count": 14,
   "id": "48e682f9-e323-45ab-a8b0-1e3a1295ff17",
   "metadata": {},
   "outputs": [
    {
     "name": "stdout",
     "output_type": "stream",
     "text": [
      "True\n",
      "True\n",
      "False\n"
     ]
    }
   ],
   "source": [
    "# Exercício 3 - Escreva uma função lambda que receba uma palavra como parâmetro e retorne True se essa palavra começar com a letra \"a\" ou \"A\"\n",
    "checar_palavra_comeca_com_a = lambda x: x[0].lower() == 'a'\n",
    "print(checar_palavra_comeca_com_a(\"amor\"))\n",
    "print(checar_palavra_comeca_com_a(\"Amor\"))\n",
    "print(checar_palavra_comeca_com_a(\"Banana\"))"
   ]
  },
  {
   "cell_type": "code",
   "execution_count": 19,
   "id": "8db47264-92b1-44cc-ba33-8979b4a38951",
   "metadata": {},
   "outputs": [
    {
     "data": {
      "text/plain": [
       "['Bruna', 'Diego', 'Emerson', 'Jeniffer', 'Penélope', 'Thomas']"
      ]
     },
     "execution_count": 19,
     "metadata": {},
     "output_type": "execute_result"
    }
   ],
   "source": [
    "# Exercício 4 - Escreva uma função lambda para ordenar a lista abaixo em ordem alfabética\n",
    "nomes = ['Jeniffer', 'Diego', 'Penélope', 'Thomas', 'Bruna', 'Emerson']\n",
    "nomes.sort(key=lambda x: x[0])\n",
    "nomes"
   ]
  },
  {
   "cell_type": "code",
   "execution_count": 20,
   "id": "6e7a9169-696c-4728-99d2-b3b6baac34a9",
   "metadata": {},
   "outputs": [
    {
     "data": {
      "text/plain": [
       "['Bruna', 'Penélope', 'Emerson', 'Diego', 'Jeniffer', 'Thomas']"
      ]
     },
     "execution_count": 20,
     "metadata": {},
     "output_type": "execute_result"
    }
   ],
   "source": [
    "# Exercício 5 - Escreva uma função lambda para ordenar a lista do exercício anterior pela última letra do nome\n",
    "nomes.sort(key=lambda x: x[-1])\n",
    "nomes"
   ]
  },
  {
   "cell_type": "code",
   "execution_count": 22,
   "id": "69f3fcf1-0f1a-41f2-964f-b0543aea7354",
   "metadata": {},
   "outputs": [
    {
     "data": {
      "text/plain": [
       "[('Matemática', 10),\n",
       " ('Inglês', 8),\n",
       " ('Português', 7),\n",
       " ('Geografia', 5),\n",
       " ('História', 3)]"
      ]
     },
     "execution_count": 22,
     "metadata": {},
     "output_type": "execute_result"
    }
   ],
   "source": [
    "# Exercício 6 - Escreva uma função lambda para ordenar de forma descendente a lista abaixo pelo segundo item das tuplas\n",
    "notas = [('Inglês', 8), ('Geografia', 5), ('Matemática', 10), ('Português', 7), ('História', 3)]\n",
    "notas.sort(key=lambda x: x[1], reverse=True)\n",
    "notas"
   ]
  },
  {
   "cell_type": "markdown",
   "id": "c623c9f9-5d52-4e66-93c2-b4a79c1a8dfa",
   "metadata": {},
   "source": [
    "# List/Dict Comprehension"
   ]
  },
  {
   "cell_type": "markdown",
   "id": "315d83fb-9975-4bfd-9114-bdfdb5613e95",
   "metadata": {},
   "source": [
    "Utilize list/dict comprehension nos exercícios abaixo"
   ]
  },
  {
   "cell_type": "code",
   "execution_count": 23,
   "id": "5750f6fa-a3fe-4f04-8b55-6853d467a2e4",
   "metadata": {},
   "outputs": [
    {
     "data": {
      "text/plain": [
       "[1, 2, 3, 4, 5, 6, 7, 8, 9, 10]"
      ]
     },
     "execution_count": 23,
     "metadata": {},
     "output_type": "execute_result"
    }
   ],
   "source": [
    "# Exercício 7 - Crie uma lista idêntica a lista abaixo\n",
    "numeros = [1, 2, 3, 4, 5, 6, 7, 8, 9, 10]\n",
    "numeros2 = [x for x in numeros]\n",
    "numeros2"
   ]
  },
  {
   "cell_type": "code",
   "execution_count": 25,
   "id": "debaaa0c-7fee-4725-9233-f452d4a57272",
   "metadata": {},
   "outputs": [
    {
     "data": {
      "text/plain": [
       "[1, 4, 9, 16, 25, 36, 49, 64, 81, 100]"
      ]
     },
     "execution_count": 25,
     "metadata": {},
     "output_type": "execute_result"
    }
   ],
   "source": [
    "# Exercício 8 - Eleve ao quadrado todo número da lista \"numeros\" abaixo e retorne uma nova lista\n",
    "numeros_ao_quadrado = [x ** 2 for x in numeros]\n",
    "numeros_ao_quadrado"
   ]
  },
  {
   "cell_type": "code",
   "execution_count": 26,
   "id": "1c7e56ca-ad7e-41d8-bdbc-67b4d1ec11e0",
   "metadata": {},
   "outputs": [
    {
     "data": {
      "text/plain": [
       "[36, 49, 64, 81, 100]"
      ]
     },
     "execution_count": 26,
     "metadata": {},
     "output_type": "execute_result"
    }
   ],
   "source": [
    "# Exercício 9 - O mesmo que o exercício 8, mas acrescente na nova lista, apenas se o número elevado ao quadrado for maior que 30.\n",
    "numeros_ao_quadrado_se_30 = [x ** 2 for x in numeros if x**2 > 30]\n",
    "numeros_ao_quadrado_se_30"
   ]
  },
  {
   "cell_type": "code",
   "execution_count": 29,
   "id": "add7a637-4199-4eff-9e70-1abc33f1636d",
   "metadata": {},
   "outputs": [
    {
     "data": {
      "text/plain": [
       "{'SP': 'SP', 'RJ': 'RJ', 'BA': 'BA'}"
      ]
     },
     "execution_count": 29,
     "metadata": {},
     "output_type": "execute_result"
    }
   ],
   "source": [
    "# Exercício 10 - Crie um dicionário a partir da lista abaixo, com a mesma chave e valor (exemplo: \"x\":\"x\")\n",
    "estados=['SP', 'RJ', 'BA']\n",
    "dict_estados = {x:x for x in estados}\n",
    "dict_estados"
   ]
  },
  {
   "cell_type": "code",
   "execution_count": 28,
   "id": "7e0b2820-1aa2-41c2-aacc-433fc98928a6",
   "metadata": {},
   "outputs": [
    {
     "data": {
      "text/plain": [
       "{'Inglês': 7, 'Português': 4, 'Matemática': 9, 'Geografia': 8}"
      ]
     },
     "execution_count": 28,
     "metadata": {},
     "output_type": "execute_result"
    }
   ],
   "source": [
    "# Exercício 11 - Crie um dicionário com as chaves e valores abaixo.\n",
    "keys = ['Inglês', 'Português', 'Matemática', 'Geografia']\n",
    "values = [7, 4, 9, 8]\n",
    "notas = {k:v for (k,v) in zip(keys, values)}\n",
    "notas"
   ]
  },
  {
   "cell_type": "code",
   "execution_count": 33,
   "id": "0c602506-c049-45f4-9710-dd596f8d7f27",
   "metadata": {},
   "outputs": [
    {
     "data": {
      "text/plain": [
       "{100: 1.0,\n",
       " 600: 6.0,\n",
       " 1100: 11.0,\n",
       " 1600: 16.0,\n",
       " 2100: 21.0,\n",
       " 2600: 26.0,\n",
       " 3100: 31.0,\n",
       " 3600: 36.0,\n",
       " 4100: 41.0,\n",
       " 4600: 46.0,\n",
       " 5100: 51.0,\n",
       " 5600: 56.0,\n",
       " 6100: 61.0,\n",
       " 6600: 66.0,\n",
       " 7100: 71.0,\n",
       " 7600: 76.0,\n",
       " 8100: 81.0,\n",
       " 8600: 86.0,\n",
       " 9100: 91.0,\n",
       " 9600: 96.0}"
      ]
     },
     "execution_count": 33,
     "metadata": {},
     "output_type": "execute_result"
    }
   ],
   "source": [
    "# Exercício 12 - Crie um dicionário a partir do range abaixo, onde cada número do range é a chave e cada número dividido por 100 é o valor.\n",
    "rng = range(100, 10000, 500)\n",
    "dict1 = {x:x/100 for x in rng}\n",
    "dict1"
   ]
  }
 ],
 "metadata": {
  "kernelspec": {
   "display_name": "Python 3",
   "language": "python",
   "name": "python3"
  },
  "language_info": {
   "codemirror_mode": {
    "name": "ipython",
    "version": 3
   },
   "file_extension": ".py",
   "mimetype": "text/x-python",
   "name": "python",
   "nbconvert_exporter": "python",
   "pygments_lexer": "ipython3",
   "version": "3.8.8"
  }
 },
 "nbformat": 4,
 "nbformat_minor": 5
}
