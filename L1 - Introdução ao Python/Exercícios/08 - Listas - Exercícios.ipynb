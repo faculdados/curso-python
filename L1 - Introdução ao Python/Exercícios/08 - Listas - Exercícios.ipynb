{
 "cells": [
  {
   "cell_type": "markdown",
   "id": "82e3c460",
   "metadata": {},
   "source": [
    "# Listas"
   ]
  },
  {
   "cell_type": "markdown",
   "id": "bfeb0274",
   "metadata": {},
   "source": [
    "## Criação e manipulação de listas "
   ]
  },
  {
   "cell_type": "code",
   "execution_count": null,
   "id": "1378756d",
   "metadata": {},
   "outputs": [],
   "source": [
    "# Exercício 1 - Cria uma lista chamada \"frutas\" com os esses elementos(na mesma ordem): banana, morango e maçã"
   ]
  },
  {
   "cell_type": "code",
   "execution_count": null,
   "id": "5cc59106",
   "metadata": {},
   "outputs": [],
   "source": [
    "# Exercício 2 - A partir da lista \"frutas\", imprima morango na tela"
   ]
  },
  {
   "cell_type": "code",
   "execution_count": null,
   "id": "33e6c64c",
   "metadata": {},
   "outputs": [],
   "source": [
    "# Exercício 3 - Agora imprima morango e maçã"
   ]
  },
  {
   "cell_type": "markdown",
   "id": "54f7fc0c",
   "metadata": {},
   "source": [
    "## Funções para manipular listas"
   ]
  },
  {
   "cell_type": "code",
   "execution_count": null,
   "id": "ea53d820",
   "metadata": {},
   "outputs": [],
   "source": [
    "# Exercício 4 - Remova \"abacaxi\" da lista abaixo usando a função del()\n",
    "frutas = ['laranja', 'banana', 'abacaxi', 'morango', 'uva']"
   ]
  },
  {
   "cell_type": "code",
   "execution_count": null,
   "id": "742d15f8",
   "metadata": {},
   "outputs": [],
   "source": [
    "# Exercício 5 - Remova morango usando a função pop()"
   ]
  },
  {
   "cell_type": "code",
   "execution_count": null,
   "id": "714e5e29",
   "metadata": {},
   "outputs": [],
   "source": [
    "# Exercício 6 - Remova banana usando a função remove()"
   ]
  },
  {
   "cell_type": "code",
   "execution_count": null,
   "id": "53bcc8a6",
   "metadata": {},
   "outputs": [],
   "source": [
    "# Exercício 7 - Adicione abacaxi na lista frutas em última posição"
   ]
  },
  {
   "cell_type": "code",
   "execution_count": null,
   "id": "9f6fb5b0",
   "metadata": {},
   "outputs": [],
   "source": [
    "# Exercício 7 - Adicione morango na lista frutas no índice 1"
   ]
  },
  {
   "cell_type": "code",
   "execution_count": null,
   "id": "c69f5ef8",
   "metadata": {},
   "outputs": [],
   "source": [
    "# Exercício 8 - Adicione a lista frutas2 dentro da lista frutas\n",
    "frutas2 = ['tangerina', 'melancia']"
   ]
  },
  {
   "cell_type": "code",
   "execution_count": null,
   "id": "b4ca8848",
   "metadata": {},
   "outputs": [],
   "source": [
    "# Exercício 9 - Ordene a lista frutas por ordem alfabética descendente"
   ]
  },
  {
   "cell_type": "code",
   "execution_count": null,
   "id": "8351fd3d",
   "metadata": {
    "scrolled": true
   },
   "outputs": [],
   "source": [
    "# Exercício 10 - Substitua o XXX abaixo para que imprima todas as frutas separado por vírgula\n",
    "print(f'No nosso mercado você encontrará as seguintes frutas: {XXX}.')"
   ]
  },
  {
   "cell_type": "markdown",
   "id": "fd04e24a",
   "metadata": {},
   "source": [
    "## Funções com listas"
   ]
  },
  {
   "cell_type": "code",
   "execution_count": null,
   "id": "e292940a",
   "metadata": {},
   "outputs": [],
   "source": [
    "# Exercício 11 - Peça 3 números ao usuário, crie uma lista com eles e imprima o maior, o menor e a soma dos números"
   ]
  }
 ],
 "metadata": {
  "kernelspec": {
   "display_name": "Python 3",
   "language": "python",
   "name": "python3"
  },
  "language_info": {
   "codemirror_mode": {
    "name": "ipython",
    "version": 3
   },
   "file_extension": ".py",
   "mimetype": "text/x-python",
   "name": "python",
   "nbconvert_exporter": "python",
   "pygments_lexer": "ipython3",
   "version": "3.8.8"
  },
  "toc": {
   "base_numbering": 1,
   "nav_menu": {},
   "number_sections": true,
   "sideBar": true,
   "skip_h1_title": false,
   "title_cell": "Table of Contents",
   "title_sidebar": "Contents",
   "toc_cell": false,
   "toc_position": {
    "height": "calc(100% - 180px)",
    "left": "10px",
    "top": "150px",
    "width": "384px"
   },
   "toc_section_display": true,
   "toc_window_display": true
  }
 },
 "nbformat": 4,
 "nbformat_minor": 5
}
