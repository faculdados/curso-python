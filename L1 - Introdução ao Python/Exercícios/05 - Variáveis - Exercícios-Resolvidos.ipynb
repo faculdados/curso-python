{
 "cells": [
  {
   "cell_type": "markdown",
   "metadata": {},
   "source": [
    "# Variáveis"
   ]
  },
  {
   "cell_type": "markdown",
   "metadata": {},
   "source": [
    "## 1. Declaração de variáveis"
   ]
  },
  {
   "cell_type": "code",
   "execution_count": 1,
   "metadata": {},
   "outputs": [
    {
     "name": "stdout",
     "output_type": "stream",
     "text": [
      "5\n"
     ]
    }
   ],
   "source": [
    "# Exercício 1 - Declare uma variável chamada x, atribua o valor 5 para ela e mostre o resultado\n",
    "x = 5\n",
    "print(x)"
   ]
  },
  {
   "cell_type": "code",
   "execution_count": 2,
   "metadata": {},
   "outputs": [
    {
     "name": "stdout",
     "output_type": "stream",
     "text": [
      "João\n"
     ]
    }
   ],
   "source": [
    "# Exercício 2 - Cria uma váriavel nome, atribua \"João\" para ela e mostre o resultado\n",
    "nome = \"João\"\n",
    "print(nome)"
   ]
  },
  {
   "cell_type": "markdown",
   "metadata": {},
   "source": [
    "## 2. ID das variáveis"
   ]
  },
  {
   "cell_type": "code",
   "execution_count": 3,
   "metadata": {},
   "outputs": [
    {
     "name": "stdout",
     "output_type": "stream",
     "text": [
      "140726940809120\n",
      "2432236569344\n"
     ]
    }
   ],
   "source": [
    "# Exercício 3 - Verifique os IDs das duas variáveis que você criou\n",
    "print(id(x))\n",
    "print(id(nome))"
   ]
  },
  {
   "cell_type": "markdown",
   "metadata": {},
   "source": [
    "## 3. Declaração múltipla"
   ]
  },
  {
   "cell_type": "code",
   "execution_count": 4,
   "metadata": {},
   "outputs": [
    {
     "name": "stdout",
     "output_type": "stream",
     "text": [
      "20 86 35\n"
     ]
    }
   ],
   "source": [
    "# Exercício 4 - Faça uma declaração múltipla para as variáveis a,b e c com os respectivos valores:20,86,35. Mostre os resultados\n",
    "a, b, c = 20, 86, 35\n",
    "print(a, b, c)"
   ]
  },
  {
   "cell_type": "code",
   "execution_count": 5,
   "metadata": {},
   "outputs": [
    {
     "name": "stdout",
     "output_type": "stream",
     "text": [
      "100 100\n"
     ]
    }
   ],
   "source": [
    "# Exercício 5 - Declare ao mesmo tempo as variáveis x e y com o valor 100. Mostre os resultados\n",
    "x = y = 100\n",
    "print(x, y)"
   ]
  },
  {
   "cell_type": "code",
   "execution_count": 6,
   "metadata": {},
   "outputs": [
    {
     "name": "stdout",
     "output_type": "stream",
     "text": [
      "110 65\n"
     ]
    }
   ],
   "source": [
    "# Exercício 6 - Utilize += para aumentar o valor de x em 10 e -= para diminuir o valor de y em 35, imprima os resultados\n",
    "x += 10\n",
    "y -= 35\n",
    "print(x, y)"
   ]
  },
  {
   "cell_type": "markdown",
   "metadata": {},
   "source": [
    "## 4. Verificando o tipo das variáveis"
   ]
  },
  {
   "cell_type": "code",
   "execution_count": 7,
   "metadata": {},
   "outputs": [
    {
     "data": {
      "text/plain": [
       "str"
      ]
     },
     "execution_count": 7,
     "metadata": {},
     "output_type": "execute_result"
    }
   ],
   "source": [
    "# Exercício 7 - verifique o tipo de dado armazenado na variável nome\n",
    "type(nome)"
   ]
  },
  {
   "cell_type": "code",
   "execution_count": 8,
   "metadata": {},
   "outputs": [
    {
     "data": {
      "text/plain": [
       "False"
      ]
     },
     "execution_count": 8,
     "metadata": {},
     "output_type": "execute_result"
    }
   ],
   "source": [
    "# Exercício 8 - verifique se o dado na variável nome é numérico usando isnumeric()\n",
    "nome.isnumeric()"
   ]
  },
  {
   "cell_type": "code",
   "execution_count": 9,
   "metadata": {},
   "outputs": [
    {
     "ename": "AttributeError",
     "evalue": "'int' object has no attribute 'isnumeric'",
     "output_type": "error",
     "traceback": [
      "\u001b[1;31m---------------------------------------------------------------------------\u001b[0m",
      "\u001b[1;31mAttributeError\u001b[0m                            Traceback (most recent call last)",
      "\u001b[1;32m<ipython-input-9-9e973206e69f>\u001b[0m in \u001b[0;36m<module>\u001b[1;34m\u001b[0m\n\u001b[0;32m      1\u001b[0m \u001b[1;31m# Exercício 9 - verifique se o dado na variável x é numérico usando isnumeric()\u001b[0m\u001b[1;33m\u001b[0m\u001b[1;33m\u001b[0m\u001b[1;33m\u001b[0m\u001b[0m\n\u001b[1;32m----> 2\u001b[1;33m \u001b[0mx\u001b[0m\u001b[1;33m.\u001b[0m\u001b[0misnumeric\u001b[0m\u001b[1;33m(\u001b[0m\u001b[1;33m)\u001b[0m\u001b[1;33m\u001b[0m\u001b[1;33m\u001b[0m\u001b[0m\n\u001b[0m",
      "\u001b[1;31mAttributeError\u001b[0m: 'int' object has no attribute 'isnumeric'"
     ]
    }
   ],
   "source": [
    "# Exercício 9 - verifique se o dado na variável x é numérico usando isnumeric()\n",
    "x.isnumeric()"
   ]
  },
  {
   "cell_type": "code",
   "execution_count": 10,
   "metadata": {},
   "outputs": [
    {
     "data": {
      "text/plain": [
       "True"
      ]
     },
     "execution_count": 10,
     "metadata": {},
     "output_type": "execute_result"
    }
   ],
   "source": [
    "# Exercício 10 - verifique se o dado na variável nome possui apenas letras do alfabeto (a-z) usando isalpha()\n",
    "nome.isalpha()"
   ]
  },
  {
   "cell_type": "code",
   "execution_count": 11,
   "metadata": {},
   "outputs": [
    {
     "data": {
      "text/plain": [
       "False"
      ]
     },
     "execution_count": 11,
     "metadata": {},
     "output_type": "execute_result"
    }
   ],
   "source": [
    "# Exercício 11 - Crie uma variável idade como formato de texto. \n",
    "#     Verifique se o dado na variável idade possui apenas letras do alfabeto (a-z) usando isalpha()\n",
    "idade = '25'\n",
    "idade.isalpha()"
   ]
  },
  {
   "cell_type": "code",
   "execution_count": 12,
   "metadata": {},
   "outputs": [
    {
     "data": {
      "text/plain": [
       "True"
      ]
     },
     "execution_count": 12,
     "metadata": {},
     "output_type": "execute_result"
    }
   ],
   "source": [
    "# Exercício 12 - verifique se o dado na variável nome é alfanumérico usando isalnum()\n",
    "nome.isalnum()"
   ]
  },
  {
   "cell_type": "code",
   "execution_count": 13,
   "metadata": {},
   "outputs": [
    {
     "data": {
      "text/plain": [
       "True"
      ]
     },
     "execution_count": 13,
     "metadata": {},
     "output_type": "execute_result"
    }
   ],
   "source": [
    "# Exercício 13 - verifique se o dado na variável idade é alfanumérico usando isalnum()\n",
    "idade.isalnum()"
   ]
  },
  {
   "cell_type": "markdown",
   "metadata": {},
   "source": [
    "## 5. Concatenação e formatação de variáveis"
   ]
  },
  {
   "cell_type": "code",
   "execution_count": 14,
   "metadata": {},
   "outputs": [
    {
     "name": "stdout",
     "output_type": "stream",
     "text": [
      "Insira seu nome: Caio\n",
      "Prazer, Caio!\n"
     ]
    }
   ],
   "source": [
    "# Exercício 14 - usando input(), solicite que o \"usuário\" coloque o seu nome e imprima a frase: \"Prazer, José!\"\n",
    "#   usando print() e inserindo a variável nome no lugar de José. \n",
    "nome = input('Insira seu nome: ')\n",
    "print(f'Prazer, {nome}!')"
   ]
  },
  {
   "cell_type": "code",
   "execution_count": 15,
   "metadata": {},
   "outputs": [
    {
     "name": "stdout",
     "output_type": "stream",
     "text": [
      "Insira seu nome: Caio\n",
      "Insira sua idade: 26\n",
      "Meu nome é Caio e tenho 26 anos.\n"
     ]
    }
   ],
   "source": [
    "# Exercício 15 - Solicite que o \"usuário\" preencha seu nome e idade, e imprima a frase \"Meu nome é José e tenho 20 anos.\"\n",
    "#    troque José e 20 pelo nome e idade inseridos.\n",
    "nome = input('Insira seu nome: ')\n",
    "idade = input('Insira sua idade: ')\n",
    "print(f'Meu nome é {nome} e tenho {idade} anos.')"
   ]
  },
  {
   "cell_type": "code",
   "execution_count": 16,
   "metadata": {},
   "outputs": [
    {
     "name": "stdout",
     "output_type": "stream",
     "text": [
      "\"O algoritmo faz o que você programa, não o que você quer que ele faça.\"\n"
     ]
    }
   ],
   "source": [
    "# Exercício 16 - Imprima essa citação na tela(com as aspas): \n",
    "#     \"O algoritmo faz o que você programa, não o que você quer que ele faça.\"\n",
    "print('\"O algoritmo faz o que você programa, não o que você quer que ele faça.\"')"
   ]
  }
 ],
 "metadata": {
  "kernelspec": {
   "display_name": "Python 3",
   "language": "python",
   "name": "python3"
  },
  "language_info": {
   "codemirror_mode": {
    "name": "ipython",
    "version": 3
   },
   "file_extension": ".py",
   "mimetype": "text/x-python",
   "name": "python",
   "nbconvert_exporter": "python",
   "pygments_lexer": "ipython3",
   "version": "3.8.3"
  }
 },
 "nbformat": 4,
 "nbformat_minor": 4
}
