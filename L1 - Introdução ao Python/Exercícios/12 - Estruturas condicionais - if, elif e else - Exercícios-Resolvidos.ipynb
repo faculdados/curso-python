{
 "cells": [
  {
   "cell_type": "markdown",
   "id": "744ec28f",
   "metadata": {},
   "source": [
    "# Estruturas condicionais"
   ]
  },
  {
   "cell_type": "markdown",
   "id": "9abc4956",
   "metadata": {},
   "source": [
    "## if"
   ]
  },
  {
   "cell_type": "code",
   "execution_count": null,
   "id": "95d25ff1",
   "metadata": {},
   "outputs": [],
   "source": [
    "# Exercício 1 - Peça pro usuário digitar um número\n",
    "# Verifique se o número digitado é maior do que 50 e imprima na tela: \"O número XXX é maior que 50.\"\n",
    "n1 = input('Digite um número: ')\n",
    "if n1 > 50:\n",
    "    print(f'O número {n1} é maior que 50.')"
   ]
  },
  {
   "cell_type": "markdown",
   "id": "1e8decef",
   "metadata": {},
   "source": [
    "## else"
   ]
  },
  {
   "cell_type": "code",
   "execution_count": 2,
   "id": "4ef573e9",
   "metadata": {},
   "outputs": [
    {
     "name": "stdout",
     "output_type": "stream",
     "text": [
      "Digite um número: 10\n",
      "O número 10 é par.\n"
     ]
    }
   ],
   "source": [
    "# Exercício 2 - Peça pro usuário digitar um número\n",
    "# Verifique se o número é par ou ímpar e imprima na tela: \"O número XXX é par/ímpar\"\n",
    "n1 = int(input('Digite um número: '))\n",
    "if n1 % 2 == 0:\n",
    "    print(f'O número {n1} é par.')\n",
    "else:\n",
    "    print(f'O número {n1} é ímpar.')"
   ]
  },
  {
   "cell_type": "code",
   "execution_count": null,
   "id": "185d852c",
   "metadata": {},
   "outputs": [],
   "source": [
    "# Exercício 3 - Ajuste a condição para verificar se o usuário é maior de idade\n",
    "idade = int(input('Digite sua idade:'))\n",
    "# if XXX:\n",
    "if idade >= 18:\n",
    "    print(f'Você tem mais de 18 anos, pode tirar sua habilitação.')\n",
    "else:\n",
    "    print(f'Você ainda não pode tirar sua habilitação')"
   ]
  },
  {
   "cell_type": "markdown",
   "id": "18f5ca7c",
   "metadata": {},
   "source": [
    "## Elif"
   ]
  },
  {
   "cell_type": "code",
   "execution_count": null,
   "id": "02130d97",
   "metadata": {},
   "outputs": [],
   "source": [
    "# Exercício 4 - Substitua XXX para que a lógica faça sentido.\n",
    "# Menores de 16 = Não pode votar\n",
    "# 16 e 17 anos ou maior que 70 anos = voto opcional\n",
    "# Maiores de 18 (menor que 70) = voto obrigatório\n",
    "idade = int(input('Digite sua idade:'))\n",
    "# if XXX:\n",
    "if idade >= 18 and idade < 70:\n",
    "    print('Você tem 18 anos ou mais, voto é obrigatório.')\n",
    "# elif XXX:\n",
    "elif idade > 16:\n",
    "    print('Para você o voto é opcional.')\n",
    "else:\n",
    "    print('Você não pode votar.')"
   ]
  },
  {
   "cell_type": "code",
   "execution_count": null,
   "id": "f89c70c6",
   "metadata": {},
   "outputs": [],
   "source": [
    "# Exercício 5 - Substitua XXX para que a lógica faça sentido.\n",
    "# Valores menores que 1000 reais não tem desconto\n",
    "# Valores entre 1000 e 2000 reais tem 10% de desconto\n",
    "# Valores maiores que 2000 reais tem 20% de desconto\n",
    "valor = int(input('Qual o valor da compra?'))\n",
    "# if XXX:\n",
    "if valor > 2000:\n",
    "    # print(f'Você ganhou um desconto de 20%. O valor da sua compra com desconto é de {XXX}')\n",
    "    print(f'Você ganhou um desconto de 20%. O valor da sua compra com desconto é de {valor * 0.8}')\n",
    "# elif XXX:\n",
    "elif valor > 1000:\n",
    "    # print(f'Você ganhou um desconto de 10%. O valor da sua compra com desconto é de {XXX}')\n",
    "    print(f'Você ganhou um desconto de 10%. O valor da sua compra com desconto é de {valor * 0.9}')\n",
    "else:\n",
    "    # print(f'Você não ganhou desconto. O valor da sua compra é de {XXX}')\n",
    "    print(f'Você não ganhou desconto. O valor da sua compra é de {valor}')"
   ]
  }
 ],
 "metadata": {
  "kernelspec": {
   "display_name": "Python 3",
   "language": "python",
   "name": "python3"
  },
  "language_info": {
   "codemirror_mode": {
    "name": "ipython",
    "version": 3
   },
   "file_extension": ".py",
   "mimetype": "text/x-python",
   "name": "python",
   "nbconvert_exporter": "python",
   "pygments_lexer": "ipython3",
   "version": "3.8.8"
  },
  "toc": {
   "base_numbering": 1,
   "nav_menu": {},
   "number_sections": true,
   "sideBar": true,
   "skip_h1_title": false,
   "title_cell": "Table of Contents",
   "title_sidebar": "Contents",
   "toc_cell": false,
   "toc_position": {},
   "toc_section_display": true,
   "toc_window_display": false
  }
 },
 "nbformat": 4,
 "nbformat_minor": 5
}
