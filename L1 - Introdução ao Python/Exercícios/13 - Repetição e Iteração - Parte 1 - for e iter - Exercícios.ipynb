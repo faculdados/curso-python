{
 "cells": [
  {
   "cell_type": "markdown",
   "id": "48c256f1",
   "metadata": {},
   "source": [
    "# For"
   ]
  },
  {
   "cell_type": "code",
   "execution_count": null,
   "id": "d704aee5",
   "metadata": {},
   "outputs": [],
   "source": [
    "# Exercício 1 - Faça um loop para imprimir a frase \"Olá, {nome da pessoa}\" para cada pessoa da lista abaixo\n",
    "pessoas = ['Pedro', 'Gustavo', 'Gabriel', \"Mário\"]"
   ]
  },
  {
   "cell_type": "code",
   "execution_count": null,
   "id": "23af9382",
   "metadata": {},
   "outputs": [],
   "source": [
    "# Exercício 2 - Faça um loop para imprimir cada letra da palavra abaixo\n",
    "palavra = 'Coca Cola'"
   ]
  },
  {
   "cell_type": "code",
   "execution_count": null,
   "id": "678936d3",
   "metadata": {},
   "outputs": [],
   "source": [
    "# Exercício 3 - Utilizando append e for coloque todos nomes da lista de pessoas com o prefixo \"Dr.\" antes do nome na lista \"doutores\"\n",
    "pessoas = ['Pedro', 'Gustavo', 'Gabriel', \"Mário\"]\n",
    "doutores = []"
   ]
  },
  {
   "cell_type": "code",
   "execution_count": null,
   "id": "19810835",
   "metadata": {},
   "outputs": [],
   "source": [
    "# Exercício 4 - Utilizando append e for, crie uma lista \"quadrado\"\n",
    "# e coloque os números da lista abaixo, elevados ao quadrado, na nova lista\n",
    "numeros = [75, 94, 102, 304, 55, 12, 905, 765, 678, 124, 84, 91, 22]"
   ]
  },
  {
   "cell_type": "code",
   "execution_count": null,
   "id": "77302e27",
   "metadata": {},
   "outputs": [],
   "source": [
    "# Exercício 5 - Crie duas listas: \"pares\" e \"impares\" e utilizando append, for e if, \n",
    "# coloque os números da lista abaixo em suas respectivas listas\n",
    "numeros = [75, 94, 102, 304, 55, 12, 905, 765, 678, 124, 84, 91, 22]"
   ]
  },
  {
   "cell_type": "code",
   "execution_count": null,
   "id": "884424f9",
   "metadata": {},
   "outputs": [],
   "source": [
    "# Exercício 6 - Utilizando o for, conte quantos números temos na lista abaixo e armazene na variável count\n",
    "numeros = [75, 94, 102, 304, 55, 12, 905, 765, 678, 124, 84, 91, 22]\n",
    "count = 0"
   ]
  },
  {
   "cell_type": "code",
   "execution_count": null,
   "id": "aad84732",
   "metadata": {},
   "outputs": [],
   "source": [
    "# Exercício 7 - Utilizando o for, some todos os números que temos na lista abaixo e armazene na variável soma\n",
    "numeros = [75, 94, 102, 304, 55, 12, 905, 765, 678, 124, 84, 91, 22]\n",
    "soma = 0"
   ]
  },
  {
   "cell_type": "code",
   "execution_count": null,
   "id": "27946aaf",
   "metadata": {},
   "outputs": [],
   "source": [
    "# Exercício 8 - Imprima todos números mas quando o número for maior do que 200, pule utilizando o \"continue\" \n",
    "# e não imprima esse número\n",
    "numeros = [75, 94, 102, 304, 55, 12, 905, 765, 678, 124, 84, 91, 22]"
   ]
  },
  {
   "cell_type": "code",
   "execution_count": null,
   "id": "1526ccd2",
   "metadata": {},
   "outputs": [],
   "source": [
    "# Exercício 9 - Imprima todos números mas quando o número for maior do que 200, utilize o \"break\" e saia do loop\n",
    "numeros = [75, 94, 102, 304, 55, 12, 905, 765, 678, 124, 84, 91, 22]"
   ]
  },
  {
   "cell_type": "code",
   "execution_count": 2,
   "id": "5d440691",
   "metadata": {},
   "outputs": [],
   "source": [
    "# Exercício 10 - Crie duas listas: \"Maior de idade\" e \"Menor de idade\" e utilizando append, for e if, \n",
    "# coloque o nome das pessoas em suas respectivas listas\n",
    "cadastros = [\n",
    "    {'nome': 'Pedro', 'idade': 15},\n",
    "    {'nome':  'Gustavo', 'idade': 25},\n",
    "    {'nome':  'Gabriel', 'idade': 16}, \n",
    "    {'nome':  \"Mário\", 'idade': 45}\n",
    "]"
   ]
  },
  {
   "cell_type": "code",
   "execution_count": null,
   "id": "cad01ae7",
   "metadata": {},
   "outputs": [],
   "source": [
    "# Exercício 11 - Utilize um Nested loop (loop aninhado) para imprimir todas combinações de quantidades com as frutas\n",
    "# exemplo: 2 Banana, 5 Banana, 10 Banana, 18 Banana, 2 Laranja...\n",
    "quantidades = [2, 5, 10, 18]\n",
    "frutas = ['Banana', 'Laranja', 'Maçã']"
   ]
  },
  {
   "cell_type": "code",
   "execution_count": null,
   "id": "16c32523",
   "metadata": {},
   "outputs": [],
   "source": [
    "# Exercício 12 - Usando for e zip, imprima a frase 'O time XXX está em XXXº lugar.', substituindo XXX pelo time e sua posição\n",
    "posicoes = [2, 4, 1, 3, 5]\n",
    "times = ['São Paulo', 'Santos', 'Vasco', 'Fluminense', 'Flamengo']"
   ]
  },
  {
   "cell_type": "code",
   "execution_count": null,
   "id": "1fa2cfe6",
   "metadata": {},
   "outputs": [],
   "source": []
  },
  {
   "cell_type": "code",
   "execution_count": null,
   "id": "9591d39c",
   "metadata": {},
   "outputs": [],
   "source": []
  },
  {
   "cell_type": "code",
   "execution_count": null,
   "id": "c65eb525",
   "metadata": {},
   "outputs": [],
   "source": []
  }
 ],
 "metadata": {
  "kernelspec": {
   "display_name": "Python 3",
   "language": "python",
   "name": "python3"
  },
  "language_info": {
   "codemirror_mode": {
    "name": "ipython",
    "version": 3
   },
   "file_extension": ".py",
   "mimetype": "text/x-python",
   "name": "python",
   "nbconvert_exporter": "python",
   "pygments_lexer": "ipython3",
   "version": "3.8.8"
  },
  "toc": {
   "base_numbering": 1,
   "nav_menu": {},
   "number_sections": true,
   "sideBar": true,
   "skip_h1_title": false,
   "title_cell": "Table of Contents",
   "title_sidebar": "Contents",
   "toc_cell": false,
   "toc_position": {},
   "toc_section_display": true,
   "toc_window_display": false
  }
 },
 "nbformat": 4,
 "nbformat_minor": 5
}
