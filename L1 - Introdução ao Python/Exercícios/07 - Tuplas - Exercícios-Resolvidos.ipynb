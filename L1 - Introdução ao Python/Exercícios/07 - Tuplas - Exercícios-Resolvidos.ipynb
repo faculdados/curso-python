{
 "cells": [
  {
   "cell_type": "markdown",
   "id": "c17f8ab7",
   "metadata": {},
   "source": [
    "# Tuplas"
   ]
  },
  {
   "cell_type": "code",
   "execution_count": 1,
   "id": "8bab98bd",
   "metadata": {},
   "outputs": [
    {
     "name": "stdout",
     "output_type": "stream",
     "text": [
      "('Python', 50, False, 100.75)\n"
     ]
    }
   ],
   "source": [
    "# Exercício 1 - Crie uma tupla com os seguintes elementos nessa ordem: 'Python', 50, False, 100.75\n",
    "tupla = ('Python', 50, False, 100.75)\n",
    "print(tupla)"
   ]
  },
  {
   "cell_type": "code",
   "execution_count": 2,
   "id": "721f0cc7",
   "metadata": {},
   "outputs": [
    {
     "name": "stdout",
     "output_type": "stream",
     "text": [
      "5\n"
     ]
    }
   ],
   "source": [
    "# Exercício 2 - Imprima o número 5 da tupla abaixo, usando slice/fatiamento\n",
    "numeros = (1, 4, 9, 2, 5, 3)\n",
    "print(numeros[4])\n",
    "print(numeros[numeros.index(5)])"
   ]
  },
  {
   "cell_type": "code",
   "execution_count": 3,
   "id": "591eae62",
   "metadata": {},
   "outputs": [
    {
     "name": "stdout",
     "output_type": "stream",
     "text": [
      "(4, 9, 2)\n"
     ]
    }
   ],
   "source": [
    "# Exercício 3 - Imprima os números 4, 9 e 2 a partir da tupla do exercício 2\n",
    "print(numeros[1:4])\n",
    "print(numeros[numeros.index(4):numeros.index(2)+1])"
   ]
  },
  {
   "cell_type": "code",
   "execution_count": 4,
   "id": "3064d34d",
   "metadata": {},
   "outputs": [
    {
     "name": "stdout",
     "output_type": "stream",
     "text": [
      "(21, 13, 8, 5, 3, 2, 1, 1, 0)\n"
     ]
    }
   ],
   "source": [
    "# Exercício 4 - Inverta a ordem dos números da tupla abaixo\n",
    "fibonacci = (0, 1, 1, 2, 3, 5, 8, 13, 21)\n",
    "print(fibonacci[::-1])"
   ]
  },
  {
   "cell_type": "code",
   "execution_count": 5,
   "id": "108219a6",
   "metadata": {},
   "outputs": [
    {
     "name": "stdout",
     "output_type": "stream",
     "text": [
      "4\n"
     ]
    }
   ],
   "source": [
    "# Exercício 5 - Quantas vezes o número 3 aparece na tupla abaixo?\n",
    "tupla_numeros = 1, 3, 5, 8, 2, 9, 3, 8, 4, 5, 8 , 1, 0, 9, 0, 2, 3, 4, 8, 3\n",
    "print(tupla_numeros.count(3))"
   ]
  },
  {
   "cell_type": "code",
   "execution_count": 8,
   "id": "83646b2d",
   "metadata": {},
   "outputs": [
    {
     "name": "stdout",
     "output_type": "stream",
     "text": [
      "86\n"
     ]
    }
   ],
   "source": [
    "# Exercício 6 - Qual a soma de todos números da tupla do exercício 5?\n",
    "print(sum(tupla_numeros))"
   ]
  },
  {
   "cell_type": "code",
   "execution_count": 9,
   "id": "9bd2f25f",
   "metadata": {},
   "outputs": [
    {
     "name": "stdout",
     "output_type": "stream",
     "text": [
      "True\n"
     ]
    }
   ],
   "source": [
    "# Exercício 7 - Verifique se o número 9 existe na tupla do exercício 5.\n",
    "print(9 in tupla_numeros)"
   ]
  },
  {
   "cell_type": "code",
   "execution_count": 11,
   "id": "eaafaf7a",
   "metadata": {},
   "outputs": [
    {
     "name": "stdout",
     "output_type": "stream",
     "text": [
      "1 2 3\n"
     ]
    }
   ],
   "source": [
    "# Exercício 8 - Crie 3 variáveis: a, b e c a partir da tupla abaixo\n",
    "tupla_abc = (1, 2, 3)\n",
    "a, b, c = tupla_abc\n",
    "print(a, b, c)"
   ]
  }
 ],
 "metadata": {
  "kernelspec": {
   "display_name": "Python 3",
   "language": "python",
   "name": "python3"
  },
  "language_info": {
   "codemirror_mode": {
    "name": "ipython",
    "version": 3
   },
   "file_extension": ".py",
   "mimetype": "text/x-python",
   "name": "python",
   "nbconvert_exporter": "python",
   "pygments_lexer": "ipython3",
   "version": "3.8.8"
  },
  "toc": {
   "base_numbering": 1,
   "nav_menu": {},
   "number_sections": true,
   "sideBar": true,
   "skip_h1_title": false,
   "title_cell": "Table of Contents",
   "title_sidebar": "Contents",
   "toc_cell": false,
   "toc_position": {},
   "toc_section_display": true,
   "toc_window_display": false
  }
 },
 "nbformat": 4,
 "nbformat_minor": 5
}
