{
 "cells": [
  {
   "cell_type": "code",
   "execution_count": 1,
   "id": "774ed962-7fbc-45f6-a9a0-53a3d9e38f6b",
   "metadata": {},
   "outputs": [
    {
     "name": "stdout",
     "output_type": "stream",
     "text": [
      "133\n"
     ]
    }
   ],
   "source": [
    "# Exercício 1 - Escreva uma função que recebe uma lista como parâmetro e retorne a soma dos números dentro da lista\n",
    "nums = [4, 19, 23, 36, 51]\n",
    "def somar_lista(lista):\n",
    "    return sum(lista)\n",
    "print(somar_lista(nums))"
   ]
  },
  {
   "cell_type": "code",
   "execution_count": 2,
   "id": "52c0347d-f145-41ef-bffd-d27b3b07505c",
   "metadata": {},
   "outputs": [
    {
     "name": "stdout",
     "output_type": "stream",
     "text": [
      "3209328\n"
     ]
    }
   ],
   "source": [
    "# Exercício 2 - Escreva uma função que recebe uma lista como parâmetro e retorne a multiplicação dos números dentro da lista\n",
    "nums = [4, 19, 23, 36, 51]\n",
    "def multiplicar_lista(lista):\n",
    "    total = 1\n",
    "    for x in lista:\n",
    "        total *= x\n",
    "    return total\n",
    "print(multiplicar_lista(nums))"
   ]
  },
  {
   "cell_type": "code",
   "execution_count": 3,
   "id": "94d3fe26-ea33-407f-9413-b2f2a9e7c10e",
   "metadata": {},
   "outputs": [
    {
     "name": "stdout",
     "output_type": "stream",
     "text": [
      "True\n",
      "False\n"
     ]
    }
   ],
   "source": [
    "# Exercício 3 - Escreva uma função que receba dois parâmetros: número e intervalo(range) e retorne se um número está em um determinado intervalo (retorno bool)\n",
    "def checar_num_intervalo(num, intervalo):\n",
    "    if num in list(intervalo):\n",
    "        return True\n",
    "    else:\n",
    "        return False\n",
    "print(checar_num_intervalo(2, range(1, 10)))\n",
    "print(checar_num_intervalo(50, range(1, 10)))"
   ]
  },
  {
   "cell_type": "code",
   "execution_count": 12,
   "id": "0abe8d4f-a3e0-4c62-a73b-5b09b7c45646",
   "metadata": {},
   "outputs": [
    {
     "name": "stdout",
     "output_type": "stream",
     "text": [
      "True\n",
      "False\n"
     ]
    }
   ],
   "source": [
    "# Exercício 4 - Escreva uma função para checar se uma palavra é um palíndromo\n",
    "def checar_palindromo(string):\n",
    "    return string == string[::-1]\n",
    "print(palindromo('arara'))\n",
    "print(palindromo('abacaxi'))"
   ]
  },
  {
   "cell_type": "code",
   "execution_count": 23,
   "id": "25f5ffce-3234-47ce-9d10-cabd662ea490",
   "metadata": {},
   "outputs": [
    {
     "name": "stdout",
     "output_type": "stream",
     "text": [
      "6\n",
      "15\n"
     ]
    }
   ],
   "source": [
    "# Exercício 5 - Escreva uma função que aceite qualquer quantidade de números e retorne a soma dos números\n",
    "# USAR args\n",
    "def somar_numeros(*nums):\n",
    "    return sum(nums)\n",
    "print(somar_numeros(1, 2, 3))\n",
    "print(somar_numeros(5, 10))"
   ]
  },
  {
   "cell_type": "code",
   "execution_count": 24,
   "id": "1cf5265e-4cc3-488c-a4c0-58b75460b2cf",
   "metadata": {},
   "outputs": [
    {
     "name": "stdout",
     "output_type": "stream",
     "text": [
      "6\n",
      "50\n"
     ]
    }
   ],
   "source": [
    "# Exercício 6 - Escreva uma função que aceite qualquer quantidade de números e retorne a multiplicação dos números\n",
    "# USAR args\n",
    "def multiplicar_numeros(*nums):\n",
    "    total = 1\n",
    "    for num in nums:\n",
    "        total *= num\n",
    "    return total\n",
    "print(multiplicar_numeros(1, 2, 3))\n",
    "print(multiplicar_numeros(10, 5))"
   ]
  },
  {
   "cell_type": "code",
   "execution_count": 18,
   "id": "8d23cdcc-cac4-4279-9a1c-e18e69f7032d",
   "metadata": {},
   "outputs": [
    {
     "name": "stdout",
     "output_type": "stream",
     "text": [
      "Nome: Caio\n",
      "Sobrenome: Alencikas\n",
      "Idade: 27\n",
      "Finalizou\n",
      "Nome: Caio\n",
      "Idade: 27\n",
      "Finalizou\n",
      "Finalizou\n",
      "Finalizou\n"
     ]
    }
   ],
   "source": [
    "# Exercício 7 - Escreva uma função onde seja possível o usuário passar o nome, o sobrenome e a idade. E imprima as informações que ele passar.\n",
    "# Se ele não passar nada ou passar uma chave(key) diferente, não imprima nada\n",
    "# USAR kwargs\n",
    "def infos_usuario(**infos):\n",
    "    for key in infos.keys():\n",
    "        if key in ('nome', 'sobrenome', 'idade'):\n",
    "            print(f'{key}: {infos[key]}')\n",
    "    print('Finalizou')\n",
    "infos_usuario(nome='Caio', sobrenome='Alencikas', idade=27, profissao='Analista de dados')\n",
    "infos_usuario(nome='Caio', sobrenome='Alencikas')\n",
    "infos_usuario(name='Caio', lastname='Alencikas')\n",
    "infos_usuario()"
   ]
  },
  {
   "cell_type": "code",
   "execution_count": null,
   "id": "ef8d5b54-5464-4f18-bbc5-50aa48f71439",
   "metadata": {},
   "outputs": [],
   "source": []
  }
 ],
 "metadata": {
  "kernelspec": {
   "display_name": "Python 3",
   "language": "python",
   "name": "python3"
  },
  "language_info": {
   "codemirror_mode": {
    "name": "ipython",
    "version": 3
   },
   "file_extension": ".py",
   "mimetype": "text/x-python",
   "name": "python",
   "nbconvert_exporter": "python",
   "pygments_lexer": "ipython3",
   "version": "3.8.8"
  }
 },
 "nbformat": 4,
 "nbformat_minor": 5
}
