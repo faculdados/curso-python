{
 "cells": [
  {
   "cell_type": "markdown",
   "id": "1dd3c82d",
   "metadata": {},
   "source": [
    "# Estruturas condicionais"
   ]
  },
  {
   "cell_type": "markdown",
   "id": "ce0b76e9",
   "metadata": {},
   "source": [
    "## if"
   ]
  },
  {
   "cell_type": "code",
   "execution_count": null,
   "id": "b158bf0d",
   "metadata": {},
   "outputs": [],
   "source": [
    "x = 5\n",
    "if x < 10:\n",
    "    print('X é menor que 10')"
   ]
  },
  {
   "cell_type": "code",
   "execution_count": null,
   "id": "88cd8ce7",
   "metadata": {},
   "outputs": [],
   "source": [
    "x = 15\n",
    "if x < 10:\n",
    "    print('X é menor que 10')"
   ]
  },
  {
   "cell_type": "code",
   "execution_count": null,
   "id": "e10c1461",
   "metadata": {},
   "outputs": [],
   "source": [
    "if True:\n",
    "    print('Executa')"
   ]
  },
  {
   "cell_type": "code",
   "execution_count": null,
   "id": "5ff85e97",
   "metadata": {},
   "outputs": [],
   "source": [
    "if False:\n",
    "    print('Executa')"
   ]
  },
  {
   "cell_type": "markdown",
   "id": "d6ebdbba",
   "metadata": {},
   "source": [
    "## else"
   ]
  },
  {
   "cell_type": "code",
   "execution_count": null,
   "id": "cf7d4b89",
   "metadata": {},
   "outputs": [],
   "source": [
    "n1 = int(input('Digite um número: '))\n",
    "n2 = int(input('Digite um número: '))\n",
    "\n",
    "if n1 == n2:\n",
    "    print('Os números são iguais')\n",
    "else:\n",
    "    print('Os números são diferentes')"
   ]
  },
  {
   "cell_type": "code",
   "execution_count": null,
   "id": "0835bc70",
   "metadata": {},
   "outputs": [],
   "source": [
    "idade = int(input('Digite sua idade: '))\n",
    "\n",
    "if idade < 18:\n",
    "    print('Menor de idade')\n",
    "else:\n",
    "    print('Maior de idade')"
   ]
  },
  {
   "cell_type": "markdown",
   "id": "e3bf75dc",
   "metadata": {},
   "source": [
    "## Elif"
   ]
  },
  {
   "cell_type": "code",
   "execution_count": null,
   "id": "03a280e4",
   "metadata": {},
   "outputs": [],
   "source": [
    "n1 = int(input('Digite um número: '))\n",
    "n2 = int(input('Digite um número: '))\n",
    "\n",
    "if n1 == n2:\n",
    "    print('Os números são iguais.')\n",
    "#else if n1 > n2:\n",
    "elif n1 > n2:\n",
    "    print('Primeiro número é maior.')\n",
    "else:\n",
    "    print('Segundo número é maior.')"
   ]
  },
  {
   "cell_type": "code",
   "execution_count": null,
   "id": "9e73d70e",
   "metadata": {},
   "outputs": [],
   "source": [
    "x = 5\n",
    "\n",
    "if x > 2:\n",
    "    print('If')\n",
    "elif x == 5:\n",
    "    print('Elif 1')\n",
    "elif x < 10:\n",
    "    print('Elif 2')\n",
    "else:\n",
    "    print('Else')\n",
    "    \n",
    "print('Final')"
   ]
  },
  {
   "cell_type": "code",
   "execution_count": null,
   "id": "4701318a",
   "metadata": {},
   "outputs": [],
   "source": [
    "lado1 = int(input('Lado 1 do triângulo: '))\n",
    "lado2 = int(input('Lado 2 do triângulo: '))\n",
    "lado3 = int(input('Lado 3 do triângulo: '))\n",
    "\n",
    "if lado1 == lado2 == lado3:\n",
    "    print('Triângulo equilátero.')\n",
    "elif lado1 == lado2 or lado2 == lado3 or lado1 == lado3:\n",
    "    print('Triângulo isósceles.')\n",
    "else:\n",
    "    print('Triângulo escaleno.')"
   ]
  },
  {
   "cell_type": "code",
   "execution_count": null,
   "id": "41769062",
   "metadata": {},
   "outputs": [],
   "source": [
    "senha = input('Digite sua senha: ')\n",
    "if senha == 'Caio':\n",
    "    print('Senha correta')\n",
    "else:\n",
    "    print('Senha incorreta')"
   ]
  }
 ],
 "metadata": {
  "kernelspec": {
   "display_name": "Python 3",
   "language": "python",
   "name": "python3"
  },
  "language_info": {
   "codemirror_mode": {
    "name": "ipython",
    "version": 3
   },
   "file_extension": ".py",
   "mimetype": "text/x-python",
   "name": "python",
   "nbconvert_exporter": "python",
   "pygments_lexer": "ipython3",
   "version": "3.8.8"
  },
  "toc": {
   "base_numbering": 1,
   "nav_menu": {},
   "number_sections": true,
   "sideBar": true,
   "skip_h1_title": false,
   "title_cell": "Table of Contents",
   "title_sidebar": "Contents",
   "toc_cell": false,
   "toc_position": {},
   "toc_section_display": true,
   "toc_window_display": false
  }
 },
 "nbformat": 4,
 "nbformat_minor": 5
}
