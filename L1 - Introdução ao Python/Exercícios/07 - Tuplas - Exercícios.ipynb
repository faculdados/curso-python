{
 "cells": [
  {
   "cell_type": "markdown",
   "id": "c17f8ab7",
   "metadata": {},
   "source": [
    "# Tuplas"
   ]
  },
  {
   "cell_type": "code",
   "execution_count": null,
   "id": "8bab98bd",
   "metadata": {},
   "outputs": [],
   "source": [
    "# Exercício 1 - Crie uma tupla com os seguintes elementos nessa ordem: 'Python', 50, False, 100.75\n",
    "tupla = ('Python', 50, False, 100.75)"
   ]
  },
  {
   "cell_type": "code",
   "execution_count": null,
   "id": "721f0cc7",
   "metadata": {},
   "outputs": [],
   "source": [
    "# Exercício 2 - Imprima o número 5 da tupla abaixo, usando slice/fatiamento\n",
    "numeros = (1, 4, 9, 2, 5, 3)"
   ]
  },
  {
   "cell_type": "code",
   "execution_count": null,
   "id": "591eae62",
   "metadata": {},
   "outputs": [],
   "source": [
    "# Exercício 3 - Imprima os números 4, 9 e 2 a partir da tupla do exercício 2"
   ]
  },
  {
   "cell_type": "code",
   "execution_count": null,
   "id": "3064d34d",
   "metadata": {},
   "outputs": [],
   "source": [
    "# Exercício 4 - Inverta a ordem dos números da tupla abaixo\n",
    "fibonacci = (0, 1, 1, 2, 3, 5, 8, 13, 21)"
   ]
  },
  {
   "cell_type": "code",
   "execution_count": null,
   "id": "108219a6",
   "metadata": {},
   "outputs": [],
   "source": [
    "# Exercício 5 - Quantas vezes o número 3 aparece na tupla abaixo?\n",
    "tupla_numeros = 1, 3, 5, 8, 2, 9, 3, 8, 4, 5, 8 , 1, 0, 9, 0, 2, 3, 4, 8, 3"
   ]
  },
  {
   "cell_type": "code",
   "execution_count": null,
   "id": "83646b2d",
   "metadata": {},
   "outputs": [],
   "source": [
    "# Exercício 6 - Qual a soma de todos números da tupla do exercício 5?"
   ]
  },
  {
   "cell_type": "code",
   "execution_count": null,
   "id": "9bd2f25f",
   "metadata": {},
   "outputs": [],
   "source": [
    "# Exercício 7 - Verifique se o número 9 existe na tupla do exercício 5."
   ]
  },
  {
   "cell_type": "code",
   "execution_count": null,
   "id": "eaafaf7a",
   "metadata": {},
   "outputs": [],
   "source": [
    "# Exercício 8 - Crie 3 variáveis: a, b e c a partir da tupla abaixo\n",
    "tupla_abc = (1, 2, 3"
   ]
  }
 ],
 "metadata": {
  "kernelspec": {
   "display_name": "Python 3",
   "language": "python",
   "name": "python3"
  },
  "language_info": {
   "codemirror_mode": {
    "name": "ipython",
    "version": 3
   },
   "file_extension": ".py",
   "mimetype": "text/x-python",
   "name": "python",
   "nbconvert_exporter": "python",
   "pygments_lexer": "ipython3",
   "version": "3.8.8"
  },
  "toc": {
   "base_numbering": 1,
   "nav_menu": {},
   "number_sections": true,
   "sideBar": true,
   "skip_h1_title": false,
   "title_cell": "Table of Contents",
   "title_sidebar": "Contents",
   "toc_cell": false,
   "toc_position": {},
   "toc_section_display": true,
   "toc_window_display": false
  }
 },
 "nbformat": 4,
 "nbformat_minor": 5
}
