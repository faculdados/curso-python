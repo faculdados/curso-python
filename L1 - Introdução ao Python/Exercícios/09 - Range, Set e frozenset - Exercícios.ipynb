{
 "cells": [
  {
   "cell_type": "markdown",
   "id": "9834199f",
   "metadata": {},
   "source": [
    "# Range"
   ]
  },
  {
   "cell_type": "code",
   "execution_count": null,
   "id": "3b7495a2",
   "metadata": {},
   "outputs": [],
   "source": [
    "# Exercício 1 - Crie um programa que mostre os números de 0 a 10."
   ]
  },
  {
   "cell_type": "code",
   "execution_count": null,
   "id": "1f8435c8",
   "metadata": {},
   "outputs": [],
   "source": [
    "# Exercício 2 - Crie um programa que mostre todas as dezenas de 10 a 100."
   ]
  },
  {
   "cell_type": "code",
   "execution_count": null,
   "id": "816ca26d",
   "metadata": {},
   "outputs": [],
   "source": [
    "# Exercício 3 - Crie um programa que mostre na tela todos os números pares que estão no intervalo entre 1 e 50."
   ]
  },
  {
   "cell_type": "markdown",
   "id": "903c2f7a",
   "metadata": {},
   "source": [
    "# Set e Fronzenset"
   ]
  },
  {
   "cell_type": "code",
   "execution_count": null,
   "id": "36d056a7",
   "metadata": {},
   "outputs": [],
   "source": [
    "# Exercício 4 - Transforme a lista abaixo em um set\n",
    "lst = [1, 3, 5, 7, 9, 6, 3]"
   ]
  },
  {
   "cell_type": "code",
   "execution_count": null,
   "id": "fc341d3d",
   "metadata": {},
   "outputs": [],
   "source": [
    "# Exercício 5 - Remova um elemento do set acima e mostre o elemento removido na tela."
   ]
  },
  {
   "cell_type": "code",
   "execution_count": null,
   "id": "84f4da8e",
   "metadata": {},
   "outputs": [],
   "source": [
    "# Exercício 6 - Verifique se o número 5 existe no set criado."
   ]
  },
  {
   "cell_type": "code",
   "execution_count": null,
   "id": "fb0e5f40",
   "metadata": {},
   "outputs": [],
   "source": [
    "# Exercício 7 - Imprima apenas os números que aparecem nos dois sets abaixo.\n",
    "set1 = {1, 3, 5, 7, 9}\n",
    "set2 = {9, 5, 3, 4, 6}"
   ]
  }
 ],
 "metadata": {
  "kernelspec": {
   "display_name": "Python 3",
   "language": "python",
   "name": "python3"
  },
  "language_info": {
   "codemirror_mode": {
    "name": "ipython",
    "version": 3
   },
   "file_extension": ".py",
   "mimetype": "text/x-python",
   "name": "python",
   "nbconvert_exporter": "python",
   "pygments_lexer": "ipython3",
   "version": "3.8.8"
  },
  "toc": {
   "base_numbering": 1,
   "nav_menu": {},
   "number_sections": true,
   "sideBar": true,
   "skip_h1_title": false,
   "title_cell": "Table of Contents",
   "title_sidebar": "Contents",
   "toc_cell": false,
   "toc_position": {},
   "toc_section_display": true,
   "toc_window_display": false
  }
 },
 "nbformat": 4,
 "nbformat_minor": 5
}
