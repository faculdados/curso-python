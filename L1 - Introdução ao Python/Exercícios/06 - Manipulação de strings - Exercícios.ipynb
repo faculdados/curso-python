{
 "cells": [
  {
   "cell_type": "markdown",
   "id": "38792627",
   "metadata": {},
   "source": [
    "# Manipulação de strings\n"
   ]
  },
  {
   "cell_type": "markdown",
   "id": "b54ff6b1",
   "metadata": {},
   "source": [
    "## Fatiamento de string"
   ]
  },
  {
   "cell_type": "code",
   "execution_count": null,
   "id": "8eddda51",
   "metadata": {},
   "outputs": [],
   "source": [
    "# Exercício 1 - Utilizando fatiamento na váriavel \"texto\" faça um print de 'Python'\n",
    "texto = 'Estou aprendendo Python'"
   ]
  },
  {
   "cell_type": "code",
   "execution_count": null,
   "id": "f0aa8d4c",
   "metadata": {},
   "outputs": [],
   "source": [
    "# Exercício 2 - Escreve um código que imprima 'abc' utilizando a variável texto_abc\n",
    "texto_abc = 'cba'"
   ]
  },
  {
   "cell_type": "code",
   "execution_count": null,
   "id": "272f985a",
   "metadata": {},
   "outputs": [],
   "source": [
    "# Exercícios 3 - Utilizando as variáveis abaixo com fatiamento de string, imprima o resultado 'xya abz'\n",
    "texto_1 = 'abc'\n",
    "texto_2 = 'xyz'"
   ]
  },
  {
   "cell_type": "code",
   "execution_count": null,
   "id": "b28ebe32",
   "metadata": {},
   "outputs": [],
   "source": [
    "# Exercício 4 - Imprima apenas as letras da variável abaixo, usando o fatiamento de string\n",
    "texto_completo = 'E1u2 3a4m5o6 7p8r9o1g2r3a4m5a6r7'"
   ]
  },
  {
   "cell_type": "markdown",
   "id": "1f3cebc2",
   "metadata": {},
   "source": [
    "## Funções"
   ]
  },
  {
   "cell_type": "code",
   "execution_count": null,
   "id": "61fab1ac",
   "metadata": {},
   "outputs": [],
   "source": [
    "# Exercício 5 - Peça pro usuário inserir uma palavra e imprima o tamanho da palavra, quantas letras possui\n",
    "palavra = input('Insira uma palavra: ')"
   ]
  },
  {
   "cell_type": "code",
   "execution_count": null,
   "id": "0f136f5e",
   "metadata": {},
   "outputs": [],
   "source": [
    "# Exercíco 6 - Substitui o \"s\" da palavra abaixo por $\n",
    "word = 'Restart'"
   ]
  },
  {
   "cell_type": "code",
   "execution_count": null,
   "id": "7131989f",
   "metadata": {},
   "outputs": [],
   "source": [
    "# Exercício 7 - Conte quantas vezes aparece a letra \"a\" na frase abaixo\n",
    "frase = 'Se não der certo da primeira vez, chame de versão 1.0.'"
   ]
  },
  {
   "cell_type": "code",
   "execution_count": null,
   "id": "68de3902",
   "metadata": {},
   "outputs": [],
   "source": [
    "# Exercício 8 - Remova os espaços no início e no final da frase abaixo\n",
    "frase2 = '      Hardware é a parte de um computador que você chuta; Software é a parte que você xinga.  '"
   ]
  }
 ],
 "metadata": {
  "kernelspec": {
   "display_name": "Python 3",
   "language": "python",
   "name": "python3"
  },
  "language_info": {
   "codemirror_mode": {
    "name": "ipython",
    "version": 3
   },
   "file_extension": ".py",
   "mimetype": "text/x-python",
   "name": "python",
   "nbconvert_exporter": "python",
   "pygments_lexer": "ipython3",
   "version": "3.8.8"
  },
  "toc": {
   "base_numbering": 1,
   "nav_menu": {},
   "number_sections": true,
   "sideBar": true,
   "skip_h1_title": false,
   "title_cell": "Table of Contents",
   "title_sidebar": "Contents",
   "toc_cell": false,
   "toc_position": {},
   "toc_section_display": true,
   "toc_window_display": false
  }
 },
 "nbformat": 4,
 "nbformat_minor": 5
}
