{
 "cells": [
  {
   "cell_type": "code",
   "execution_count": 1,
   "id": "774ed962-7fbc-45f6-a9a0-53a3d9e38f6b",
   "metadata": {},
   "outputs": [],
   "source": [
    "# Exercício 1 - Escreva uma função que recebe uma lista como parâmetro e retorne a soma dos números dentro da lista\n",
    "nums = [4, 19, 23, 36, 51]"
   ]
  },
  {
   "cell_type": "code",
   "execution_count": 2,
   "id": "52c0347d-f145-41ef-bffd-d27b3b07505c",
   "metadata": {},
   "outputs": [],
   "source": [
    "# Exercício 2 - Escreva uma função que recebe uma lista como parâmetro e retorne a multiplicação dos números dentro da lista\n",
    "nums = [4, 19, 23, 36, 51]"
   ]
  },
  {
   "cell_type": "code",
   "execution_count": 3,
   "id": "94d3fe26-ea33-407f-9413-b2f2a9e7c10e",
   "metadata": {},
   "outputs": [],
   "source": [
    "# Exercício 3 - Escreva uma função que receba dois parâmetros: número e intervalo(range) e retorne se um número está em um determinado intervalo (retorno bool)"
   ]
  },
  {
   "cell_type": "code",
   "execution_count": 4,
   "id": "0abe8d4f-a3e0-4c62-a73b-5b09b7c45646",
   "metadata": {},
   "outputs": [],
   "source": [
    "# Exercício 4 - Escreva uma função para checar se uma palavra é um palíndromo"
   ]
  },
  {
   "cell_type": "code",
   "execution_count": 5,
   "id": "25f5ffce-3234-47ce-9d10-cabd662ea490",
   "metadata": {},
   "outputs": [],
   "source": [
    "# Exercício 5 - Escreva uma função que aceite qualquer quantidade de números e retorne a soma dos números\n",
    "# USAR args"
   ]
  },
  {
   "cell_type": "code",
   "execution_count": 6,
   "id": "1cf5265e-4cc3-488c-a4c0-58b75460b2cf",
   "metadata": {},
   "outputs": [],
   "source": [
    "# Exercício 6 - Escreva uma função que aceite qualquer quantidade de números e retorne a multiplicação dos números\n",
    "# USAR args"
   ]
  },
  {
   "cell_type": "code",
   "execution_count": 7,
   "id": "8d23cdcc-cac4-4279-9a1c-e18e69f7032d",
   "metadata": {},
   "outputs": [],
   "source": [
    "# Exercício 7 - Escreva uma função onde seja possível o usuário passar o nome, o sobrenome e a idade. E imprima as informações que ele passar.\n",
    "# Se ele não passar nada ou passar uma chave(key) diferente, não imprima nada\n",
    "# USAR kwargs"
   ]
  },
  {
   "cell_type": "code",
   "execution_count": null,
   "id": "ef8d5b54-5464-4f18-bbc5-50aa48f71439",
   "metadata": {},
   "outputs": [],
   "source": []
  }
 ],
 "metadata": {
  "kernelspec": {
   "display_name": "Python 3",
   "language": "python",
   "name": "python3"
  },
  "language_info": {
   "codemirror_mode": {
    "name": "ipython",
    "version": 3
   },
   "file_extension": ".py",
   "mimetype": "text/x-python",
   "name": "python",
   "nbconvert_exporter": "python",
   "pygments_lexer": "ipython3",
   "version": "3.8.8"
  }
 },
 "nbformat": 4,
 "nbformat_minor": 5
}
