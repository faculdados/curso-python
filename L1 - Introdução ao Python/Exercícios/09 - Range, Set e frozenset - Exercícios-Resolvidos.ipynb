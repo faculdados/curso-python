{
 "cells": [
  {
   "cell_type": "markdown",
   "id": "9834199f",
   "metadata": {},
   "source": [
    "# Range"
   ]
  },
  {
   "cell_type": "code",
   "execution_count": 1,
   "id": "3b7495a2",
   "metadata": {},
   "outputs": [
    {
     "name": "stdout",
     "output_type": "stream",
     "text": [
      "[0, 1, 2, 3, 4, 5, 6, 7, 8, 9, 10]\n"
     ]
    }
   ],
   "source": [
    "# Exercício 1 - Crie um programa que mostre os números de 0 a 10.\n",
    "lst = list(range(11))\n",
    "print(lst)"
   ]
  },
  {
   "cell_type": "code",
   "execution_count": 2,
   "id": "1f8435c8",
   "metadata": {},
   "outputs": [
    {
     "name": "stdout",
     "output_type": "stream",
     "text": [
      "[10, 20, 30, 40, 50, 60, 70, 80, 90, 100]\n"
     ]
    }
   ],
   "source": [
    "# Exercício 2 - Crie um programa que mostre todas as dezenas de 10 a 100.\n",
    "lst = list(range(10, 101, 10))\n",
    "print(lst)"
   ]
  },
  {
   "cell_type": "code",
   "execution_count": 3,
   "id": "816ca26d",
   "metadata": {},
   "outputs": [
    {
     "name": "stdout",
     "output_type": "stream",
     "text": [
      "[2, 4, 6, 8, 10, 12, 14, 16, 18, 20, 22, 24, 26, 28, 30, 32, 34, 36, 38, 40, 42, 44, 46, 48, 50]\n"
     ]
    }
   ],
   "source": [
    "# Exercício 3 - Crie um programa que mostre na tela todos os números pares que estão no intervalo entre 1 e 50.\n",
    "lst = list(range(2, 51, 2))\n",
    "print(lst)"
   ]
  },
  {
   "cell_type": "markdown",
   "id": "903c2f7a",
   "metadata": {},
   "source": [
    "# Set e Fronzenset"
   ]
  },
  {
   "cell_type": "code",
   "execution_count": 4,
   "id": "36d056a7",
   "metadata": {},
   "outputs": [
    {
     "name": "stdout",
     "output_type": "stream",
     "text": [
      "{1, 3, 5, 6, 7, 9}\n"
     ]
    }
   ],
   "source": [
    "# Exercício 4 - Transforme a lista abaixo em um set\n",
    "lst = [1, 3, 5, 7, 9, 6, 3]\n",
    "set_num = set(lst)\n",
    "print(set_num)"
   ]
  },
  {
   "cell_type": "code",
   "execution_count": 5,
   "id": "fc341d3d",
   "metadata": {},
   "outputs": [
    {
     "name": "stdout",
     "output_type": "stream",
     "text": [
      "1\n"
     ]
    }
   ],
   "source": [
    "# Exercício 5 - Remova um elemento do set acima e mostre o elemento removido na tela.\n",
    "elemento_removido = set_num.pop()\n",
    "print(elemento_removido)"
   ]
  },
  {
   "cell_type": "code",
   "execution_count": 6,
   "id": "84f4da8e",
   "metadata": {},
   "outputs": [
    {
     "name": "stdout",
     "output_type": "stream",
     "text": [
      "True\n"
     ]
    }
   ],
   "source": [
    "# Exercício 6 - Verifique se o número 5 existe no set criado.\n",
    "print(5 in set_num)"
   ]
  },
  {
   "cell_type": "code",
   "execution_count": 7,
   "id": "fb0e5f40",
   "metadata": {},
   "outputs": [
    {
     "name": "stdout",
     "output_type": "stream",
     "text": [
      "{9, 3, 5}\n"
     ]
    }
   ],
   "source": [
    "# Exercício 7 - Imprima apenas os números que aparecem nos dois sets abaixo.\n",
    "set1 = {1, 3, 5, 7, 9}\n",
    "set2 = {9, 5, 3, 4, 6}\n",
    "print(set1.intersection(set2))"
   ]
  },
  {
   "cell_type": "code",
   "execution_count": null,
   "id": "ee410d90",
   "metadata": {},
   "outputs": [],
   "source": []
  }
 ],
 "metadata": {
  "kernelspec": {
   "display_name": "Python 3",
   "language": "python",
   "name": "python3"
  },
  "language_info": {
   "codemirror_mode": {
    "name": "ipython",
    "version": 3
   },
   "file_extension": ".py",
   "mimetype": "text/x-python",
   "name": "python",
   "nbconvert_exporter": "python",
   "pygments_lexer": "ipython3",
   "version": "3.8.8"
  },
  "toc": {
   "base_numbering": 1,
   "nav_menu": {},
   "number_sections": true,
   "sideBar": true,
   "skip_h1_title": false,
   "title_cell": "Table of Contents",
   "title_sidebar": "Contents",
   "toc_cell": false,
   "toc_position": {},
   "toc_section_display": true,
   "toc_window_display": false
  }
 },
 "nbformat": 4,
 "nbformat_minor": 5
}
