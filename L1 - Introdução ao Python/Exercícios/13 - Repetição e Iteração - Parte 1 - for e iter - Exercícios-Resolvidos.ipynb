{
 "cells": [
  {
   "cell_type": "markdown",
   "id": "48c256f1",
   "metadata": {},
   "source": [
    "# For"
   ]
  },
  {
   "cell_type": "code",
   "execution_count": 2,
   "id": "d704aee5",
   "metadata": {},
   "outputs": [
    {
     "name": "stdout",
     "output_type": "stream",
     "text": [
      "Olá, Pedro.\n",
      "Olá, Gustavo.\n",
      "Olá, Gabriel.\n",
      "Olá, Mário.\n"
     ]
    }
   ],
   "source": [
    "# Exercício 1 - Faça um loop para imprimir a frase \"Olá, {nome da pessoa}\" para cada pessoa da lista abaixo\n",
    "pessoas = ['Pedro', 'Gustavo', 'Gabriel', \"Mário\"]\n",
    "for pessoa in pessoas:\n",
    "    print(f'Olá, {pessoa}.')"
   ]
  },
  {
   "cell_type": "code",
   "execution_count": 3,
   "id": "23af9382",
   "metadata": {},
   "outputs": [
    {
     "name": "stdout",
     "output_type": "stream",
     "text": [
      "C\n",
      "o\n",
      "c\n",
      "a\n",
      " \n",
      "C\n",
      "o\n",
      "l\n",
      "a\n"
     ]
    }
   ],
   "source": [
    "# Exercício 2 - Faça um loop para imprimir cada letra da palavra abaixo\n",
    "palavra = 'Coca Cola'\n",
    "for letra in palavra:\n",
    "    print(letra)"
   ]
  },
  {
   "cell_type": "code",
   "execution_count": 15,
   "id": "21435802",
   "metadata": {},
   "outputs": [
    {
     "name": "stdout",
     "output_type": "stream",
     "text": [
      "['Dr. Pedro', 'Dr. Gustavo', 'Dr. Gabriel', 'Dr. Mário']\n"
     ]
    }
   ],
   "source": [
    "# Exercício 3 - Utilizando append e for coloque todos nomes da lista de pessoas com o prefixo \"Dr.\" antes do nome na lista \"doutores\"\n",
    "pessoas = ['Pedro', 'Gustavo', 'Gabriel', \"Mário\"]\n",
    "doutores = []\n",
    "for pessoa in pessoas:\n",
    "    doutores.append('Dr. ' + pessoa)\n",
    "print(doutores)"
   ]
  },
  {
   "cell_type": "code",
   "execution_count": 16,
   "id": "19810835",
   "metadata": {},
   "outputs": [
    {
     "name": "stdout",
     "output_type": "stream",
     "text": [
      "[5625, 8836, 10404, 92416, 3025, 144, 819025, 585225, 459684, 15376, 7056, 8281, 484]\n"
     ]
    }
   ],
   "source": [
    "# Exercício 4 - Utilizando append e for, crie uma lista \"quadrado\"\n",
    "# e coloque os números da lista abaixo, elevados ao quadrado, na nova lista\n",
    "numeros = [75, 94, 102, 304, 55, 12, 905, 765, 678, 124, 84, 91, 22]\n",
    "quadrado = []\n",
    "for numero in numeros:\n",
    "    quadrado.append(numero**2)\n",
    "print(quadrado)"
   ]
  },
  {
   "cell_type": "code",
   "execution_count": 17,
   "id": "77302e27",
   "metadata": {},
   "outputs": [
    {
     "name": "stdout",
     "output_type": "stream",
     "text": [
      "Lista pares: [94, 102, 304, 12, 678, 124, 84, 22]\n",
      "Lista impares: [75, 55, 905, 765, 91]\n"
     ]
    }
   ],
   "source": [
    "# Exercício 5 - Crie duas listas: \"pares\" e \"impares\" e utilizando append, for e if, \n",
    "# coloque os números da lista abaixo em suas respectivas listas\n",
    "numeros = [75, 94, 102, 304, 55, 12, 905, 765, 678, 124, 84, 91, 22]\n",
    "pares = []\n",
    "impares = []\n",
    "for numero in numeros:\n",
    "    if numero % 2 == 0:\n",
    "        pares.append(numero)\n",
    "    else:\n",
    "        impares.append(numero)\n",
    "print(f'Lista pares: {pares}')\n",
    "print(f'Lista impares: {impares}')"
   ]
  },
  {
   "cell_type": "code",
   "execution_count": 18,
   "id": "884424f9",
   "metadata": {},
   "outputs": [
    {
     "name": "stdout",
     "output_type": "stream",
     "text": [
      "13\n"
     ]
    }
   ],
   "source": [
    "# Exercício 6 - Utilizando o for, conte quantos números temos na lista abaixo e armazene na variável count\n",
    "numeros = [75, 94, 102, 304, 55, 12, 905, 765, 678, 124, 84, 91, 22]\n",
    "count = 0\n",
    "for numero in numeros:\n",
    "    count += 1\n",
    "print(count)"
   ]
  },
  {
   "cell_type": "code",
   "execution_count": 19,
   "id": "aad84732",
   "metadata": {},
   "outputs": [
    {
     "name": "stdout",
     "output_type": "stream",
     "text": [
      "3311\n"
     ]
    }
   ],
   "source": [
    "# Exercício 7 - Utilizando o for, some todos os números que temos na lista abaixo e armazene na variável soma\n",
    "numeros = [75, 94, 102, 304, 55, 12, 905, 765, 678, 124, 84, 91, 22]\n",
    "soma = 0\n",
    "for numero in numeros:\n",
    "    soma += numero\n",
    "print(soma)"
   ]
  },
  {
   "cell_type": "code",
   "execution_count": 21,
   "id": "27946aaf",
   "metadata": {},
   "outputs": [
    {
     "name": "stdout",
     "output_type": "stream",
     "text": [
      "75\n",
      "94\n",
      "102\n",
      "55\n",
      "12\n",
      "124\n",
      "84\n",
      "91\n",
      "22\n"
     ]
    }
   ],
   "source": [
    "# Exercício 8 - Imprima todos números mas quando o número for maior do que 200, pule utilizando o \"continue\" \n",
    "# e não imprima esse número\n",
    "numeros = [75, 94, 102, 304, 55, 12, 905, 765, 678, 124, 84, 91, 22]\n",
    "for numero in numeros:\n",
    "    if numero > 200:\n",
    "        continue\n",
    "    print(numero)"
   ]
  },
  {
   "cell_type": "code",
   "execution_count": 23,
   "id": "1526ccd2",
   "metadata": {},
   "outputs": [
    {
     "name": "stdout",
     "output_type": "stream",
     "text": [
      "75\n",
      "94\n",
      "102\n"
     ]
    }
   ],
   "source": [
    "# Exercício 9 - Imprima todos números mas quando o número for maior do que 200, utilize o \"break\" e saia do loop\n",
    "numeros = [75, 94, 102, 304, 55, 12, 905, 765, 678, 124, 84, 91, 22]\n",
    "for numero in numeros:\n",
    "    if numero > 200:\n",
    "        break\n",
    "    print(numero)"
   ]
  },
  {
   "cell_type": "code",
   "execution_count": 26,
   "id": "5d440691",
   "metadata": {},
   "outputs": [
    {
     "name": "stdout",
     "output_type": "stream",
     "text": [
      "Maiores de idade: [{'nome': 'Gustavo', 'idade': 25}, {'nome': 'Mário', 'idade': 45}]\n",
      "Menores de idade: [{'nome': 'Pedro', 'idade': 15}, {'nome': 'Gabriel', 'idade': 16}]\n"
     ]
    }
   ],
   "source": [
    "# Exercício 10 - Crie duas listas: \"Maior de idade\" e \"Menor de idade\" e utilizando append, for e if, \n",
    "# coloque o nome das pessoas em suas respectivas listas\n",
    "cadastros = [\n",
    "    {'nome': 'Pedro', 'idade': 15},\n",
    "    {'nome':  'Gustavo', 'idade': 25},\n",
    "    {'nome':  'Gabriel', 'idade': 16}, \n",
    "    {'nome':  \"Mário\", 'idade': 45}\n",
    "]\n",
    "maior_de_idade = []\n",
    "menor_de_idade = []\n",
    "for pessoa in cadastros:\n",
    "    if pessoa['idade'] >= 18:\n",
    "        maior_de_idade.append(pessoa)\n",
    "    else:\n",
    "        menor_de_idade.append(pessoa)\n",
    "        \n",
    "print(f'Maiores de idade: {maior_de_idade}')\n",
    "print(f'Menores de idade: {menor_de_idade}')"
   ]
  },
  {
   "cell_type": "code",
   "execution_count": 27,
   "id": "cad01ae7",
   "metadata": {},
   "outputs": [
    {
     "name": "stdout",
     "output_type": "stream",
     "text": [
      "2 Banana\n",
      "5 Banana\n",
      "10 Banana\n",
      "18 Banana\n",
      "2 Laranja\n",
      "5 Laranja\n",
      "10 Laranja\n",
      "18 Laranja\n",
      "2 Maçã\n",
      "5 Maçã\n",
      "10 Maçã\n",
      "18 Maçã\n"
     ]
    }
   ],
   "source": [
    "# Exercício 11 - Utilize um Nested loop (loop aninhado) para imprimir todas combinações de quantidades com as frutas\n",
    "# exemplo: 2 Banana, 5 Banana, 10 Banana, 18 Banana, 2 Laranja...\n",
    "quantidades = [2, 5, 10, 18]\n",
    "frutas = ['Banana', 'Laranja', 'Maçã']\n",
    "for fruta in frutas:\n",
    "    for quantidade in quantidades:\n",
    "        print(quantidade, fruta)"
   ]
  },
  {
   "cell_type": "code",
   "execution_count": 30,
   "id": "16c32523",
   "metadata": {},
   "outputs": [
    {
     "name": "stdout",
     "output_type": "stream",
     "text": [
      "O time São Paulo está em 2º lugar.\n",
      "O time Santos está em 4º lugar.\n",
      "O time Vasco está em 1º lugar.\n",
      "O time Fluminense está em 3º lugar.\n",
      "O time Flamengo está em 5º lugar.\n"
     ]
    }
   ],
   "source": [
    "# Exercício 12 - Usando for e zip, imprima a frase 'O time XXX está em XXXº lugar.', substituindo XXX pelo time e sua posição\n",
    "posicoes = [2, 4, 1, 3, 5]\n",
    "times = ['São Paulo', 'Santos', 'Vasco', 'Fluminense', 'Flamengo']\n",
    "for posicao, time in list(zip(posicoes, times)):\n",
    "    print(f'O time {time} está em {posicao}º lugar.')"
   ]
  }
 ],
 "metadata": {
  "kernelspec": {
   "display_name": "Python 3",
   "language": "python",
   "name": "python3"
  },
  "language_info": {
   "codemirror_mode": {
    "name": "ipython",
    "version": 3
   },
   "file_extension": ".py",
   "mimetype": "text/x-python",
   "name": "python",
   "nbconvert_exporter": "python",
   "pygments_lexer": "ipython3",
   "version": "3.8.8"
  },
  "toc": {
   "base_numbering": 1,
   "nav_menu": {},
   "number_sections": true,
   "sideBar": true,
   "skip_h1_title": false,
   "title_cell": "Table of Contents",
   "title_sidebar": "Contents",
   "toc_cell": false,
   "toc_position": {},
   "toc_section_display": true,
   "toc_window_display": false
  }
 },
 "nbformat": 4,
 "nbformat_minor": 5
}
