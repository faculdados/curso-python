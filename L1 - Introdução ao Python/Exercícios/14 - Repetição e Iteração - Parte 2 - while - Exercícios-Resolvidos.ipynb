{
 "cells": [
  {
   "cell_type": "markdown",
   "id": "fffe1cf6-9c45-4a73-9893-3834cdc24ff8",
   "metadata": {},
   "source": [
    "# While"
   ]
  },
  {
   "cell_type": "markdown",
   "id": "aca1e8ed-09b6-4264-9374-a02860b15648",
   "metadata": {},
   "source": [
    "Utilize While em todos exercícios"
   ]
  },
  {
   "cell_type": "markdown",
   "id": "8b7d46cf-7a57-4b70-8b48-01658ab63578",
   "metadata": {},
   "source": [
    "1. Faça loops para somar até 100 na variável total"
   ]
  },
  {
   "cell_type": "code",
   "execution_count": 18,
   "id": "363dc015-b68d-4175-99c8-c38da00c2edc",
   "metadata": {},
   "outputs": [
    {
     "name": "stdout",
     "output_type": "stream",
     "text": [
      "100\n"
     ]
    }
   ],
   "source": [
    "total = 0\n",
    "# utilize while\n",
    "while total < 100:\n",
    "    total += 1\n",
    "print(total)"
   ]
  },
  {
   "cell_type": "markdown",
   "id": "6dddb134-cd1a-4bb0-96ec-10754ee7d995",
   "metadata": {},
   "source": [
    "2.  Peça para o usuário digitar números, cada número adicione na variável \"soma\". Quando a variável soma atingir 50, encerre o programa"
   ]
  },
  {
   "cell_type": "code",
   "execution_count": 21,
   "id": "b9f61307-5dfd-4a09-8a92-89a73f094834",
   "metadata": {},
   "outputs": [
    {
     "name": "stdin",
     "output_type": "stream",
     "text": [
      "Digite um número:  45\n",
      "Digite um número:  10\n"
     ]
    },
    {
     "name": "stdout",
     "output_type": "stream",
     "text": [
      "55\n"
     ]
    }
   ],
   "source": [
    "soma = 0\n",
    "# utilize while\n",
    "while soma < 50:\n",
    "    num = int(input('Digite um número: '))\n",
    "    soma += num\n",
    "print(soma)"
   ]
  },
  {
   "cell_type": "markdown",
   "id": "02cfcda0-8da1-422b-813b-402901c215f5",
   "metadata": {},
   "source": [
    "3. Imprima na tela o padrão de números abaixo <br/>\n",
    "1 <br/>\n",
    "1 2 <br/>\n",
    "1 2 3 <br/>\n",
    "1 2 3 4 <br/>\n",
    "1 2 3 4 5<br/>"
   ]
  },
  {
   "cell_type": "code",
   "execution_count": 28,
   "id": "b837005c-0900-4d59-9a1d-9ae50c7d06bf",
   "metadata": {},
   "outputs": [
    {
     "name": "stdout",
     "output_type": "stream",
     "text": [
      "1 \n",
      "1 2 \n",
      "1 2 3 \n",
      "1 2 3 4 \n",
      "1 2 3 4 5 \n"
     ]
    }
   ],
   "source": [
    "c = 0\n",
    "lista = []\n",
    "while c < 5:\n",
    "    c+=1\n",
    "    lista.append(c)\n",
    "    for num in lista:\n",
    "        print(num, end=' ')\n",
    "    print()"
   ]
  },
  {
   "cell_type": "code",
   "execution_count": 30,
   "id": "b3d6d2fe-aa26-4fbf-8708-bbc9622e08bd",
   "metadata": {},
   "outputs": [
    {
     "name": "stdout",
     "output_type": "stream",
     "text": [
      "1 \n",
      "1 2 \n",
      "1 2 3 \n",
      "1 2 3 4 \n",
      "1 2 3 4 5 \n"
     ]
    }
   ],
   "source": [
    "lista = []\n",
    "for c in range(5):\n",
    "    lista.append(c+1)\n",
    "    for num in lista:\n",
    "        print(num, end=' ')\n",
    "    print()"
   ]
  },
  {
   "cell_type": "markdown",
   "id": "2c1429e0-857a-491a-9ea1-11ac812c828f",
   "metadata": {},
   "source": [
    "4. Peça pro usuário digitar um número, imprima a tabuada desse número, conforme abaixo:<br/>\n",
    "Exemplo: número 2<br/>\n",
    "2 x 1 = 2<br/>\n",
    "2 x 2 = 4<br/>\n",
    "2 x 3 = 6<br/>\n",
    "2 x 4 = 8<br/>\n",
    "2 x 5 = 10<br/>\n",
    "2 x 6 = 12<br/>\n",
    "2 x 7 = 14<br/>\n",
    "2 x 8 = 16<br/>\n",
    "2 x 9 = 18<br/>\n",
    "2 x 10 = 20<br/>"
   ]
  },
  {
   "cell_type": "code",
   "execution_count": 34,
   "id": "540fddbd-58b9-4338-8448-18d65f1ba377",
   "metadata": {},
   "outputs": [
    {
     "name": "stdin",
     "output_type": "stream",
     "text": [
      "Digite um número:  7\n"
     ]
    },
    {
     "name": "stdout",
     "output_type": "stream",
     "text": [
      "7 x 1 = 7\n",
      "7 x 2 = 14\n",
      "7 x 3 = 21\n",
      "7 x 4 = 28\n",
      "7 x 5 = 35\n",
      "7 x 6 = 42\n",
      "7 x 7 = 49\n",
      "7 x 8 = 56\n",
      "7 x 9 = 63\n",
      "7 x 10 = 70\n"
     ]
    }
   ],
   "source": [
    "c = 0\n",
    "numero = int(input('Digite um número: '))\n",
    "while c < 10:\n",
    "    c+=1\n",
    "    print(f'{numero} x {c} = {numero * c}')"
   ]
  },
  {
   "cell_type": "markdown",
   "id": "e5ad3c3e-4f4c-4faf-b067-e22e03747ad6",
   "metadata": {},
   "source": [
    "5. Peça pro usuário digitar números, some cada número na variável \"soma\". Quando ele digitar zero, encerre o programa e imprima a soma de todos números."
   ]
  },
  {
   "cell_type": "code",
   "execution_count": 37,
   "id": "4fe069fc-7950-48d6-ab6e-c9668da9e2eb",
   "metadata": {},
   "outputs": [
    {
     "name": "stdout",
     "output_type": "stream",
     "text": [
      "Digite 0 para sair\n"
     ]
    },
    {
     "name": "stdin",
     "output_type": "stream",
     "text": [
      "Digite um número:  5\n",
      "Digite um número:  8\n",
      "Digite um número:  9\n",
      "Digite um número:  10\n",
      "Digite um número:  16\n",
      "Digite um número:  0\n"
     ]
    },
    {
     "name": "stdout",
     "output_type": "stream",
     "text": [
      "48\n"
     ]
    }
   ],
   "source": [
    "print('Digite 0 para sair')\n",
    "soma = 0\n",
    "while True:\n",
    "    num = int(input('Digite um número: '))\n",
    "    if num == 0:\n",
    "        break\n",
    "    soma += num\n",
    "print(soma)"
   ]
  },
  {
   "cell_type": "code",
   "execution_count": null,
   "id": "f9c03c98-13b1-46d5-87af-1410a74238e0",
   "metadata": {},
   "outputs": [],
   "source": []
  }
 ],
 "metadata": {
  "kernelspec": {
   "display_name": "Python 3",
   "language": "python",
   "name": "python3"
  },
  "language_info": {
   "codemirror_mode": {
    "name": "ipython",
    "version": 3
   },
   "file_extension": ".py",
   "mimetype": "text/x-python",
   "name": "python",
   "nbconvert_exporter": "python",
   "pygments_lexer": "ipython3",
   "version": "3.8.8"
  },
  "toc": {
   "base_numbering": 1,
   "nav_menu": {},
   "number_sections": true,
   "sideBar": true,
   "skip_h1_title": false,
   "title_cell": "Table of Contents",
   "title_sidebar": "Contents",
   "toc_cell": false,
   "toc_position": {},
   "toc_section_display": true,
   "toc_window_display": false
  }
 },
 "nbformat": 4,
 "nbformat_minor": 5
}
