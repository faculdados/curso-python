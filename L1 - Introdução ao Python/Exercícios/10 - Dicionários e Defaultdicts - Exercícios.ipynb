{
 "cells": [
  {
   "cell_type": "markdown",
   "id": "ad91a478",
   "metadata": {},
   "source": [
    "# Dicionários {}"
   ]
  },
  {
   "cell_type": "code",
   "execution_count": null,
   "id": "edd8101a",
   "metadata": {},
   "outputs": [],
   "source": [
    "# Exercício 1 - Crie um dicionário chamado \"cliente\" com as chaves: nome, sobrenome e idade. Preencha com as suas informalções"
   ]
  },
  {
   "cell_type": "code",
   "execution_count": null,
   "id": "d267d411",
   "metadata": {},
   "outputs": [],
   "source": [
    "# Exercício 2 - Crie uma variável \"nome\" extraindo o nome do dicionário"
   ]
  },
  {
   "cell_type": "code",
   "execution_count": null,
   "id": "21d59c07",
   "metadata": {},
   "outputs": [],
   "source": [
    "# Exercício 3 - Atualize o dicionário \"cliente\" com as infos do dicionário abaixo\n",
    "novas_infos = {'país': 'Brasil', 'linguagem': 'Python'}"
   ]
  },
  {
   "cell_type": "code",
   "execution_count": null,
   "id": "45e52fd1",
   "metadata": {},
   "outputs": [],
   "source": [
    "# Exercício 4 - Apague todas as chaves e valores do dicionário \"novas_infos\", imprima o resultado para conferir."
   ]
  },
  {
   "cell_type": "code",
   "execution_count": null,
   "id": "3165467d",
   "metadata": {},
   "outputs": [],
   "source": [
    "# Exercício 5 - Delete o dicionário \"novas_infos\" e tente imprimir novamente"
   ]
  },
  {
   "cell_type": "code",
   "execution_count": null,
   "id": "fc20dc98",
   "metadata": {},
   "outputs": [],
   "source": [
    "# Exercício 6 - Remova a chave \"país do dicionário \"cliente\" e imprima ele na tela"
   ]
  }
 ],
 "metadata": {
  "kernelspec": {
   "display_name": "Python 3",
   "language": "python",
   "name": "python3"
  },
  "language_info": {
   "codemirror_mode": {
    "name": "ipython",
    "version": 3
   },
   "file_extension": ".py",
   "mimetype": "text/x-python",
   "name": "python",
   "nbconvert_exporter": "python",
   "pygments_lexer": "ipython3",
   "version": "3.8.8"
  },
  "toc": {
   "base_numbering": 1,
   "nav_menu": {},
   "number_sections": true,
   "sideBar": true,
   "skip_h1_title": false,
   "title_cell": "Table of Contents",
   "title_sidebar": "Contents",
   "toc_cell": false,
   "toc_position": {},
   "toc_section_display": true,
   "toc_window_display": false
  }
 },
 "nbformat": 4,
 "nbformat_minor": 5
}
