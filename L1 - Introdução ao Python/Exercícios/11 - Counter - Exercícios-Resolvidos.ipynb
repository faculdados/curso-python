{
 "cells": [
  {
   "cell_type": "markdown",
   "id": "5282f75e",
   "metadata": {},
   "source": [
    "# Counter"
   ]
  },
  {
   "cell_type": "code",
   "execution_count": 1,
   "id": "657a8d42",
   "metadata": {},
   "outputs": [],
   "source": [
    "from collections import Counter "
   ]
  },
  {
   "cell_type": "code",
   "execution_count": 2,
   "id": "ee37cc00",
   "metadata": {},
   "outputs": [
    {
     "name": "stdout",
     "output_type": "stream",
     "text": [
      "Counter({'c': 8, 'b': 5, 'a': 3})\n"
     ]
    }
   ],
   "source": [
    "# Exercício 1 -  Crie um Counter chamado \"contador\" com 3 letras \"a\", 5 letras \"b\" e 8 letras \"c\"\n",
    "contador = Counter('aaabbbbbcccccccc')\n",
    "print(contador)"
   ]
  },
  {
   "cell_type": "code",
   "execution_count": 3,
   "id": "f8405f2f",
   "metadata": {},
   "outputs": [
    {
     "name": "stdout",
     "output_type": "stream",
     "text": [
      "[('d', 19), ('b', 11), ('a', 5)]\n"
     ]
    }
   ],
   "source": [
    "# Exercício 2 - Imprima na tela as 3 letras mais comuns no Counter abaixo\n",
    "contador = Counter('abcdhbdtdebdacdhsbjwbdhasjdndbcgdbdasgdbdcbdgdbcadbdolekddd')\n",
    "print(contador.most_common(3))"
   ]
  },
  {
   "cell_type": "code",
   "execution_count": 4,
   "id": "e9e24f61",
   "metadata": {},
   "outputs": [
    {
     "name": "stdout",
     "output_type": "stream",
     "text": [
      "Counter({'d': 8, 'g': 6, 'a': 4, 'b': 3, 'l': 2, 'h': 2})\n",
      "[('d', 8), ('g', 6), ('a', 4)]\n"
     ]
    }
   ],
   "source": [
    "# Exercício 3 - Crie um Counter \"contador3\" com todos elementos do contador1 e do contador2. Imprima o contador3 inteiro e seus\n",
    "# 3 elementos mais comuns\n",
    "contador1 = Counter('aaaabbbddddddddll')\n",
    "contador2 = Counter('gggggghh')\n",
    "contador3 = contador1+contador2\n",
    "print(contador3)\n",
    "print(contador3.most_common(3))"
   ]
  },
  {
   "cell_type": "code",
   "execution_count": 5,
   "id": "accf2a5d",
   "metadata": {},
   "outputs": [
    {
     "name": "stdout",
     "output_type": "stream",
     "text": [
      "Counter({'g': 6, 'd': 5, 'a': 4, 'l': 2, 'h': 2, 'b': 1})\n",
      "[('g', 6), ('d', 5), ('a', 4)]\n"
     ]
    }
   ],
   "source": [
    "# Exercício 4 - Retire os elementos do contador4 do contador3. Imprima o contador3 inteiro e seus\n",
    "# 3 elementos mais comuns\n",
    "contador4 = Counter('dddbb')\n",
    "contador3 = contador3-contador4\n",
    "print(contador3)\n",
    "print(contador3.most_common(3))"
   ]
  },
  {
   "cell_type": "code",
   "execution_count": 6,
   "id": "d5f7f1b6",
   "metadata": {},
   "outputs": [
    {
     "name": "stdout",
     "output_type": "stream",
     "text": [
      "Counter({'a': 8, 'g': 6, 'd': 5, 'w': 3, 'l': 2, 'h': 2, 't': 2, 'b': 1})\n",
      "[('a', 8), ('g', 6), ('d', 5)]\n"
     ]
    }
   ],
   "source": [
    "# Exercício 5 - Crie um Counter \"contador_total\" somando os elementos do contador3 com o contador5. Quando houver elementos \n",
    "# repetidos, não some, mantenha o total de elementos do Counter que tiver a maior quantidade desse elemento\n",
    "# Imprima o contador_total inteiro e seus 3 elementos mais comuns\n",
    "contador5 = Counter('wwwttaaaaaaaa')\n",
    "contador_total = contador3 | contador5\n",
    "print(contador_total)\n",
    "print(contador_total.most_common(3))"
   ]
  }
 ],
 "metadata": {
  "kernelspec": {
   "display_name": "Python 3",
   "language": "python",
   "name": "python3"
  },
  "language_info": {
   "codemirror_mode": {
    "name": "ipython",
    "version": 3
   },
   "file_extension": ".py",
   "mimetype": "text/x-python",
   "name": "python",
   "nbconvert_exporter": "python",
   "pygments_lexer": "ipython3",
   "version": "3.8.8"
  },
  "toc": {
   "base_numbering": 1,
   "nav_menu": {},
   "number_sections": true,
   "sideBar": true,
   "skip_h1_title": false,
   "title_cell": "Table of Contents",
   "title_sidebar": "Contents",
   "toc_cell": false,
   "toc_position": {},
   "toc_section_display": true,
   "toc_window_display": false
  }
 },
 "nbformat": 4,
 "nbformat_minor": 5
}
