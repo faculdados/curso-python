{
 "cells": [
  {
   "cell_type": "markdown",
   "id": "ad91a478",
   "metadata": {},
   "source": [
    "# Dicionários {}"
   ]
  },
  {
   "cell_type": "code",
   "execution_count": 1,
   "id": "edd8101a",
   "metadata": {},
   "outputs": [
    {
     "name": "stdout",
     "output_type": "stream",
     "text": [
      "{'nome': 'Caio', 'sobrenome': 'Alencikas', 'idade': 26}\n"
     ]
    }
   ],
   "source": [
    "# Exercício 1 - Crie um dicionário chamado \"cliente\" com as chaves: nome, sobrenome e idade. Preencha com as suas informalções\n",
    "cliente = {'nome': 'Caio', 'sobrenome':'Alencikas', 'idade':26}\n",
    "print(cliente)"
   ]
  },
  {
   "cell_type": "code",
   "execution_count": 2,
   "id": "d267d411",
   "metadata": {},
   "outputs": [
    {
     "name": "stdout",
     "output_type": "stream",
     "text": [
      "Caio\n"
     ]
    }
   ],
   "source": [
    "# Exercício 2 - Crie uma variável \"nome\" extraindo o nome do dicionário\n",
    "nome = cliente['nome']\n",
    "print(nome)"
   ]
  },
  {
   "cell_type": "code",
   "execution_count": 3,
   "id": "21d59c07",
   "metadata": {},
   "outputs": [
    {
     "name": "stdout",
     "output_type": "stream",
     "text": [
      "{'nome': 'Caio', 'sobrenome': 'Alencikas', 'idade': 26, 'país': 'Brasil', 'linguagem': 'Python'}\n"
     ]
    }
   ],
   "source": [
    "# Exercício 3 - Atualize o dicionário \"cliente\" com as infos do dicionário abaixo\n",
    "novas_infos = {'país': 'Brasil', 'linguagem': 'Python'}\n",
    "cliente.update(novas_infos)\n",
    "print(cliente)"
   ]
  },
  {
   "cell_type": "code",
   "execution_count": 4,
   "id": "45e52fd1",
   "metadata": {},
   "outputs": [
    {
     "name": "stdout",
     "output_type": "stream",
     "text": [
      "{}\n"
     ]
    }
   ],
   "source": [
    "# Exercício 4 - Apague todas as chaves e valores do dicionário \"novas_infos\", imprima o resultado para conferir.\n",
    "novas_infos.clear()\n",
    "print(novas_infos)"
   ]
  },
  {
   "cell_type": "code",
   "execution_count": 5,
   "id": "3165467d",
   "metadata": {},
   "outputs": [
    {
     "ename": "NameError",
     "evalue": "name 'novas_infos' is not defined",
     "output_type": "error",
     "traceback": [
      "\u001b[1;31m---------------------------------------------------------------------------\u001b[0m",
      "\u001b[1;31mNameError\u001b[0m                                 Traceback (most recent call last)",
      "\u001b[1;32m<ipython-input-5-112e75c912b4>\u001b[0m in \u001b[0;36m<module>\u001b[1;34m\u001b[0m\n\u001b[0;32m      1\u001b[0m \u001b[1;31m# Exercício 5 - Delete o dicionário \"novas_infos\" e tente imprimir novamente\u001b[0m\u001b[1;33m\u001b[0m\u001b[1;33m\u001b[0m\u001b[1;33m\u001b[0m\u001b[0m\n\u001b[0;32m      2\u001b[0m \u001b[1;32mdel\u001b[0m \u001b[0mnovas_infos\u001b[0m\u001b[1;33m\u001b[0m\u001b[1;33m\u001b[0m\u001b[0m\n\u001b[1;32m----> 3\u001b[1;33m \u001b[0mprint\u001b[0m\u001b[1;33m(\u001b[0m\u001b[0mnovas_infos\u001b[0m\u001b[1;33m)\u001b[0m\u001b[1;33m\u001b[0m\u001b[1;33m\u001b[0m\u001b[0m\n\u001b[0m",
      "\u001b[1;31mNameError\u001b[0m: name 'novas_infos' is not defined"
     ]
    }
   ],
   "source": [
    "# Exercício 5 - Delete o dicionário \"novas_infos\" e tente imprimir novamente\n",
    "del novas_infos\n",
    "print(novas_infos)"
   ]
  },
  {
   "cell_type": "code",
   "execution_count": 6,
   "id": "fc20dc98",
   "metadata": {},
   "outputs": [
    {
     "name": "stdout",
     "output_type": "stream",
     "text": [
      "{'nome': 'Caio', 'sobrenome': 'Alencikas', 'idade': 26, 'linguagem': 'Python'}\n"
     ]
    }
   ],
   "source": [
    "# Exercício 6 - Remova a chave \"país do dicionário \"cliente\" e imprima ele na tela\n",
    "del cliente['país']\n",
    "print(cliente)"
   ]
  },
  {
   "cell_type": "code",
   "execution_count": null,
   "id": "01846992",
   "metadata": {},
   "outputs": [],
   "source": []
  }
 ],
 "metadata": {
  "kernelspec": {
   "display_name": "Python 3",
   "language": "python",
   "name": "python3"
  },
  "language_info": {
   "codemirror_mode": {
    "name": "ipython",
    "version": 3
   },
   "file_extension": ".py",
   "mimetype": "text/x-python",
   "name": "python",
   "nbconvert_exporter": "python",
   "pygments_lexer": "ipython3",
   "version": "3.8.8"
  },
  "toc": {
   "base_numbering": 1,
   "nav_menu": {},
   "number_sections": true,
   "sideBar": true,
   "skip_h1_title": false,
   "title_cell": "Table of Contents",
   "title_sidebar": "Contents",
   "toc_cell": false,
   "toc_position": {},
   "toc_section_display": true,
   "toc_window_display": false
  }
 },
 "nbformat": 4,
 "nbformat_minor": 5
}
