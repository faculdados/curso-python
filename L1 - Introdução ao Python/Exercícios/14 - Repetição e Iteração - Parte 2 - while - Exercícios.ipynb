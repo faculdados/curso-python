{
 "cells": [
  {
   "cell_type": "markdown",
   "id": "fffe1cf6-9c45-4a73-9893-3834cdc24ff8",
   "metadata": {},
   "source": [
    "# While"
   ]
  },
  {
   "cell_type": "markdown",
   "id": "aca1e8ed-09b6-4264-9374-a02860b15648",
   "metadata": {},
   "source": [
    "Utilize While em todos exercícios"
   ]
  },
  {
   "cell_type": "markdown",
   "id": "8b7d46cf-7a57-4b70-8b48-01658ab63578",
   "metadata": {},
   "source": [
    "1. Faça loops para somar até 100 na variável total"
   ]
  },
  {
   "cell_type": "code",
   "execution_count": 1,
   "id": "363dc015-b68d-4175-99c8-c38da00c2edc",
   "metadata": {},
   "outputs": [],
   "source": [
    "total = 0\n",
    "# utilize while"
   ]
  },
  {
   "cell_type": "markdown",
   "id": "6dddb134-cd1a-4bb0-96ec-10754ee7d995",
   "metadata": {},
   "source": [
    "2.  Peça para o usuário digitar números, cada número adicione na variável \"soma\". Quando a variável soma atingir 50, encerre o programa"
   ]
  },
  {
   "cell_type": "code",
   "execution_count": 2,
   "id": "b9f61307-5dfd-4a09-8a92-89a73f094834",
   "metadata": {},
   "outputs": [],
   "source": [
    "soma = 0\n",
    "# utilize while"
   ]
  },
  {
   "cell_type": "markdown",
   "id": "02cfcda0-8da1-422b-813b-402901c215f5",
   "metadata": {},
   "source": [
    "3. Imprima na tela o padrão de números abaixo <br/>\n",
    "1 <br/>\n",
    "1 2 <br/>\n",
    "1 2 3 <br/>\n",
    "1 2 3 4 <br/>\n",
    "1 2 3 4 5<br/>"
   ]
  },
  {
   "cell_type": "code",
   "execution_count": null,
   "id": "b837005c-0900-4d59-9a1d-9ae50c7d06bf",
   "metadata": {},
   "outputs": [],
   "source": []
  },
  {
   "cell_type": "markdown",
   "id": "2c1429e0-857a-491a-9ea1-11ac812c828f",
   "metadata": {},
   "source": [
    "4. Peça pro usuário digitar um número, imprima a tabuada desse número, conforme abaixo:<br/>\n",
    "Exemplo: número 2<br/>\n",
    "2 x 1 = 2<br/>\n",
    "2 x 2 = 4<br/>\n",
    "2 x 3 = 6<br/>\n",
    "2 x 4 = 8<br/>\n",
    "2 x 5 = 10<br/>\n",
    "2 x 6 = 12<br/>\n",
    "2 x 7 = 14<br/>\n",
    "2 x 8 = 16<br/>\n",
    "2 x 9 = 18<br/>\n",
    "2 x 10 = 20<br/>"
   ]
  },
  {
   "cell_type": "code",
   "execution_count": null,
   "id": "540fddbd-58b9-4338-8448-18d65f1ba377",
   "metadata": {},
   "outputs": [],
   "source": []
  },
  {
   "cell_type": "markdown",
   "id": "e5ad3c3e-4f4c-4faf-b067-e22e03747ad6",
   "metadata": {},
   "source": [
    "5. Peça pro usuário digitar números, some cada número na variável \"soma\". Quando ele digitar zero, encerre o programa e imprima a soma de todos números."
   ]
  },
  {
   "cell_type": "code",
   "execution_count": null,
   "id": "4fe069fc-7950-48d6-ab6e-c9668da9e2eb",
   "metadata": {},
   "outputs": [],
   "source": []
  }
 ],
 "metadata": {
  "kernelspec": {
   "display_name": "Python 3",
   "language": "python",
   "name": "python3"
  },
  "language_info": {
   "codemirror_mode": {
    "name": "ipython",
    "version": 3
   },
   "file_extension": ".py",
   "mimetype": "text/x-python",
   "name": "python",
   "nbconvert_exporter": "python",
   "pygments_lexer": "ipython3",
   "version": "3.8.8"
  },
  "toc": {
   "base_numbering": 1,
   "nav_menu": {},
   "number_sections": true,
   "sideBar": true,
   "skip_h1_title": false,
   "title_cell": "Table of Contents",
   "title_sidebar": "Contents",
   "toc_cell": false,
   "toc_position": {},
   "toc_section_display": true,
   "toc_window_display": false
  }
 },
 "nbformat": 4,
 "nbformat_minor": 5
}
