{
 "cells": [
  {
   "cell_type": "markdown",
   "id": "82e3c460",
   "metadata": {},
   "source": [
    "# Listas"
   ]
  },
  {
   "cell_type": "markdown",
   "id": "bfeb0274",
   "metadata": {},
   "source": [
    "## Criação e manipulação de listas "
   ]
  },
  {
   "cell_type": "code",
   "execution_count": 2,
   "id": "1378756d",
   "metadata": {},
   "outputs": [],
   "source": [
    "# Exercício 1 - Cria uma lista chamada \"frutas\" com os esses elementos(na mesma ordem): banana, morango e maçã\n",
    "frutas = ['banana', 'morango', 'maçã']\n",
    "print(frutas)"
   ]
  },
  {
   "cell_type": "code",
   "execution_count": 3,
   "id": "5cc59106",
   "metadata": {},
   "outputs": [
    {
     "name": "stdout",
     "output_type": "stream",
     "text": [
      "morango\n"
     ]
    }
   ],
   "source": [
    "# Exercício 2 - A partir da lista \"frutas\", imprima morango na tela\n",
    "print(frutas[1])"
   ]
  },
  {
   "cell_type": "code",
   "execution_count": 7,
   "id": "33e6c64c",
   "metadata": {},
   "outputs": [
    {
     "name": "stdout",
     "output_type": "stream",
     "text": [
      "['morango', 'maçã']\n"
     ]
    }
   ],
   "source": [
    "# Exercício 3 - Agora imprima morango e maçã\n",
    "print(frutas[1:])"
   ]
  },
  {
   "cell_type": "markdown",
   "id": "54f7fc0c",
   "metadata": {},
   "source": [
    "## Funções para manipular listas"
   ]
  },
  {
   "cell_type": "code",
   "execution_count": 20,
   "id": "ea53d820",
   "metadata": {},
   "outputs": [
    {
     "name": "stdout",
     "output_type": "stream",
     "text": [
      "['laranja', 'banana', 'morango', 'uva']\n"
     ]
    }
   ],
   "source": [
    "# Exercício 4 - Remova \"abacaxi\" da lista abaixo usando a função del()\n",
    "frutas = ['laranja', 'banana', 'abacaxi', 'morango', 'uva']\n",
    "del(frutas[2])\n",
    "print(frutas)"
   ]
  },
  {
   "cell_type": "code",
   "execution_count": 21,
   "id": "742d15f8",
   "metadata": {},
   "outputs": [
    {
     "name": "stdout",
     "output_type": "stream",
     "text": [
      "['laranja', 'banana', 'uva']\n"
     ]
    }
   ],
   "source": [
    "# Exercício 5 - Remova morango usando a função pop()\n",
    "frutas.pop(2)\n",
    "print(frutas)"
   ]
  },
  {
   "cell_type": "code",
   "execution_count": 22,
   "id": "714e5e29",
   "metadata": {},
   "outputs": [
    {
     "name": "stdout",
     "output_type": "stream",
     "text": [
      "['laranja', 'uva']\n"
     ]
    }
   ],
   "source": [
    "# Exercício 6 - Remova banana usando a função remove()\n",
    "frutas.remove('banana')\n",
    "print(frutas)"
   ]
  },
  {
   "cell_type": "code",
   "execution_count": 23,
   "id": "53bcc8a6",
   "metadata": {},
   "outputs": [
    {
     "name": "stdout",
     "output_type": "stream",
     "text": [
      "['laranja', 'uva', 'abacaxi']\n"
     ]
    }
   ],
   "source": [
    "# Exercício 7 - Adicione abacaxi na lista frutas em última posição\n",
    "frutas.append('abacaxi')\n",
    "print(frutas)"
   ]
  },
  {
   "cell_type": "code",
   "execution_count": 24,
   "id": "9f6fb5b0",
   "metadata": {},
   "outputs": [
    {
     "name": "stdout",
     "output_type": "stream",
     "text": [
      "['laranja', 'morango', 'uva', 'abacaxi']\n"
     ]
    }
   ],
   "source": [
    "# Exercício 8 - Adicione morango na lista frutas no índice 1\n",
    "frutas.insert(1, 'morango')\n",
    "print(frutas)"
   ]
  },
  {
   "cell_type": "code",
   "execution_count": 25,
   "id": "c69f5ef8",
   "metadata": {},
   "outputs": [
    {
     "name": "stdout",
     "output_type": "stream",
     "text": [
      "['laranja', 'morango', 'uva', 'abacaxi', 'tangerina', 'melancia']\n"
     ]
    }
   ],
   "source": [
    "# Exercício 9 - Adicione a lista frutas2 dentro da lista frutas\n",
    "frutas2 = ['tangerina', 'melancia']\n",
    "frutas.extend(frutas2)\n",
    "print(frutas)"
   ]
  },
  {
   "cell_type": "code",
   "execution_count": 26,
   "id": "b4ca8848",
   "metadata": {},
   "outputs": [
    {
     "name": "stdout",
     "output_type": "stream",
     "text": [
      "['uva', 'tangerina', 'morango', 'melancia', 'laranja', 'abacaxi']\n"
     ]
    }
   ],
   "source": [
    "# Exercício 10 - Ordene a lista frutas por ordem alfabética descendente\n",
    "frutas.sort(reverse=True)\n",
    "print(frutas)"
   ]
  },
  {
   "cell_type": "code",
   "execution_count": null,
   "id": "36e1abef",
   "metadata": {},
   "outputs": [],
   "source": [
    "# Exercício 11 - Substitua o XXX abaixo para que imprima todas as frutas separado por vírgula\n",
    "print(f'No nosso mercado você encontrará as seguintes frutas: {\", \".join(frutas)}.')"
   ]
  },
  {
   "cell_type": "markdown",
   "id": "449893b9",
   "metadata": {},
   "source": [
    "## Funções com listas"
   ]
  },
  {
   "cell_type": "code",
   "execution_count": 29,
   "id": "aba1d094",
   "metadata": {},
   "outputs": [
    {
     "name": "stdout",
     "output_type": "stream",
     "text": [
      "Digite o primeiro valor:5\n",
      "Digite o segundo valor:8\n",
      "Digite o terceiro valor:3\n",
      "O maior número é 8.0\n",
      "O menor número é 3.0\n"
     ]
    }
   ],
   "source": [
    "# Exercício 12 - Peça 3 números ao usuário, crie uma lista com eles e imprima o maior, o menor e a soma dos números\n",
    "n1 = float(input('Digite o primeiro valor:'))\n",
    "n2 = float(input('Digite o segundo valor:'))\n",
    "n3 = float(input('Digite o terceiro valor:'))\n",
    "lst_num = [n1, n2, n3]\n",
    "print(f'O maior número é {max(lst_num)}')\n",
    "print(f'O menor número é {min(lst_num)}')\n",
    "print(f'A soma dos números é {sum(lst_num)}')"
   ]
  },
  {
   "cell_type": "code",
   "execution_count": null,
   "id": "15e19d6d",
   "metadata": {},
   "outputs": [],
   "source": []
  }
 ],
 "metadata": {
  "kernelspec": {
   "display_name": "Python 3",
   "language": "python",
   "name": "python3"
  },
  "language_info": {
   "codemirror_mode": {
    "name": "ipython",
    "version": 3
   },
   "file_extension": ".py",
   "mimetype": "text/x-python",
   "name": "python",
   "nbconvert_exporter": "python",
   "pygments_lexer": "ipython3",
   "version": "3.8.8"
  },
  "toc": {
   "base_numbering": 1,
   "nav_menu": {},
   "number_sections": true,
   "sideBar": true,
   "skip_h1_title": false,
   "title_cell": "Table of Contents",
   "title_sidebar": "Contents",
   "toc_cell": false,
   "toc_position": {
    "height": "calc(100% - 180px)",
    "left": "10px",
    "top": "150px",
    "width": "384px"
   },
   "toc_section_display": true,
   "toc_window_display": false
  }
 },
 "nbformat": 4,
 "nbformat_minor": 5
}
