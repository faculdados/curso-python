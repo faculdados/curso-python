{
 "cells": [
  {
   "cell_type": "markdown",
   "id": "5282f75e",
   "metadata": {},
   "source": [
    "# Counter"
   ]
  },
  {
   "cell_type": "code",
   "execution_count": null,
   "id": "657a8d42",
   "metadata": {},
   "outputs": [],
   "source": [
    "from collections import Counter "
   ]
  },
  {
   "cell_type": "code",
   "execution_count": null,
   "id": "ee37cc00",
   "metadata": {},
   "outputs": [],
   "source": [
    "# Exercício 1 -  Crie um Counter chamado \"contador\" com 3 letras \"a\", 5 letras \"b\" e 8 letras \"c\""
   ]
  },
  {
   "cell_type": "code",
   "execution_count": null,
   "id": "f8405f2f",
   "metadata": {},
   "outputs": [],
   "source": [
    "# Exercício 2 - Imprima na tela as 3 letras mais comuns no Counter abaixo\n",
    "contador = Counter('abcdhbdtdebdacdhsbjwbdhasjdndbcgdbdasgdbdcbdgdbcadbdolekddd')"
   ]
  },
  {
   "cell_type": "code",
   "execution_count": null,
   "id": "e9e24f61",
   "metadata": {},
   "outputs": [],
   "source": [
    "# Exercício 3 - Crie um Counter \"contador3\" com todos elementos do contador1 e do contador2. Imprima o contador3 inteiro e seus\n",
    "# 3 elementos mais comuns\n",
    "contador1 = Counter('aaaabbbddddddddll')\n",
    "contador2 = Counter('gggggghh')"
   ]
  },
  {
   "cell_type": "code",
   "execution_count": null,
   "id": "accf2a5d",
   "metadata": {},
   "outputs": [],
   "source": [
    "# Exercício 4 - Retire os elementos do contador4 do contador3. Imprima o contador3 inteiro e seus\n",
    "# 3 elementos mais comuns\n",
    "contador4 = Counter('dddbb')"
   ]
  },
  {
   "cell_type": "code",
   "execution_count": null,
   "id": "d5f7f1b6",
   "metadata": {},
   "outputs": [],
   "source": [
    "# Exercício 5 - Crie um Counter \"contador_total\" somando os elementos do contador3 com o contador5. Quando houver elementos \n",
    "# repetidos, não some, mantenha o total de elementos do Counter que tiver a maior quantidade desse elemento\n",
    "# Imprima o contador_total inteiro e seus 3 elementos mais comuns\n",
    "contador5 = Counter('wwwttaaaaaaaa')"
   ]
  }
 ],
 "metadata": {
  "kernelspec": {
   "display_name": "Python 3",
   "language": "python",
   "name": "python3"
  },
  "language_info": {
   "codemirror_mode": {
    "name": "ipython",
    "version": 3
   },
   "file_extension": ".py",
   "mimetype": "text/x-python",
   "name": "python",
   "nbconvert_exporter": "python",
   "pygments_lexer": "ipython3",
   "version": "3.8.8"
  },
  "toc": {
   "base_numbering": 1,
   "nav_menu": {},
   "number_sections": true,
   "sideBar": true,
   "skip_h1_title": false,
   "title_cell": "Table of Contents",
   "title_sidebar": "Contents",
   "toc_cell": false,
   "toc_position": {},
   "toc_section_display": true,
   "toc_window_display": false
  }
 },
 "nbformat": 4,
 "nbformat_minor": 5
}
