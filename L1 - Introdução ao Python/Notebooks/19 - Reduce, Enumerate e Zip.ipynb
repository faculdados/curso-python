{
 "cells": [
  {
   "cell_type": "markdown",
   "id": "da84fb9a-b2a0-4d9c-a8c9-56326a7b297b",
   "metadata": {},
   "source": [
    "# Reduce"
   ]
  },
  {
   "cell_type": "code",
   "execution_count": 1,
   "id": "1d065505-19a0-44da-b793-33ec5498faf1",
   "metadata": {},
   "outputs": [],
   "source": [
    "# reduce(função, iterador[, valor inicial])  -> aplica a função aos elementos até que reste um elemento, de maneira cumulativa\n",
    "from functools import reduce"
   ]
  },
  {
   "cell_type": "code",
   "execution_count": 2,
   "id": "b8d512c2-dd3c-429f-ae9d-826220927edc",
   "metadata": {},
   "outputs": [
    {
     "data": {
      "text/plain": [
       "6"
      ]
     },
     "execution_count": 2,
     "metadata": {},
     "output_type": "execute_result"
    }
   ],
   "source": [
    "nums = [1, 2, 3]\n",
    "reduce(lambda x, y: x+y, nums)"
   ]
  },
  {
   "cell_type": "code",
   "execution_count": 3,
   "id": "a5919ce3-1124-4455-ad46-94612ef761fc",
   "metadata": {},
   "outputs": [
    {
     "data": {
      "text/plain": [
       "12"
      ]
     },
     "execution_count": 3,
     "metadata": {},
     "output_type": "execute_result"
    }
   ],
   "source": [
    "nums = [2, 2, 3]\n",
    "reduce(lambda x, y: x*y, nums)"
   ]
  },
  {
   "cell_type": "code",
   "execution_count": 4,
   "id": "33433de5-b6fc-47d3-8045-5a10299d7053",
   "metadata": {},
   "outputs": [
    {
     "data": {
      "text/plain": [
       "64"
      ]
     },
     "execution_count": 4,
     "metadata": {},
     "output_type": "execute_result"
    }
   ],
   "source": [
    "nums = [2, 2, 3]\n",
    "reduce(lambda x, y: x**y, nums)"
   ]
  },
  {
   "cell_type": "code",
   "execution_count": 5,
   "id": "da820fa8-49e1-4671-8a04-2824a6ef6b91",
   "metadata": {},
   "outputs": [
    {
     "data": {
      "text/plain": [
       "120"
      ]
     },
     "execution_count": 5,
     "metadata": {},
     "output_type": "execute_result"
    }
   ],
   "source": [
    "nums = [2, 2, 3, 10]\n",
    "reduce(lambda x, y: x*y, nums)"
   ]
  },
  {
   "cell_type": "code",
   "execution_count": 6,
   "id": "1e6ba95f-93ed-441d-8736-11d5ac85d83b",
   "metadata": {},
   "outputs": [
    {
     "data": {
      "text/plain": [
       "50"
      ]
     },
     "execution_count": 6,
     "metadata": {},
     "output_type": "execute_result"
    }
   ],
   "source": [
    "nums = [8, 9, 50, 23, 34]\n",
    "func = lambda a,b: a if (a>b) else b     \n",
    "reduce(func, nums)"
   ]
  },
  {
   "cell_type": "code",
   "execution_count": 7,
   "id": "ba963e08-b00e-4839-b364-ee09d1d6f7e9",
   "metadata": {},
   "outputs": [
    {
     "data": {
      "text/plain": [
       "56"
      ]
     },
     "execution_count": 7,
     "metadata": {},
     "output_type": "execute_result"
    }
   ],
   "source": [
    "nums = [1, 2, 3]\n",
    "reduce(lambda x, y: x+y, nums, 50)"
   ]
  },
  {
   "cell_type": "markdown",
   "id": "e321501b-d111-4c3e-a74e-8ae61e255019",
   "metadata": {},
   "source": [
    "# Enumerate"
   ]
  },
  {
   "cell_type": "code",
   "execution_count": 8,
   "id": "bb4c0998-50fb-4608-9083-2eb569bd8ae0",
   "metadata": {},
   "outputs": [],
   "source": [
    "# enumerate retorna (index, value)"
   ]
  },
  {
   "cell_type": "code",
   "execution_count": 9,
   "id": "9bde730f-5f92-4ae4-a240-32d6a5df9c05",
   "metadata": {},
   "outputs": [
    {
     "data": {
      "text/plain": [
       "[(0, 5), (1, 10), (2, 6), (3, 20)]"
      ]
     },
     "execution_count": 9,
     "metadata": {},
     "output_type": "execute_result"
    }
   ],
   "source": [
    "nums = [5, 10, 6, 20]\n",
    "list(enumerate(nums))"
   ]
  },
  {
   "cell_type": "code",
   "execution_count": 10,
   "id": "e62d1671-acb9-4f90-9a04-98680380d0a6",
   "metadata": {},
   "outputs": [
    {
     "data": {
      "text/plain": [
       "[5, 11, 8, 23]"
      ]
     },
     "execution_count": 10,
     "metadata": {},
     "output_type": "execute_result"
    }
   ],
   "source": [
    "from itertools import starmap, repeat\n",
    "list(starmap(lambda x, y: x+y, list(enumerate(nums))))"
   ]
  },
  {
   "cell_type": "code",
   "execution_count": 11,
   "id": "b5226fa3-2b88-4865-a1fb-8d978eb53f70",
   "metadata": {},
   "outputs": [
    {
     "name": "stdout",
     "output_type": "stream",
     "text": [
      "No índice 0 da lista temos o valor 5.\n",
      "No índice 1 da lista temos o valor 10.\n",
      "No índice 2 da lista temos o valor 6.\n",
      "No índice 3 da lista temos o valor 20.\n"
     ]
    }
   ],
   "source": [
    "nums = [5, 10, 6, 20]\n",
    "for index, value in enumerate(nums):\n",
    "    print(f'No índice {index} da lista temos o valor {value}.')"
   ]
  },
  {
   "cell_type": "code",
   "execution_count": 12,
   "id": "0e63bcf2-44bf-4832-a229-7d4565a2d648",
   "metadata": {},
   "outputs": [
    {
     "data": {
      "text/plain": [
       "[(0, 'Caio'), (1, 'Maria'), (2, 'Pedro')]"
      ]
     },
     "execution_count": 12,
     "metadata": {},
     "output_type": "execute_result"
    }
   ],
   "source": [
    "alunos = {'Caio': 10, 'Maria': 8, 'Pedro': 5}\n",
    "list(enumerate(alunos))"
   ]
  },
  {
   "cell_type": "code",
   "execution_count": 13,
   "id": "ed2b5937-a683-42c3-8566-0ba17d3e323f",
   "metadata": {},
   "outputs": [
    {
     "name": "stdout",
     "output_type": "stream",
     "text": [
      "No índice 0 da lista temos a chave Caio com o valor 10.\n",
      "No índice 1 da lista temos a chave Maria com o valor 8.\n",
      "No índice 2 da lista temos a chave Pedro com o valor 5.\n"
     ]
    }
   ],
   "source": [
    "alunos = {'Caio': 10, 'Maria': 8, 'Pedro': 5}\n",
    "for index, value in enumerate(alunos):\n",
    "    print(f'No índice {index} da lista temos a chave {value} com o valor {alunos[value]}.')"
   ]
  },
  {
   "cell_type": "markdown",
   "id": "053cbec9-a524-40bb-842e-c2ea748e0765",
   "metadata": {},
   "source": [
    "# Zip"
   ]
  },
  {
   "cell_type": "code",
   "execution_count": 14,
   "id": "cb57d8ff-991f-4cdd-86ad-36d1f6da00f1",
   "metadata": {},
   "outputs": [
    {
     "data": {
      "text/plain": [
       "[('a', 1), ('b', 2), ('c', 3), ('d', 4), ('e', 5)]"
      ]
     },
     "execution_count": 14,
     "metadata": {},
     "output_type": "execute_result"
    }
   ],
   "source": [
    "strings = ['a', 'b', 'c', 'd', 'e']\n",
    "nums = [1, 2, 3, 4, 5]\n",
    "\n",
    "list(map(lambda x, y: (x, y), strings, nums))"
   ]
  },
  {
   "cell_type": "code",
   "execution_count": 15,
   "id": "41a4fb34-7921-475c-ba1c-8038538a852b",
   "metadata": {},
   "outputs": [
    {
     "data": {
      "text/plain": [
       "[('a', 1), ('b', 2), ('c', 3), ('d', 4), ('e', 5)]"
      ]
     },
     "execution_count": 15,
     "metadata": {},
     "output_type": "execute_result"
    }
   ],
   "source": [
    "list(zip(strings, nums))"
   ]
  },
  {
   "cell_type": "code",
   "execution_count": 16,
   "id": "7609ea45-674c-49a5-bb87-264d38a5a6d2",
   "metadata": {},
   "outputs": [
    {
     "data": {
      "text/plain": [
       "[('Caio', 10), ('Maria', 8), ('Pedro', 5)]"
      ]
     },
     "execution_count": 16,
     "metadata": {},
     "output_type": "execute_result"
    }
   ],
   "source": [
    "nome = ['Caio', 'Maria', 'Pedro']\n",
    "nota = [10, 8, 5]\n",
    "list(zip(nome, nota))"
   ]
  },
  {
   "cell_type": "code",
   "execution_count": 17,
   "id": "1655d93a-697c-4ec2-977c-dfecedd0f98e",
   "metadata": {},
   "outputs": [
    {
     "data": {
      "text/plain": [
       "{'Caio': 10, 'Maria': 8, 'Pedro': 5}"
      ]
     },
     "execution_count": 17,
     "metadata": {},
     "output_type": "execute_result"
    }
   ],
   "source": [
    "dict(zip(nome, nota))"
   ]
  },
  {
   "cell_type": "code",
   "execution_count": 18,
   "id": "f7e67ba6-49b9-43f3-bf3c-da2741426a2a",
   "metadata": {},
   "outputs": [
    {
     "data": {
      "text/plain": [
       "[('Caio', 'Maria', 'Pedro'), (10, 8, 5)]"
      ]
     },
     "execution_count": 18,
     "metadata": {},
     "output_type": "execute_result"
    }
   ],
   "source": [
    "nomes_notas = list(zip(nome, nota))\n",
    "list(zip(*nomes_notas))"
   ]
  },
  {
   "cell_type": "code",
   "execution_count": 19,
   "id": "9ba36daf-efcf-4df2-b727-b115ad9bf2f6",
   "metadata": {},
   "outputs": [
    {
     "data": {
      "text/plain": [
       "[('Caio', 'Maria', 'Pedro'), (10, 8, 5)]"
      ]
     },
     "execution_count": 19,
     "metadata": {},
     "output_type": "execute_result"
    }
   ],
   "source": [
    "list(zip(*alunos.items()))"
   ]
  },
  {
   "cell_type": "code",
   "execution_count": null,
   "id": "f9aece34-be99-4c3a-ab07-a65bcb4c89de",
   "metadata": {},
   "outputs": [],
   "source": []
  }
 ],
 "metadata": {
  "kernelspec": {
   "display_name": "Python 3",
   "language": "python",
   "name": "python3"
  },
  "language_info": {
   "codemirror_mode": {
    "name": "ipython",
    "version": 3
   },
   "file_extension": ".py",
   "mimetype": "text/x-python",
   "name": "python",
   "nbconvert_exporter": "python",
   "pygments_lexer": "ipython3",
   "version": "3.8.8"
  }
 },
 "nbformat": 4,
 "nbformat_minor": 5
}
