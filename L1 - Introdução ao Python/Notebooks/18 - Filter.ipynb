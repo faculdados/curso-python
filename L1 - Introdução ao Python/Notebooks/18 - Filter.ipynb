{
 "cells": [
  {
   "cell_type": "markdown",
   "id": "9bf994af-f5df-48a7-8630-fa5e773c47a4",
   "metadata": {},
   "source": [
    "# Filter"
   ]
  },
  {
   "cell_type": "code",
   "execution_count": 1,
   "id": "00e9ad1f-a294-478c-b642-14f30427c4e9",
   "metadata": {},
   "outputs": [],
   "source": [
    "# filter(função, iterador)\n",
    "# função que retorna um boolean (True/False)"
   ]
  },
  {
   "cell_type": "code",
   "execution_count": 2,
   "id": "61c14d6b-89da-4932-81ed-b6de3d94904f",
   "metadata": {},
   "outputs": [
    {
     "data": {
      "text/plain": [
       "['Amar', 'Arte']"
      ]
     },
     "execution_count": 2,
     "metadata": {},
     "output_type": "execute_result"
    }
   ],
   "source": [
    "list(filter(lambda x: x[0] == 'A', ['Amar', 'Borboleta', 'Tigre', 'Arte']))"
   ]
  },
  {
   "cell_type": "code",
   "execution_count": 3,
   "id": "36cdcac1-a911-4e79-a071-c48e99b92057",
   "metadata": {},
   "outputs": [
    {
     "data": {
      "text/plain": [
       "['Amar', 'Borboleta', 'Tigre', 'Arte']"
      ]
     },
     "execution_count": 3,
     "metadata": {},
     "output_type": "execute_result"
    }
   ],
   "source": [
    "list(filter(str.upper, ['Amar', 'Borboleta', 'Tigre', 'Arte']))"
   ]
  },
  {
   "cell_type": "code",
   "execution_count": 4,
   "id": "ad73b364-3309-4c1d-930d-ff848f2d4066",
   "metadata": {},
   "outputs": [
    {
     "data": {
      "text/plain": [
       "[9, 8, 10, 7, 8, 10, 9, 7]"
      ]
     },
     "execution_count": 4,
     "metadata": {},
     "output_type": "execute_result"
    }
   ],
   "source": [
    "notas = [9, 5, 8, 10, 2, 7, 8, 3, 4, 10, 9, 7, 2]\n",
    "def checar_aprovado(nota):\n",
    "    return nota >= 6\n",
    "list(filter(checar_aprovado, notas))"
   ]
  },
  {
   "cell_type": "code",
   "execution_count": 5,
   "id": "74051d0a-9814-49a4-87a5-990c001f5257",
   "metadata": {},
   "outputs": [
    {
     "data": {
      "text/plain": [
       "{'Caio': 10, 'Maria': 8}"
      ]
     },
     "execution_count": 5,
     "metadata": {},
     "output_type": "execute_result"
    }
   ],
   "source": [
    "alunos = {'Caio': 10, 'Maria': 8, 'Pedro': 5}\n",
    "def checar_aprovado(nota):\n",
    "    return nota[1] >= 6\n",
    "dict(filter(checar_aprovado, alunos.items()))"
   ]
  }
 ],
 "metadata": {
  "kernelspec": {
   "display_name": "Python 3",
   "language": "python",
   "name": "python3"
  },
  "language_info": {
   "codemirror_mode": {
    "name": "ipython",
    "version": 3
   },
   "file_extension": ".py",
   "mimetype": "text/x-python",
   "name": "python",
   "nbconvert_exporter": "python",
   "pygments_lexer": "ipython3",
   "version": "3.8.8"
  }
 },
 "nbformat": 4,
 "nbformat_minor": 5
}
