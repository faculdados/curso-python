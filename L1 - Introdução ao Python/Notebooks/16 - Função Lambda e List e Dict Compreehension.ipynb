{
 "cells": [
  {
   "cell_type": "markdown",
   "id": "cdb5509c-a5e9-4969-9cb4-54151d799530",
   "metadata": {},
   "source": [
    "# Funções Lambda"
   ]
  },
  {
   "cell_type": "code",
   "execution_count": 1,
   "id": "9b6abc8e-2da6-4e63-b09d-e11be48dfa36",
   "metadata": {},
   "outputs": [],
   "source": [
    "def elevar_potencia(x, y):\n",
    "    return x ** y"
   ]
  },
  {
   "cell_type": "code",
   "execution_count": 2,
   "id": "bcbfc6e5-f483-4f32-a308-4740b902cf41",
   "metadata": {},
   "outputs": [
    {
     "data": {
      "text/plain": [
       "16"
      ]
     },
     "execution_count": 2,
     "metadata": {},
     "output_type": "execute_result"
    }
   ],
   "source": [
    "elevar_potencia(2, 4)"
   ]
  },
  {
   "cell_type": "code",
   "execution_count": 3,
   "id": "be916ba5-c33b-44ae-a598-dd4187d4b447",
   "metadata": {},
   "outputs": [],
   "source": [
    "elevar_potencia_lambda = lambda x, y: x ** y"
   ]
  },
  {
   "cell_type": "code",
   "execution_count": 4,
   "id": "ee2d4761-56f4-45a8-9271-00cfc27a2c12",
   "metadata": {},
   "outputs": [
    {
     "data": {
      "text/plain": [
       "16"
      ]
     },
     "execution_count": 4,
     "metadata": {},
     "output_type": "execute_result"
    }
   ],
   "source": [
    "elevar_potencia_lambda(2, 4)"
   ]
  },
  {
   "cell_type": "code",
   "execution_count": 434,
   "id": "766e75a7-eb73-4029-9746-34b0bd131d1b",
   "metadata": {},
   "outputs": [
    {
     "data": {
      "text/plain": [
       "16"
      ]
     },
     "execution_count": 434,
     "metadata": {},
     "output_type": "execute_result"
    }
   ],
   "source": [
    "(lambda x, y: x**y)(2,4)"
   ]
  },
  {
   "cell_type": "code",
   "execution_count": 5,
   "id": "caa0d74e-98c4-4d3d-94c8-e7f76e509adc",
   "metadata": {},
   "outputs": [],
   "source": [
    "somar = lambda x, y: x + y"
   ]
  },
  {
   "cell_type": "code",
   "execution_count": 6,
   "id": "aa2ff765-06b7-4456-b78e-2aabd4b40715",
   "metadata": {},
   "outputs": [
    {
     "data": {
      "text/plain": [
       "15"
      ]
     },
     "execution_count": 6,
     "metadata": {},
     "output_type": "execute_result"
    }
   ],
   "source": [
    "somar(5, 10)"
   ]
  },
  {
   "cell_type": "code",
   "execution_count": 438,
   "id": "3264f1f1-1a24-405b-be21-7054623afbc4",
   "metadata": {},
   "outputs": [],
   "source": [
    "def funcao_multiplicar(n):\n",
    "    return lambda a: a * n"
   ]
  },
  {
   "cell_type": "code",
   "execution_count": 439,
   "id": "4627245d-8159-429f-9cb6-12bdc83dbbf1",
   "metadata": {},
   "outputs": [],
   "source": [
    "duplicar = funcao_multiplicar(2)"
   ]
  },
  {
   "cell_type": "code",
   "execution_count": 440,
   "id": "d143a0b6-e1aa-4f6b-8a9a-edc368ed5c75",
   "metadata": {},
   "outputs": [
    {
     "data": {
      "text/plain": [
       "16"
      ]
     },
     "execution_count": 440,
     "metadata": {},
     "output_type": "execute_result"
    }
   ],
   "source": [
    "duplicar(8)"
   ]
  },
  {
   "cell_type": "code",
   "execution_count": 441,
   "id": "25306a62-0783-48be-b431-2a11c6a06e87",
   "metadata": {},
   "outputs": [
    {
     "data": {
      "text/plain": [
       "20"
      ]
     },
     "execution_count": 441,
     "metadata": {},
     "output_type": "execute_result"
    }
   ],
   "source": [
    "duplicar(10)"
   ]
  },
  {
   "cell_type": "code",
   "execution_count": 442,
   "id": "79757efc-e81e-4740-b2d2-5d499213be1b",
   "metadata": {},
   "outputs": [],
   "source": [
    "triplicar = funcao_multiplicar(3)"
   ]
  },
  {
   "cell_type": "code",
   "execution_count": 443,
   "id": "bf320149-a9c1-4ede-badf-8b9424ba406d",
   "metadata": {},
   "outputs": [
    {
     "data": {
      "text/plain": [
       "24"
      ]
     },
     "execution_count": 443,
     "metadata": {},
     "output_type": "execute_result"
    }
   ],
   "source": [
    "triplicar(8)"
   ]
  },
  {
   "cell_type": "code",
   "execution_count": 12,
   "id": "ed13c00d-52bc-4137-8357-d72331cd6bd8",
   "metadata": {},
   "outputs": [
    {
     "data": {
      "text/plain": [
       "30"
      ]
     },
     "execution_count": 12,
     "metadata": {},
     "output_type": "execute_result"
    }
   ],
   "source": [
    "triplicar(10)"
   ]
  },
  {
   "cell_type": "code",
   "execution_count": 13,
   "id": "6c56772d-4c66-4411-babb-75ae86f51456",
   "metadata": {},
   "outputs": [],
   "source": [
    "somar = lambda *nums: sum(nums)"
   ]
  },
  {
   "cell_type": "code",
   "execution_count": 14,
   "id": "1562bba9-fbbc-46c8-8c60-3f2f660eb42f",
   "metadata": {},
   "outputs": [
    {
     "data": {
      "text/plain": [
       "16"
      ]
     },
     "execution_count": 14,
     "metadata": {},
     "output_type": "execute_result"
    }
   ],
   "source": [
    "somar(1, 5, 10)"
   ]
  },
  {
   "cell_type": "code",
   "execution_count": 433,
   "id": "1fcbe609-fca4-4353-a728-6281db5a3709",
   "metadata": {},
   "outputs": [
    {
     "data": {
      "text/plain": [
       "['avião', 'bicicleta', 'carro', 'trem']"
      ]
     },
     "execution_count": 433,
     "metadata": {},
     "output_type": "execute_result"
    }
   ],
   "source": [
    "lista = ['carro', 'avião', 'trem', 'bicicleta']\n",
    "lista.sort(key=lambda x: x[0])\n",
    "lista"
   ]
  },
  {
   "cell_type": "markdown",
   "id": "d7809d04-9509-43d1-847e-3d74cfb95e5c",
   "metadata": {},
   "source": [
    "# List Comprehension"
   ]
  },
  {
   "cell_type": "code",
   "execution_count": 6,
   "id": "67f189b9-9ec3-424e-be2f-843ff3aebd4b",
   "metadata": {},
   "outputs": [
    {
     "data": {
      "text/plain": [
       "[1, 2, 3, 4]"
      ]
     },
     "execution_count": 6,
     "metadata": {},
     "output_type": "execute_result"
    }
   ],
   "source": [
    "lista = [1, 2, 3, 4]\n",
    "lista2 = [x for x in lista]\n",
    "lista2"
   ]
  },
  {
   "cell_type": "code",
   "execution_count": 7,
   "id": "898cb751-c261-41db-959f-73fbf6cb5e62",
   "metadata": {},
   "outputs": [
    {
     "data": {
      "text/plain": [
       "['p', 'y', 't', 'h', 'o', 'n']"
      ]
     },
     "execution_count": 7,
     "metadata": {},
     "output_type": "execute_result"
    }
   ],
   "source": [
    "lista3 = [x for x in 'python']\n",
    "lista3"
   ]
  },
  {
   "cell_type": "code",
   "execution_count": 8,
   "id": "f54bec7d-ffdc-4b95-bd4f-669d52748c36",
   "metadata": {},
   "outputs": [
    {
     "data": {
      "text/plain": [
       "[2, 3, 4, 5]"
      ]
     },
     "execution_count": 8,
     "metadata": {},
     "output_type": "execute_result"
    }
   ],
   "source": [
    "lista4 = [x + 1 for x in lista]\n",
    "lista4"
   ]
  },
  {
   "cell_type": "code",
   "execution_count": 10,
   "id": "32dedef2-1561-480b-bc87-d70926b2f4ce",
   "metadata": {},
   "outputs": [
    {
     "data": {
      "text/plain": [
       "[0, 1, 2, 3, 4, 5, 6, 7, 8, 9]"
      ]
     },
     "execution_count": 10,
     "metadata": {},
     "output_type": "execute_result"
    }
   ],
   "source": [
    "lista5 = [x for x in range(10)]\n",
    "lista5"
   ]
  },
  {
   "cell_type": "code",
   "execution_count": 2,
   "id": "40601d45-9716-428d-8336-c6ae57641618",
   "metadata": {},
   "outputs": [
    {
     "data": {
      "text/plain": [
       "[2, 4, 6, 8, 10]"
      ]
     },
     "execution_count": 2,
     "metadata": {},
     "output_type": "execute_result"
    }
   ],
   "source": [
    "numeros = [1, 2, 3, 4, 5, 6, 7, 8, 9, 10] \n",
    "pares = []\n",
    "\n",
    "for num in numeros:\n",
    "    if num % 2 == 0:\n",
    "        pares.append(num)\n",
    "pares"
   ]
  },
  {
   "cell_type": "code",
   "execution_count": 5,
   "id": "5451e6a5-65ff-4ab5-8daa-b063f041204b",
   "metadata": {},
   "outputs": [
    {
     "data": {
      "text/plain": [
       "[1, 3, 5, 7, 9]"
      ]
     },
     "execution_count": 5,
     "metadata": {},
     "output_type": "execute_result"
    }
   ],
   "source": [
    "impares = [num for num in numeros if num % 2 != 0]\n",
    "impares"
   ]
  },
  {
   "cell_type": "code",
   "execution_count": 16,
   "id": "2865082b-0e1c-4ffc-9034-c930fe295345",
   "metadata": {},
   "outputs": [
    {
     "data": {
      "text/plain": [
       "[0, 0, 4, 0, 16, 0, 36, 0, 64, 0, 100]"
      ]
     },
     "execution_count": 16,
     "metadata": {},
     "output_type": "execute_result"
    }
   ],
   "source": [
    "[x**2 if x % 2 == 0 else 0 for x in range(11)]"
   ]
  },
  {
   "cell_type": "code",
   "execution_count": 17,
   "id": "b150700e-62e0-441b-82ca-20fb262d3895",
   "metadata": {},
   "outputs": [
    {
     "ename": "SyntaxError",
     "evalue": "invalid syntax (<ipython-input-17-0fc5aa4faf4c>, line 1)",
     "output_type": "error",
     "traceback": [
      "\u001b[1;36m  File \u001b[1;32m\"<ipython-input-17-0fc5aa4faf4c>\"\u001b[1;36m, line \u001b[1;32m1\u001b[0m\n\u001b[1;33m    [x**2 for x in range(11)  if x % 2 == 0 else 0]\u001b[0m\n\u001b[1;37m                                            ^\u001b[0m\n\u001b[1;31mSyntaxError\u001b[0m\u001b[1;31m:\u001b[0m invalid syntax\n"
     ]
    }
   ],
   "source": [
    "[x**2 for x in range(11) if x % 2 == 0 else 0]"
   ]
  },
  {
   "cell_type": "code",
   "execution_count": 444,
   "id": "b65c3a5e-3cfb-45b0-8891-12167bb4194a",
   "metadata": {},
   "outputs": [
    {
     "ename": "SyntaxError",
     "evalue": "invalid syntax (<ipython-input-444-da2e199d0b40>, line 1)",
     "output_type": "error",
     "traceback": [
      "\u001b[1;36m  File \u001b[1;32m\"<ipython-input-444-da2e199d0b40>\"\u001b[1;36m, line \u001b[1;32m1\u001b[0m\n\u001b[1;33m    [x**2 if x % 2 == 0 for x in range(11)]\u001b[0m\n\u001b[1;37m                        ^\u001b[0m\n\u001b[1;31mSyntaxError\u001b[0m\u001b[1;31m:\u001b[0m invalid syntax\n"
     ]
    }
   ],
   "source": [
    "[x**2 if x % 2 == 0 for x in range(11)]"
   ]
  },
  {
   "cell_type": "markdown",
   "id": "a00e3a63-4e74-455f-bb41-0a022ce2e8f9",
   "metadata": {},
   "source": [
    "# Nested Loop\n"
   ]
  },
  {
   "cell_type": "code",
   "execution_count": 13,
   "id": "0c3b6300-1c8d-4d04-bd55-86167918ef1a",
   "metadata": {},
   "outputs": [
    {
     "data": {
      "text/plain": [
       "[(0, 6), (0, 7), (1, 6), (1, 7)]"
      ]
     },
     "execution_count": 13,
     "metadata": {},
     "output_type": "execute_result"
    }
   ],
   "source": [
    "lst = []\n",
    "for num1 in range(0, 2):\n",
    "    for num2 in range(6, 8):\n",
    "        lst.append((num1, num2))\n",
    "lst"
   ]
  },
  {
   "cell_type": "code",
   "execution_count": 12,
   "id": "852e5b67-dbbb-449a-87cd-f1039a5b575f",
   "metadata": {},
   "outputs": [
    {
     "data": {
      "text/plain": [
       "[(0, 6), (0, 7), (1, 6), (1, 7)]"
      ]
     },
     "execution_count": 12,
     "metadata": {},
     "output_type": "execute_result"
    }
   ],
   "source": [
    "lst = [(num1, num2) for num1 in range(0, 2) for num2 in range(6, 8)]\n",
    "lst"
   ]
  },
  {
   "cell_type": "code",
   "execution_count": 22,
   "id": "327bc1de-d3ad-4cfb-bd11-55502e9b23e0",
   "metadata": {},
   "outputs": [
    {
     "data": {
      "text/plain": [
       "[0, 1, 4, 9, 16, 25, 36, 49, 64, 81, 100]"
      ]
     },
     "execution_count": 22,
     "metadata": {},
     "output_type": "execute_result"
    }
   ],
   "source": [
    "[x**2 for x in range(11)]"
   ]
  },
  {
   "cell_type": "code",
   "execution_count": 21,
   "id": "18a5cd2f-1dbf-4561-8826-f670ff205595",
   "metadata": {},
   "outputs": [
    {
     "data": {
      "text/plain": [
       "[1, 2, 5, 10, 17, 26, 37, 50, 65, 82, 101]"
      ]
     },
     "execution_count": 21,
     "metadata": {},
     "output_type": "execute_result"
    }
   ],
   "source": [
    "[x+1 for x in [x**2 for x in range(11)]]"
   ]
  },
  {
   "cell_type": "markdown",
   "id": "41cd0253-76cc-425b-8fb6-0e48bba1fe6e",
   "metadata": {},
   "source": [
    "# Dict comprehension"
   ]
  },
  {
   "cell_type": "code",
   "execution_count": 24,
   "id": "3fd9eb88-7350-4de5-b346-f5af7ace9016",
   "metadata": {},
   "outputs": [
    {
     "data": {
      "text/plain": [
       "{0: 0, 1: 1, 2: 2, 3: 3, 4: 4, 5: 5, 6: 6, 7: 7, 8: 8, 9: 9, 10: 10}"
      ]
     },
     "execution_count": 24,
     "metadata": {},
     "output_type": "execute_result"
    }
   ],
   "source": [
    "{num:num for num in range(11)}"
   ]
  },
  {
   "cell_type": "code",
   "execution_count": 25,
   "id": "342177e9-7d06-45ee-8268-5e366efa6779",
   "metadata": {},
   "outputs": [
    {
     "data": {
      "text/plain": [
       "{0: 0, 1: -1, 2: -2, 3: -3, 4: -4, 5: -5, 6: -6, 7: -7, 8: -8, 9: -9, 10: -10}"
      ]
     },
     "execution_count": 25,
     "metadata": {},
     "output_type": "execute_result"
    }
   ],
   "source": [
    "{num:-num for num in range(11)}"
   ]
  },
  {
   "cell_type": "code",
   "execution_count": 26,
   "id": "07a9d5fb-7a07-4d93-9dc0-d82a60d5e78a",
   "metadata": {},
   "outputs": [
    {
     "data": {
      "text/plain": [
       "{0: 1, 1: 2, 2: 3, 3: 4, 4: 5, 5: 6, 6: 7, 7: 8, 8: 9, 9: 10, 10: 11}"
      ]
     },
     "execution_count": 26,
     "metadata": {},
     "output_type": "execute_result"
    }
   ],
   "source": [
    "{num:num+1 for num in range(11)}"
   ]
  },
  {
   "cell_type": "code",
   "execution_count": 29,
   "id": "e6c99b16-842d-45fe-8403-960bf52e8913",
   "metadata": {},
   "outputs": [
    {
     "data": {
      "text/plain": [
       "{'a': 1, 'b': 2, 'c': 3, 'd': 4}"
      ]
     },
     "execution_count": 29,
     "metadata": {},
     "output_type": "execute_result"
    }
   ],
   "source": [
    "keys = ['a', 'b', 'c', 'd']\n",
    "values = [1, 2, 3, 4]\n",
    "{key:value for (key, value) in zip(keys, values)}"
   ]
  },
  {
   "cell_type": "markdown",
   "id": "aa7a84f1-852c-4d46-b1ef-5de793c6b530",
   "metadata": {},
   "source": [
    "# Generator expressions"
   ]
  },
  {
   "cell_type": "code",
   "execution_count": 32,
   "id": "0ebf589c-7761-413a-a2db-7a5508730395",
   "metadata": {},
   "outputs": [
    {
     "data": {
      "text/plain": [
       "<generator object <genexpr> at 0x0000017031473350>"
      ]
     },
     "execution_count": 32,
     "metadata": {},
     "output_type": "execute_result"
    }
   ],
   "source": [
    "(x*2 for x in range(11))"
   ]
  },
  {
   "cell_type": "code",
   "execution_count": 33,
   "id": "389f24ed-7e1d-49c2-9604-72e7029c0c5e",
   "metadata": {},
   "outputs": [
    {
     "data": {
      "text/plain": [
       "[0, 2, 4, 6, 8, 10, 12, 14, 16, 18, 20]"
      ]
     },
     "execution_count": 33,
     "metadata": {},
     "output_type": "execute_result"
    }
   ],
   "source": [
    "list((x*2 for x in range(11)))"
   ]
  },
  {
   "cell_type": "code",
   "execution_count": 36,
   "id": "eed48f7d-3e8f-4b57-b0c6-be60ca20b10e",
   "metadata": {},
   "outputs": [],
   "source": [
    "# [num for num in range(10**1000000)] NÃO RODA\n",
    "gen = (num for num in range(10**1000000))"
   ]
  },
  {
   "cell_type": "code",
   "execution_count": 385,
   "id": "8a33519a-f252-42e8-9157-39872ce7f4d8",
   "metadata": {},
   "outputs": [
    {
     "data": {
      "text/plain": [
       "348"
      ]
     },
     "execution_count": 385,
     "metadata": {},
     "output_type": "execute_result"
    }
   ],
   "source": [
    "next(gen)"
   ]
  },
  {
   "cell_type": "code",
   "execution_count": 405,
   "id": "5fb552d3-8a97-4aa6-b628-23f36600ea89",
   "metadata": {},
   "outputs": [],
   "source": [
    "def num_sequence(n):  \n",
    "    i=0  \n",
    "    while i < n:\n",
    "        yield i\n",
    "        i+=1"
   ]
  },
  {
   "cell_type": "code",
   "execution_count": 413,
   "id": "f5dffed5-420c-4562-bcee-7d1d083bc437",
   "metadata": {},
   "outputs": [],
   "source": [
    "gen2 = num_sequence(10)"
   ]
  },
  {
   "cell_type": "code",
   "execution_count": 424,
   "id": "9e771e50-0f2e-4d9e-9016-666dd78bb7ad",
   "metadata": {},
   "outputs": [
    {
     "ename": "StopIteration",
     "evalue": "",
     "output_type": "error",
     "traceback": [
      "\u001b[1;31m---------------------------------------------------------------------------\u001b[0m",
      "\u001b[1;31mStopIteration\u001b[0m                             Traceback (most recent call last)",
      "\u001b[1;32m<ipython-input-424-ed377d6650ff>\u001b[0m in \u001b[0;36m<module>\u001b[1;34m\u001b[0m\n\u001b[1;32m----> 1\u001b[1;33m \u001b[0mnext\u001b[0m\u001b[1;33m(\u001b[0m\u001b[0mgen2\u001b[0m\u001b[1;33m)\u001b[0m\u001b[1;33m\u001b[0m\u001b[1;33m\u001b[0m\u001b[0m\n\u001b[0m",
      "\u001b[1;31mStopIteration\u001b[0m: "
     ]
    }
   ],
   "source": [
    "next(gen2)"
   ]
  },
  {
   "cell_type": "code",
   "execution_count": 425,
   "id": "174efa3b-a25c-41a7-850a-078871e9c260",
   "metadata": {},
   "outputs": [],
   "source": [
    "gen3 = (x for x in 'python')"
   ]
  },
  {
   "cell_type": "code",
   "execution_count": 432,
   "id": "6f301413-6d52-43b6-9d92-44b4359ab204",
   "metadata": {},
   "outputs": [
    {
     "ename": "StopIteration",
     "evalue": "",
     "output_type": "error",
     "traceback": [
      "\u001b[1;31m---------------------------------------------------------------------------\u001b[0m",
      "\u001b[1;31mStopIteration\u001b[0m                             Traceback (most recent call last)",
      "\u001b[1;32m<ipython-input-432-2df79d030080>\u001b[0m in \u001b[0;36m<module>\u001b[1;34m\u001b[0m\n\u001b[1;32m----> 1\u001b[1;33m \u001b[0mnext\u001b[0m\u001b[1;33m(\u001b[0m\u001b[0mgen3\u001b[0m\u001b[1;33m)\u001b[0m\u001b[1;33m\u001b[0m\u001b[1;33m\u001b[0m\u001b[0m\n\u001b[0m",
      "\u001b[1;31mStopIteration\u001b[0m: "
     ]
    }
   ],
   "source": [
    "next(gen3)"
   ]
  }
 ],
 "metadata": {
  "kernelspec": {
   "display_name": "Python 3",
   "language": "python",
   "name": "python3"
  },
  "language_info": {
   "codemirror_mode": {
    "name": "ipython",
    "version": 3
   },
   "file_extension": ".py",
   "mimetype": "text/x-python",
   "name": "python",
   "nbconvert_exporter": "python",
   "pygments_lexer": "ipython3",
   "version": "3.8.8"
  }
 },
 "nbformat": 4,
 "nbformat_minor": 5
}
