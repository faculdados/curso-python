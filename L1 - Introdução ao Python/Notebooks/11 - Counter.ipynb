{
 "cells": [
  {
   "cell_type": "markdown",
   "id": "0b8ee1e1",
   "metadata": {},
   "source": [
    "# Counter"
   ]
  },
  {
   "cell_type": "code",
   "execution_count": 1,
   "id": "027a8259",
   "metadata": {},
   "outputs": [],
   "source": [
    "from collections import Counter "
   ]
  },
  {
   "cell_type": "code",
   "execution_count": 3,
   "id": "54064e1d",
   "metadata": {},
   "outputs": [
    {
     "name": "stdout",
     "output_type": "stream",
     "text": [
      "Counter({'b': 3, 'a': 2, 'c': 1})\n"
     ]
    }
   ],
   "source": [
    "lista = ['a','b','c','a','b','b']\n",
    "contador = Counter(lista)\n",
    "print(contador)"
   ]
  },
  {
   "cell_type": "code",
   "execution_count": 4,
   "id": "8a68db31",
   "metadata": {},
   "outputs": [
    {
     "name": "stdout",
     "output_type": "stream",
     "text": [
      "Counter({'a': 5, 'b': 3, 'c': 1})\n"
     ]
    }
   ],
   "source": [
    "dicionario = {'b': 3, 'a': 5, 'c': 1}\n",
    "contador2 = Counter(dicionario)\n",
    "print(contador2)"
   ]
  },
  {
   "cell_type": "code",
   "execution_count": 5,
   "id": "68390617",
   "metadata": {},
   "outputs": [
    {
     "name": "stdout",
     "output_type": "stream",
     "text": [
      "Counter({'a': 3, 'b': 2, 'c': 1, 'd': 1})\n"
     ]
    }
   ],
   "source": [
    "c = Counter()\n",
    "c.update('abcdaab')\n",
    "print(c)"
   ]
  },
  {
   "cell_type": "code",
   "execution_count": 7,
   "id": "71618af8",
   "metadata": {},
   "outputs": [
    {
     "name": "stdout",
     "output_type": "stream",
     "text": [
      "Counter({'a': 5, 'd': 2, 'c': 1})\n"
     ]
    }
   ],
   "source": [
    "c = Counter()\n",
    "c.update({'a':5,'d':2,'c':1})\n",
    "print(c)"
   ]
  },
  {
   "cell_type": "code",
   "execution_count": 9,
   "id": "84860b03",
   "metadata": {},
   "outputs": [
    {
     "name": "stdout",
     "output_type": "stream",
     "text": [
      "Counter({'d': 19, 'b': 11, 'a': 5, 'c': 5, 'h': 3, 's': 3, 'g': 3, 'e': 2, 'j': 2, 't': 1, 'w': 1, 'n': 1, 'o': 1, 'l': 1, 'k': 1})\n"
     ]
    }
   ],
   "source": [
    "contador = Counter('abcdhbdtdebdacdhsbjwbdhasjdndbcgdbdasgdbdcbdgdbcadbdolekddd')\n",
    "print(contador)"
   ]
  },
  {
   "cell_type": "code",
   "execution_count": 10,
   "id": "e902f288",
   "metadata": {},
   "outputs": [
    {
     "data": {
      "text/plain": [
       "[('d', 19),\n",
       " ('b', 11),\n",
       " ('a', 5),\n",
       " ('c', 5),\n",
       " ('h', 3),\n",
       " ('s', 3),\n",
       " ('g', 3),\n",
       " ('e', 2),\n",
       " ('j', 2),\n",
       " ('t', 1),\n",
       " ('w', 1),\n",
       " ('n', 1),\n",
       " ('o', 1),\n",
       " ('l', 1),\n",
       " ('k', 1)]"
      ]
     },
     "execution_count": 10,
     "metadata": {},
     "output_type": "execute_result"
    }
   ],
   "source": [
    "contador.most_common()"
   ]
  },
  {
   "cell_type": "code",
   "execution_count": 11,
   "id": "bc8b677c",
   "metadata": {},
   "outputs": [
    {
     "data": {
      "text/plain": [
       "[('d', 19), ('b', 11), ('a', 5)]"
      ]
     },
     "execution_count": 11,
     "metadata": {},
     "output_type": "execute_result"
    }
   ],
   "source": [
    "contador.most_common(3)"
   ]
  },
  {
   "cell_type": "code",
   "execution_count": 12,
   "id": "cbdcab5f",
   "metadata": {},
   "outputs": [
    {
     "name": "stdout",
     "output_type": "stream",
     "text": [
      "Counter({'a': 2, 'b': 2, 'c': 2, 'd': 2, 'e': 2, 'f': 2})\n"
     ]
    }
   ],
   "source": [
    "c1 = Counter('abcabc')\n",
    "c2 = Counter('defdefaa')\n",
    "# Combined Counts\n",
    "c3 = c1+c2\n",
    "print(c3)"
   ]
  },
  {
   "cell_type": "code",
   "execution_count": 13,
   "id": "258bb0db",
   "metadata": {},
   "outputs": [
    {
     "name": "stdout",
     "output_type": "stream",
     "text": [
      "Counter({'d': 2, 'e': 2, 'f': 2})\n"
     ]
    }
   ],
   "source": [
    "# Subtraction\n",
    "c4 = c3 - c1\n",
    "print(c4)"
   ]
  },
  {
   "cell_type": "code",
   "execution_count": 15,
   "id": "f5a8701a",
   "metadata": {},
   "outputs": [
    {
     "data": {
      "text/plain": [
       "Counter({'a': 2, 'b': 2, 'c': 2})"
      ]
     },
     "execution_count": 15,
     "metadata": {},
     "output_type": "execute_result"
    }
   ],
   "source": [
    "# Intersection (taking positive minimuns)\n",
    "c1&c3"
   ]
  },
  {
   "cell_type": "code",
   "execution_count": 18,
   "id": "48b10a3a",
   "metadata": {},
   "outputs": [
    {
     "data": {
      "text/plain": [
       "Counter({'a': 2, 'b': 2, 'c': 2, 'd': 2, 'e': 2, 'f': 2})"
      ]
     },
     "execution_count": 18,
     "metadata": {},
     "output_type": "execute_result"
    }
   ],
   "source": [
    "# Union (taking maximuns)\n",
    "c5 = Counter('abcabcaaaaa')\n",
    "c5|c3"
   ]
  }
 ],
 "metadata": {
  "kernelspec": {
   "display_name": "Python 3",
   "language": "python",
   "name": "python3"
  },
  "language_info": {
   "codemirror_mode": {
    "name": "ipython",
    "version": 3
   },
   "file_extension": ".py",
   "mimetype": "text/x-python",
   "name": "python",
   "nbconvert_exporter": "python",
   "pygments_lexer": "ipython3",
   "version": "3.8.8"
  },
  "toc": {
   "base_numbering": 1,
   "nav_menu": {},
   "number_sections": true,
   "sideBar": true,
   "skip_h1_title": false,
   "title_cell": "Table of Contents",
   "title_sidebar": "Contents",
   "toc_cell": false,
   "toc_position": {},
   "toc_section_display": true,
   "toc_window_display": false
  }
 },
 "nbformat": 4,
 "nbformat_minor": 5
}
