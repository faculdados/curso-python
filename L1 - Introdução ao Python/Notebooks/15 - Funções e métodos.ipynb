{
 "cells": [
  {
   "cell_type": "markdown",
   "id": "f0ee4942-a046-4c14-b185-bc238fd4a708",
   "metadata": {
    "tags": []
   },
   "source": [
    "# Funções"
   ]
  },
  {
   "cell_type": "markdown",
   "id": "fd1426b5-5b72-4ecb-8813-22302de6f0a2",
   "metadata": {},
   "source": [
    "Built-in Functions:\n",
    "- max()\n",
    "- round()\n",
    "- abs()\n",
    "- pow()\n",
    "- len()\n",
    "- int()\n",
    "- str()"
   ]
  },
  {
   "cell_type": "markdown",
   "id": "97c658ca-9406-4ca7-b73c-c15b05676a49",
   "metadata": {},
   "source": [
    "print('Hello world!')\n",
    "print()\n",
    "print('Hello world!')"
   ]
  },
  {
   "cell_type": "code",
   "execution_count": 2,
   "id": "335d75e3-aab1-4cb6-bff5-ad283bbfcc5f",
   "metadata": {},
   "outputs": [
    {
     "name": "stdout",
     "output_type": "stream",
     "text": [
      "4\n"
     ]
    }
   ],
   "source": [
    "lista = [1, 2, 3, 4]\n",
    "print(len(lista))"
   ]
  },
  {
   "cell_type": "code",
   "execution_count": 23,
   "id": "af88a080-1aa0-41bb-9f75-c38b4cdf0787",
   "metadata": {},
   "outputs": [
    {
     "name": "stdout",
     "output_type": "stream",
     "text": [
      "4.13\n",
      "4\n"
     ]
    }
   ],
   "source": [
    "print(round(4.1312312, 2))\n",
    "print(round(4.1312312))"
   ]
  },
  {
   "cell_type": "markdown",
   "id": "e4c7c508-4e91-447c-a871-05165833b94b",
   "metadata": {},
   "source": [
    "# Métodos"
   ]
  },
  {
   "cell_type": "markdown",
   "id": "2ca34281-b4c4-4b0b-8fd8-f52bc25107c4",
   "metadata": {},
   "source": [
    "- Métodos são funções que pertencem a objetos\n",
    "-> str:\n",
    "    - capitalize()\n",
    "    - replace()\n",
    "-> list:\n",
    "    - index()\n",
    "    - count()\n",
    "    - append()\n",
    "    - pop()"
   ]
  },
  {
   "cell_type": "code",
   "execution_count": 4,
   "id": "f7f4be62-cdad-4844-8fd4-273ec275dd7b",
   "metadata": {},
   "outputs": [
    {
     "name": "stdout",
     "output_type": "stream",
     "text": [
      "Caio\n"
     ]
    }
   ],
   "source": [
    "nome = 'caio'\n",
    "print(nome.capitalize())"
   ]
  },
  {
   "cell_type": "code",
   "execution_count": 3,
   "id": "b46acf2e-2876-494a-a2bb-1db77d9584a0",
   "metadata": {},
   "outputs": [
    {
     "name": "stdout",
     "output_type": "stream",
     "text": [
      "[1, 2, 3, 4, 5]\n"
     ]
    }
   ],
   "source": [
    "lista.append(5)\n",
    "print(lista)"
   ]
  },
  {
   "cell_type": "code",
   "execution_count": 4,
   "id": "808a26f4-e610-43c7-a448-289ec7b649f7",
   "metadata": {},
   "outputs": [
    {
     "name": "stdout",
     "output_type": "stream",
     "text": [
      "[1, 2, 3, 4]\n"
     ]
    }
   ],
   "source": [
    "lista.pop(4)\n",
    "print(lista)"
   ]
  },
  {
   "cell_type": "code",
   "execution_count": 5,
   "id": "2ebc2288-dfc5-436b-8945-c41798e020d5",
   "metadata": {},
   "outputs": [
    {
     "name": "stdout",
     "output_type": "stream",
     "text": [
      "[1, 2, 3]\n"
     ]
    }
   ],
   "source": [
    "lista.pop()\n",
    "print(lista)"
   ]
  },
  {
   "cell_type": "markdown",
   "id": "53e5f4fc-9874-4bfe-b440-91c599c7d41e",
   "metadata": {},
   "source": [
    "# Help e atributos"
   ]
  },
  {
   "cell_type": "code",
   "execution_count": 24,
   "id": "7d12e58b-36df-44c1-8124-bddbcd456feb",
   "metadata": {},
   "outputs": [
    {
     "name": "stdout",
     "output_type": "stream",
     "text": [
      "Help on built-in function round in module builtins:\n",
      "\n",
      "round(number, ndigits=None)\n",
      "    Round a number to a given precision in decimal digits.\n",
      "    \n",
      "    The return value is an integer if ndigits is omitted or None.  Otherwise\n",
      "    the return value has the same type as the number.  ndigits may be negative.\n",
      "\n"
     ]
    }
   ],
   "source": [
    "help(round)"
   ]
  },
  {
   "cell_type": "code",
   "execution_count": 27,
   "id": "f4e0679b-2f13-4245-b8ed-0d604c3840d9",
   "metadata": {},
   "outputs": [
    {
     "name": "stdout",
     "output_type": "stream",
     "text": [
      "Help on built-in function print in module builtins:\n",
      "\n",
      "print(...)\n",
      "    print(value, ..., sep=' ', end='\\n', file=sys.stdout, flush=False)\n",
      "    \n",
      "    Prints the values to a stream, or to sys.stdout by default.\n",
      "    Optional keyword arguments:\n",
      "    file:  a file-like object (stream); defaults to the current sys.stdout.\n",
      "    sep:   string inserted between values, default a space.\n",
      "    end:   string appended after the last value, default a newline.\n",
      "    flush: whether to forcibly flush the stream.\n",
      "\n"
     ]
    }
   ],
   "source": [
    "help(print)"
   ]
  },
  {
   "cell_type": "code",
   "execution_count": null,
   "id": "12d2d671-f029-4a3c-9acb-62640b0e6d14",
   "metadata": {},
   "outputs": [],
   "source": [
    "print('Olá', 'Mundo', 'Tchau', sep=', ')\n",
    "print('Caio')"
   ]
  },
  {
   "cell_type": "code",
   "execution_count": 29,
   "id": "1490c593-246a-4a1f-838f-cc778a9db395",
   "metadata": {},
   "outputs": [
    {
     "name": "stdout",
     "output_type": "stream",
     "text": [
      "Help on built-in function pop:\n",
      "\n",
      "pop(index=-1, /) method of builtins.list instance\n",
      "    Remove and return item at index (default last).\n",
      "    \n",
      "    Raises IndexError if list is empty or index is out of range.\n",
      "\n"
     ]
    }
   ],
   "source": [
    "help(lista.pop)"
   ]
  },
  {
   "cell_type": "code",
   "execution_count": 31,
   "id": "309ee4a0-f60c-495c-ad49-1fc3e472235b",
   "metadata": {},
   "outputs": [
    {
     "data": {
      "text/plain": [
       "'print'"
      ]
     },
     "execution_count": 31,
     "metadata": {},
     "output_type": "execute_result"
    }
   ],
   "source": [
    "print.__name__"
   ]
  },
  {
   "cell_type": "code",
   "execution_count": 32,
   "id": "1ac9f16d-5a4f-46db-ba92-655809276506",
   "metadata": {},
   "outputs": [
    {
     "data": {
      "text/plain": [
       "\"print(value, ..., sep=' ', end='\\\\n', file=sys.stdout, flush=False)\\n\\nPrints the values to a stream, or to sys.stdout by default.\\nOptional keyword arguments:\\nfile:  a file-like object (stream); defaults to the current sys.stdout.\\nsep:   string inserted between values, default a space.\\nend:   string appended after the last value, default a newline.\\nflush: whether to forcibly flush the stream.\""
      ]
     },
     "execution_count": 32,
     "metadata": {},
     "output_type": "execute_result"
    }
   ],
   "source": [
    "print.__doc__"
   ]
  },
  {
   "cell_type": "markdown",
   "id": "c26397ef-9042-4466-9521-5b50f1602182",
   "metadata": {},
   "source": [
    "# Criando uma função"
   ]
  },
  {
   "cell_type": "markdown",
   "id": "3adbc7a3-281d-4912-ab27-667c7a2993c7",
   "metadata": {},
   "source": [
    "## Def"
   ]
  },
  {
   "cell_type": "code",
   "execution_count": 33,
   "id": "7cc0deec-eeff-45c9-b114-85afc5b002b9",
   "metadata": {},
   "outputs": [],
   "source": [
    "def linha():\n",
    "    print('--------')"
   ]
  },
  {
   "cell_type": "code",
   "execution_count": 34,
   "id": "11869701-8be1-46b4-876d-3aa5b15cc75f",
   "metadata": {},
   "outputs": [
    {
     "name": "stdout",
     "output_type": "stream",
     "text": [
      "--------\n"
     ]
    }
   ],
   "source": [
    "linha()"
   ]
  },
  {
   "cell_type": "markdown",
   "id": "187721f8-6f94-4425-9d63-ea1004242cd2",
   "metadata": {},
   "source": [
    "## Parâmetros"
   ]
  },
  {
   "cell_type": "code",
   "execution_count": 35,
   "id": "86ae8223-6d02-44b0-ab4c-3575762616b0",
   "metadata": {},
   "outputs": [],
   "source": [
    "def imprimir(valor):\n",
    "    print(f'----> {valor}')"
   ]
  },
  {
   "cell_type": "code",
   "execution_count": 36,
   "id": "a2a392e3-d5ae-44d6-a3bc-656f02fc157d",
   "metadata": {},
   "outputs": [
    {
     "name": "stdout",
     "output_type": "stream",
     "text": [
      "----> 5\n"
     ]
    }
   ],
   "source": [
    "imprimir(5)"
   ]
  },
  {
   "cell_type": "code",
   "execution_count": 37,
   "id": "7f71ac69-34ab-4ac2-aa76-c98f0e3feb6d",
   "metadata": {},
   "outputs": [
    {
     "ename": "TypeError",
     "evalue": "imprimir() missing 1 required positional argument: 'valor'",
     "output_type": "error",
     "traceback": [
      "\u001b[1;31m---------------------------------------------------------------------------\u001b[0m",
      "\u001b[1;31mTypeError\u001b[0m                                 Traceback (most recent call last)",
      "\u001b[1;32m<ipython-input-37-4f6ac779f816>\u001b[0m in \u001b[0;36m<module>\u001b[1;34m\u001b[0m\n\u001b[1;32m----> 1\u001b[1;33m \u001b[0mimprimir\u001b[0m\u001b[1;33m(\u001b[0m\u001b[1;33m)\u001b[0m\u001b[1;33m\u001b[0m\u001b[1;33m\u001b[0m\u001b[0m\n\u001b[0m",
      "\u001b[1;31mTypeError\u001b[0m: imprimir() missing 1 required positional argument: 'valor'"
     ]
    }
   ],
   "source": [
    "imprimir()"
   ]
  },
  {
   "cell_type": "code",
   "execution_count": 38,
   "id": "3da9e54e-bf6d-4b49-90b6-3e97427d6cb1",
   "metadata": {},
   "outputs": [
    {
     "name": "stdout",
     "output_type": "stream",
     "text": [
      "----> Teste\n"
     ]
    }
   ],
   "source": [
    "imprimir('Teste')"
   ]
  },
  {
   "cell_type": "code",
   "execution_count": 5,
   "id": "af48034a-4346-48c3-8cf5-fb2025150975",
   "metadata": {},
   "outputs": [],
   "source": [
    "def quadrado(num):\n",
    "    print(num ** 2)"
   ]
  },
  {
   "cell_type": "code",
   "execution_count": 6,
   "id": "8f335fed-fa4c-4b08-8b84-6aeb05df3503",
   "metadata": {},
   "outputs": [
    {
     "name": "stdout",
     "output_type": "stream",
     "text": [
      "4\n"
     ]
    }
   ],
   "source": [
    "quadrado(2)"
   ]
  },
  {
   "cell_type": "code",
   "execution_count": 7,
   "id": "739775f6-9062-478b-b990-198c85130e7f",
   "metadata": {},
   "outputs": [
    {
     "name": "stdout",
     "output_type": "stream",
     "text": [
      "9\n"
     ]
    }
   ],
   "source": [
    "quadrado(3)"
   ]
  },
  {
   "cell_type": "code",
   "execution_count": 9,
   "id": "98442ac6-5cf4-44bb-84cc-f180f3a5e8fd",
   "metadata": {},
   "outputs": [
    {
     "name": "stdout",
     "output_type": "stream",
     "text": [
      "16\n"
     ]
    }
   ],
   "source": [
    "quadrado(num=4)"
   ]
  },
  {
   "cell_type": "code",
   "execution_count": 17,
   "id": "a7b0ade9-32e3-4b23-8a60-a693391b7fcf",
   "metadata": {},
   "outputs": [],
   "source": [
    "def elevar_potencia(num1, num2):\n",
    "    print(num1**num2)"
   ]
  },
  {
   "cell_type": "code",
   "execution_count": 18,
   "id": "9fccc970-95f3-43ed-893d-e17e2e4c2e81",
   "metadata": {},
   "outputs": [
    {
     "name": "stdout",
     "output_type": "stream",
     "text": [
      "4\n"
     ]
    }
   ],
   "source": [
    "elevar_potencia(2, 2)"
   ]
  },
  {
   "cell_type": "code",
   "execution_count": 19,
   "id": "f913c040-83f9-4af2-aa91-c143e78ac879",
   "metadata": {},
   "outputs": [
    {
     "name": "stdout",
     "output_type": "stream",
     "text": [
      "8\n"
     ]
    }
   ],
   "source": [
    "elevar_potencia(2, 3)"
   ]
  },
  {
   "cell_type": "code",
   "execution_count": 20,
   "id": "95b7e3b6-c314-41ec-ba44-7cacf88e1dd2",
   "metadata": {},
   "outputs": [
    {
     "ename": "TypeError",
     "evalue": "elevar_potencia() missing 1 required positional argument: 'num2'",
     "output_type": "error",
     "traceback": [
      "\u001b[1;31m---------------------------------------------------------------------------\u001b[0m",
      "\u001b[1;31mTypeError\u001b[0m                                 Traceback (most recent call last)",
      "\u001b[1;32m<ipython-input-20-891cb0fa0c81>\u001b[0m in \u001b[0;36m<module>\u001b[1;34m\u001b[0m\n\u001b[1;32m----> 1\u001b[1;33m \u001b[0melevar_potencia\u001b[0m\u001b[1;33m(\u001b[0m\u001b[1;36m2\u001b[0m\u001b[1;33m)\u001b[0m\u001b[1;33m\u001b[0m\u001b[1;33m\u001b[0m\u001b[0m\n\u001b[0m",
      "\u001b[1;31mTypeError\u001b[0m: elevar_potencia() missing 1 required positional argument: 'num2'"
     ]
    }
   ],
   "source": [
    "elevar_potencia(2)"
   ]
  },
  {
   "cell_type": "code",
   "execution_count": 21,
   "id": "a696bc24-a3a8-4f44-bdf4-d5e2967f9408",
   "metadata": {},
   "outputs": [],
   "source": [
    "def elevar_potencia(num1, num2=2):\n",
    "    print(num1**num2)"
   ]
  },
  {
   "cell_type": "code",
   "execution_count": 22,
   "id": "24bddee6-a91b-4e5c-b6df-559f3ce06f63",
   "metadata": {},
   "outputs": [
    {
     "name": "stdout",
     "output_type": "stream",
     "text": [
      "4\n"
     ]
    }
   ],
   "source": [
    "elevar_potencia(2)"
   ]
  },
  {
   "cell_type": "code",
   "execution_count": 23,
   "id": "c887fe2e-76a5-495c-a7c5-0f879ecf395e",
   "metadata": {},
   "outputs": [
    {
     "name": "stdout",
     "output_type": "stream",
     "text": [
      "16\n"
     ]
    }
   ],
   "source": [
    "elevar_potencia(2, 4)"
   ]
  },
  {
   "cell_type": "code",
   "execution_count": 24,
   "id": "ff91538f-4053-4cf1-8a6c-477256d1217c",
   "metadata": {},
   "outputs": [
    {
     "name": "stdin",
     "output_type": "stream",
     "text": [
      "Digite um número:  5\n"
     ]
    },
    {
     "name": "stdout",
     "output_type": "stream",
     "text": [
      "5 x 1 = 5\n",
      "5 x 2 = 10\n",
      "5 x 3 = 15\n",
      "5 x 4 = 20\n",
      "5 x 5 = 25\n",
      "5 x 6 = 30\n",
      "5 x 7 = 35\n",
      "5 x 8 = 40\n",
      "5 x 9 = 45\n",
      "5 x 10 = 50\n"
     ]
    }
   ],
   "source": [
    "c = 0\n",
    "numero = int(input('Digite um número: '))\n",
    "while c < 10:\n",
    "    c+=1\n",
    "    print(f'{numero} x {c} = {numero * c}')\n"
   ]
  },
  {
   "cell_type": "code",
   "execution_count": 39,
   "id": "0d303f38-5deb-4a5b-945e-5dba254fc3e2",
   "metadata": {},
   "outputs": [],
   "source": [
    "def tabuada(num): \n",
    "    c = 0\n",
    "    while c < 10:\n",
    "        c+=1\n",
    "        print(f'{num} x {c} = {numero * c}')"
   ]
  },
  {
   "cell_type": "code",
   "execution_count": 40,
   "id": "ba5c4cc2-c411-44d4-ba39-10f7bf8ede61",
   "metadata": {},
   "outputs": [
    {
     "name": "stdout",
     "output_type": "stream",
     "text": [
      "3 x 1 = 3\n",
      "3 x 2 = 6\n",
      "3 x 3 = 9\n",
      "3 x 4 = 12\n",
      "3 x 5 = 15\n",
      "3 x 6 = 18\n",
      "3 x 7 = 21\n",
      "3 x 8 = 24\n",
      "3 x 9 = 27\n",
      "3 x 10 = 30\n"
     ]
    }
   ],
   "source": [
    "tabuada(3)"
   ]
  },
  {
   "cell_type": "code",
   "execution_count": 41,
   "id": "4940d962-1fac-4d0f-bf6c-4835a71be89a",
   "metadata": {},
   "outputs": [
    {
     "name": "stdout",
     "output_type": "stream",
     "text": [
      "9 x 1 = 9\n",
      "9 x 2 = 18\n",
      "9 x 3 = 27\n",
      "9 x 4 = 36\n",
      "9 x 5 = 45\n",
      "9 x 6 = 54\n",
      "9 x 7 = 63\n",
      "9 x 8 = 72\n",
      "9 x 9 = 81\n",
      "9 x 10 = 90\n"
     ]
    }
   ],
   "source": [
    "tabuada(9)"
   ]
  },
  {
   "cell_type": "markdown",
   "id": "2cfe5bb5-894d-4ac4-9c7d-552262380cc4",
   "metadata": {},
   "source": [
    "## Return"
   ]
  },
  {
   "cell_type": "code",
   "execution_count": 42,
   "id": "ac63e8d0-354b-4084-8e99-86ead7205353",
   "metadata": {},
   "outputs": [],
   "source": [
    "def elevar_potencia(num1, num2):\n",
    "    total = num1 ** num2\n",
    "    return total"
   ]
  },
  {
   "cell_type": "code",
   "execution_count": 50,
   "id": "e847b01c-ea7e-4a6e-901e-9ea314a3acf1",
   "metadata": {},
   "outputs": [
    {
     "name": "stdout",
     "output_type": "stream",
     "text": [
      "9 x 1 = 9\n",
      "9 x 2 = 18\n",
      "9 x 3 = 27\n",
      "9 x 4 = 36\n",
      "9 x 5 = 45\n",
      "9 x 6 = 54\n",
      "9 x 7 = 63\n",
      "9 x 8 = 72\n",
      "9 x 9 = 81\n",
      "9 x 10 = 90\n"
     ]
    }
   ],
   "source": [
    "res_tabuada9 = tabuada(9)\n",
    "res = elevar_potencia(2, 3)\n",
    "#print('teste')\n",
    "#print(res)"
   ]
  },
  {
   "cell_type": "code",
   "execution_count": null,
   "id": "b75cc2ca-01e2-4ac2-909b-24db59519ff7",
   "metadata": {},
   "outputs": [],
   "source": [
    "res_tabuada9"
   ]
  },
  {
   "cell_type": "code",
   "execution_count": 49,
   "id": "cc61e985-6a9e-477d-92b2-f7c6daf2934c",
   "metadata": {},
   "outputs": [
    {
     "data": {
      "text/plain": [
       "5"
      ]
     },
     "execution_count": 49,
     "metadata": {},
     "output_type": "execute_result"
    }
   ],
   "source": [
    "res"
   ]
  },
  {
   "cell_type": "markdown",
   "id": "987b321a-9a62-4fd0-a8b6-29f174597f3b",
   "metadata": {},
   "source": [
    "## Args, Kwargs"
   ]
  },
  {
   "cell_type": "code",
   "execution_count": 58,
   "id": "8be119cd-fdfa-4efc-ade2-982e9f22afd3",
   "metadata": {},
   "outputs": [],
   "source": [
    "def soma(*numeros):\n",
    "    return sum(numeros)"
   ]
  },
  {
   "cell_type": "code",
   "execution_count": 59,
   "id": "ea7ae31e-5647-495e-836b-813fcc86be0e",
   "metadata": {},
   "outputs": [
    {
     "data": {
      "text/plain": [
       "6"
      ]
     },
     "execution_count": 59,
     "metadata": {},
     "output_type": "execute_result"
    }
   ],
   "source": [
    "soma(2, 4)"
   ]
  },
  {
   "cell_type": "code",
   "execution_count": 60,
   "id": "2f3e96f0-1860-4869-a3fd-4f55ef8ef6a3",
   "metadata": {},
   "outputs": [
    {
     "data": {
      "text/plain": [
       "23"
      ]
     },
     "execution_count": 60,
     "metadata": {},
     "output_type": "execute_result"
    }
   ],
   "source": [
    "soma(2, 4, 8, 9)"
   ]
  },
  {
   "cell_type": "code",
   "execution_count": 72,
   "id": "24e291e3-fb54-4181-98dd-92e1f808fc98",
   "metadata": {},
   "outputs": [],
   "source": [
    "def soma_multiplicacao(*num_soma, **num_mult):\n",
    "    print(num_soma)\n",
    "    print(num_mult)"
   ]
  },
  {
   "cell_type": "code",
   "execution_count": 73,
   "id": "31acd0a4-9945-46f8-9bad-b63afad01b1c",
   "metadata": {},
   "outputs": [
    {
     "name": "stdout",
     "output_type": "stream",
     "text": [
      "(1, 2, 3, 4)\n",
      "{'mult1': 2}\n"
     ]
    }
   ],
   "source": [
    "soma_multiplicacao(1, 2, 3, 4, mult1=2)"
   ]
  },
  {
   "cell_type": "code",
   "execution_count": 76,
   "id": "055864ed-f5b4-41f6-9b41-d049cc54cdf8",
   "metadata": {},
   "outputs": [],
   "source": [
    "def soma_multiplicacao(*num_soma, **num_mult):\n",
    "    return sum(num_soma) * num_mult['mult1']"
   ]
  },
  {
   "cell_type": "code",
   "execution_count": 77,
   "id": "a2c1bde7-fde5-4343-ae19-1a52db47ec7e",
   "metadata": {},
   "outputs": [
    {
     "data": {
      "text/plain": [
       "20"
      ]
     },
     "execution_count": 77,
     "metadata": {},
     "output_type": "execute_result"
    }
   ],
   "source": [
    "soma_multiplicacao(1, 2, 3, 4, mult1=2)"
   ]
  },
  {
   "cell_type": "code",
   "execution_count": 78,
   "id": "39bcd4d7-c9ed-4600-9830-106f9bf60984",
   "metadata": {},
   "outputs": [],
   "source": [
    "def imprimir(**kwargs):\n",
    "    for key in kwargs:\n",
    "        print(f'{key} -> {kwargs[key]}')"
   ]
  },
  {
   "cell_type": "code",
   "execution_count": 83,
   "id": "d04c6a02-5c5b-4682-a983-cca63b8d7162",
   "metadata": {},
   "outputs": [
    {
     "name": "stdout",
     "output_type": "stream",
     "text": [
      "nome -> Caio\n",
      "idade -> 27\n",
      "sobrenome -> Alencikas\n",
      "profissao -> Analista de dados\n"
     ]
    }
   ],
   "source": [
    "imprimir(nome='Caio', idade=27, sobrenome='Alencikas', profissao='Analista de dados')"
   ]
  },
  {
   "cell_type": "markdown",
   "id": "d704da6f-b365-4e31-8004-1486f932416d",
   "metadata": {},
   "source": [
    "## Nested Functions"
   ]
  },
  {
   "cell_type": "code",
   "execution_count": 84,
   "id": "0d03e215-d3b3-4a02-b5c5-867f68befc60",
   "metadata": {},
   "outputs": [],
   "source": [
    "def ola(nome, sobrenome):\n",
    "    def nome_completo():\n",
    "        return nome + ' ' + sobrenome\n",
    "    print(f'Olá, {nome_completo()}')"
   ]
  },
  {
   "cell_type": "code",
   "execution_count": 85,
   "id": "e2cde8bd-e9f8-47cb-a664-8daf25030c44",
   "metadata": {},
   "outputs": [
    {
     "name": "stdout",
     "output_type": "stream",
     "text": [
      "Olá, Caio Alencikas\n"
     ]
    }
   ],
   "source": [
    "ola('Caio','Alencikas')"
   ]
  },
  {
   "cell_type": "code",
   "execution_count": 86,
   "id": "aaf87c4b-be46-48c1-90ef-7f3a847a6f7e",
   "metadata": {},
   "outputs": [
    {
     "ename": "NameError",
     "evalue": "name 'nome_completo' is not defined",
     "output_type": "error",
     "traceback": [
      "\u001b[1;31m---------------------------------------------------------------------------\u001b[0m",
      "\u001b[1;31mNameError\u001b[0m                                 Traceback (most recent call last)",
      "\u001b[1;32m<ipython-input-86-84161fb8ee8f>\u001b[0m in \u001b[0;36m<module>\u001b[1;34m\u001b[0m\n\u001b[1;32m----> 1\u001b[1;33m \u001b[0mnome_completo\u001b[0m\u001b[1;33m(\u001b[0m\u001b[1;33m)\u001b[0m\u001b[1;33m\u001b[0m\u001b[1;33m\u001b[0m\u001b[0m\n\u001b[0m",
      "\u001b[1;31mNameError\u001b[0m: name 'nome_completo' is not defined"
     ]
    }
   ],
   "source": [
    "nome_completo()"
   ]
  },
  {
   "cell_type": "code",
   "execution_count": 42,
   "id": "e8543145-7d33-47b9-81ed-15475d83c712",
   "metadata": {},
   "outputs": [],
   "source": [
    "def elevar_potencia(num):\n",
    "    def inner(x):\n",
    "        potencia = x ** num\n",
    "        return potencia\n",
    "    return inner"
   ]
  },
  {
   "cell_type": "code",
   "execution_count": 43,
   "id": "7d3d0d5f-641e-47aa-8e74-8929b5768ccc",
   "metadata": {},
   "outputs": [],
   "source": [
    "quadrado = elevar_potencia(2)\n",
    "cubo = elevar_potencia(3)"
   ]
  },
  {
   "cell_type": "code",
   "execution_count": 44,
   "id": "761f4a02-56e5-407d-8dfc-f594c06a1c90",
   "metadata": {},
   "outputs": [
    {
     "name": "stdout",
     "output_type": "stream",
     "text": [
      "4\n"
     ]
    }
   ],
   "source": [
    "print(quadrado(2))"
   ]
  },
  {
   "cell_type": "code",
   "execution_count": 45,
   "id": "33bee499-4792-4ff3-85c9-fb14b85f7441",
   "metadata": {},
   "outputs": [
    {
     "name": "stdout",
     "output_type": "stream",
     "text": [
      "8\n"
     ]
    }
   ],
   "source": [
    "print(cubo(2))"
   ]
  },
  {
   "cell_type": "code",
   "execution_count": 50,
   "id": "c40e61da-4af8-462a-8c82-4cf54c9f5aa4",
   "metadata": {},
   "outputs": [],
   "source": [
    "def outer():\n",
    "    num = 2\n",
    "    \n",
    "    def inner():\n",
    "        nonlocal num\n",
    "        num = 5\n",
    "        print(num)\n",
    "    inner()\n",
    "    print(num)"
   ]
  },
  {
   "cell_type": "code",
   "execution_count": 51,
   "id": "8441b401-2af5-41e4-b212-d754375299f6",
   "metadata": {},
   "outputs": [
    {
     "name": "stdout",
     "output_type": "stream",
     "text": [
      "5\n",
      "2\n"
     ]
    }
   ],
   "source": [
    "outer()"
   ]
  },
  {
   "cell_type": "markdown",
   "id": "99cacea1-b1e0-434d-81c8-7b9f390229fc",
   "metadata": {},
   "source": [
    "LEGD\n",
    "- Local\n",
    "- Enclosing functions\n",
    "- Global\n",
    "- Built-in"
   ]
  },
  {
   "cell_type": "markdown",
   "id": "3c2e7f5d-fb48-4551-8bec-bb091aeff46e",
   "metadata": {},
   "source": [
    "## Docstring"
   ]
  },
  {
   "cell_type": "code",
   "execution_count": 1,
   "id": "57587c28-2bd7-42c1-8462-abbbdd61bbc5",
   "metadata": {},
   "outputs": [
    {
     "name": "stdout",
     "output_type": "stream",
     "text": [
      "Help on built-in function sum in module builtins:\n",
      "\n",
      "sum(iterable, /, start=0)\n",
      "    Return the sum of a 'start' value (default: 0) plus an iterable of numbers\n",
      "    \n",
      "    When the iterable is empty, return the start value.\n",
      "    This function is intended specifically for use with numeric values and may\n",
      "    reject non-numeric types.\n",
      "\n"
     ]
    }
   ],
   "source": [
    "help(sum)"
   ]
  },
  {
   "cell_type": "markdown",
   "id": "c2b2017a-55e0-43f9-a4ed-4c4e7128896d",
   "metadata": {},
   "source": [
    "- Google Style\n",
    "- Numpydoc\n",
    "- reStructuredText\n",
    "- EpyText"
   ]
  },
  {
   "cell_type": "code",
   "execution_count": 66,
   "id": "0354de0a-1b63-416d-97dc-a69725047080",
   "metadata": {},
   "outputs": [],
   "source": [
    "def soma(num1, num2):\n",
    "    '''Retorna a soma de dois números\n",
    "                                                        \n",
    "    Args:\n",
    "        num1 (int): primeiro número que irá ser somado\n",
    "        num2 (int): segundo número que irá ser somado\n",
    "        \n",
    "    Returns\n",
    "        int: soma dos números\n",
    "        \n",
    "    Raises:\n",
    "        TypeError: A função só aceita dados do tipo numérico\n",
    "    '''\n",
    "    return num1 + num2"
   ]
  },
  {
   "cell_type": "code",
   "execution_count": 67,
   "id": "2d0bcc86-8104-4277-921d-824f78e1b2b6",
   "metadata": {},
   "outputs": [
    {
     "ename": "TypeError",
     "evalue": "unsupported operand type(s) for +: 'int' and 'str'",
     "output_type": "error",
     "traceback": [
      "\u001b[1;31m---------------------------------------------------------------------------\u001b[0m",
      "\u001b[1;31mTypeError\u001b[0m                                 Traceback (most recent call last)",
      "\u001b[1;32m<ipython-input-67-14004c430d5f>\u001b[0m in \u001b[0;36m<module>\u001b[1;34m\u001b[0m\n\u001b[1;32m----> 1\u001b[1;33m \u001b[0msoma\u001b[0m\u001b[1;33m(\u001b[0m\u001b[1;36m1\u001b[0m\u001b[1;33m,\u001b[0m \u001b[1;34m'Caio'\u001b[0m\u001b[1;33m)\u001b[0m\u001b[1;33m\u001b[0m\u001b[1;33m\u001b[0m\u001b[0m\n\u001b[0m",
      "\u001b[1;32m<ipython-input-66-17ddca76965e>\u001b[0m in \u001b[0;36msoma\u001b[1;34m(num1, num2)\u001b[0m\n\u001b[0;32m     12\u001b[0m \u001b[1;33m\u001b[0m\u001b[0m\n\u001b[0;32m     13\u001b[0m     '''\n\u001b[1;32m---> 14\u001b[1;33m     \u001b[1;32mreturn\u001b[0m \u001b[0mnum1\u001b[0m \u001b[1;33m+\u001b[0m \u001b[0mnum2\u001b[0m\u001b[1;33m\u001b[0m\u001b[1;33m\u001b[0m\u001b[0m\n\u001b[0m",
      "\u001b[1;31mTypeError\u001b[0m: unsupported operand type(s) for +: 'int' and 'str'"
     ]
    }
   ],
   "source": [
    "soma(1, 'Caio')"
   ]
  },
  {
   "cell_type": "code",
   "execution_count": 68,
   "id": "eaddcf73-1999-4c08-aee3-609b8c66457e",
   "metadata": {},
   "outputs": [],
   "source": [
    "def soma(num1, num2):\n",
    "    '''Retorna a soma de dois números\n",
    "                                                        \n",
    "    Parameters\n",
    "    ----------\n",
    "        num1 : int\n",
    "            primeiro número que irá ser somado\n",
    "        num2 : int \n",
    "            segundo número que irá ser somado\n",
    "        \n",
    "    Returns\n",
    "    -------\n",
    "        int\n",
    "        soma dos números\n",
    "    '''\n",
    "    return num1 + num2"
   ]
  },
  {
   "cell_type": "code",
   "execution_count": 69,
   "id": "84c4a51b-5ac9-42eb-b0a3-936215777086",
   "metadata": {},
   "outputs": [
    {
     "name": "stdout",
     "output_type": "stream",
     "text": [
      "Help on function soma in module __main__:\n",
      "\n",
      "soma(num1, num2)\n",
      "    Retorna a soma de dois números\n",
      "                                                        \n",
      "    Parameters\n",
      "    ----------\n",
      "        num1 : int\n",
      "            primeiro número que irá ser somado\n",
      "        num2 : int \n",
      "            segundo número que irá ser somado\n",
      "        \n",
      "    Returns\n",
      "    -------\n",
      "        int\n",
      "        soma dos números\n",
      "\n"
     ]
    }
   ],
   "source": [
    "help(soma)"
   ]
  },
  {
   "cell_type": "markdown",
   "id": "de5be161-acc3-44a5-83c6-29481a28336a",
   "metadata": {},
   "source": [
    "## Scope / Escopo"
   ]
  },
  {
   "cell_type": "markdown",
   "id": "908215da-2178-4fe4-9158-e944f6c5ac1c",
   "metadata": {},
   "source": [
    "- Global\n",
    "- Local\n",
    "- Built-in"
   ]
  },
  {
   "cell_type": "code",
   "execution_count": 25,
   "id": "f9495c75-d4b3-4ea2-893b-98938d6279d3",
   "metadata": {},
   "outputs": [],
   "source": [
    "def soma(num1, num2):\n",
    "    total = num1 + num2\n",
    "    return total"
   ]
  },
  {
   "cell_type": "code",
   "execution_count": 27,
   "id": "9502f75e-0801-4397-961a-775d7a59f08a",
   "metadata": {},
   "outputs": [
    {
     "data": {
      "text/plain": [
       "6"
      ]
     },
     "execution_count": 27,
     "metadata": {},
     "output_type": "execute_result"
    }
   ],
   "source": [
    "res = soma(2, 4)\n",
    "res"
   ]
  },
  {
   "cell_type": "code",
   "execution_count": 28,
   "id": "e45031cd-32ff-4363-8344-cdd6454fc410",
   "metadata": {},
   "outputs": [
    {
     "ename": "NameError",
     "evalue": "name 'total' is not defined",
     "output_type": "error",
     "traceback": [
      "\u001b[1;31m---------------------------------------------------------------------------\u001b[0m",
      "\u001b[1;31mNameError\u001b[0m                                 Traceback (most recent call last)",
      "\u001b[1;32m<ipython-input-28-f5f7acea0338>\u001b[0m in \u001b[0;36m<module>\u001b[1;34m\u001b[0m\n\u001b[1;32m----> 1\u001b[1;33m \u001b[0mtotal\u001b[0m\u001b[1;33m\u001b[0m\u001b[1;33m\u001b[0m\u001b[0m\n\u001b[0m",
      "\u001b[1;31mNameError\u001b[0m: name 'total' is not defined"
     ]
    }
   ],
   "source": [
    "total"
   ]
  },
  {
   "cell_type": "code",
   "execution_count": 29,
   "id": "cbd7bc37-4744-4fac-9d56-0c7a02619534",
   "metadata": {},
   "outputs": [],
   "source": [
    "total = 10\n",
    "def soma(num1, num2):\n",
    "    total = num1 + num2\n",
    "    return total"
   ]
  },
  {
   "cell_type": "code",
   "execution_count": 30,
   "id": "8edd6aac-81f2-4db5-8f10-aa46154c9a96",
   "metadata": {},
   "outputs": [
    {
     "data": {
      "text/plain": [
       "6"
      ]
     },
     "execution_count": 30,
     "metadata": {},
     "output_type": "execute_result"
    }
   ],
   "source": [
    "soma(2, 4)"
   ]
  },
  {
   "cell_type": "code",
   "execution_count": 31,
   "id": "ef723ced-03d2-4b69-9a70-80f2bad9abad",
   "metadata": {},
   "outputs": [],
   "source": [
    "total = 10\n",
    "def soma(num1, num2):\n",
    "    total2 = num1 + num2\n",
    "    return total"
   ]
  },
  {
   "cell_type": "code",
   "execution_count": 32,
   "id": "551982d8-2d97-406f-872e-ba3cb7c0155e",
   "metadata": {},
   "outputs": [
    {
     "data": {
      "text/plain": [
       "10"
      ]
     },
     "execution_count": 32,
     "metadata": {},
     "output_type": "execute_result"
    }
   ],
   "source": [
    "soma(2, 4)"
   ]
  },
  {
   "cell_type": "code",
   "execution_count": 33,
   "id": "ca4ad432-3882-4ca3-96f1-a915281021cd",
   "metadata": {},
   "outputs": [],
   "source": [
    "total = 10\n",
    "def soma(num1, num2):\n",
    "    total2 = num1 + num2\n",
    "    return total3"
   ]
  },
  {
   "cell_type": "code",
   "execution_count": 34,
   "id": "f9da35c1-470d-4df6-a68d-7738e5ab5fcc",
   "metadata": {},
   "outputs": [
    {
     "ename": "NameError",
     "evalue": "name 'total3' is not defined",
     "output_type": "error",
     "traceback": [
      "\u001b[1;31m---------------------------------------------------------------------------\u001b[0m",
      "\u001b[1;31mNameError\u001b[0m                                 Traceback (most recent call last)",
      "\u001b[1;32m<ipython-input-34-4bbf34402fc8>\u001b[0m in \u001b[0;36m<module>\u001b[1;34m\u001b[0m\n\u001b[1;32m----> 1\u001b[1;33m \u001b[0msoma\u001b[0m\u001b[1;33m(\u001b[0m\u001b[1;36m2\u001b[0m\u001b[1;33m,\u001b[0m \u001b[1;36m4\u001b[0m\u001b[1;33m)\u001b[0m\u001b[1;33m\u001b[0m\u001b[1;33m\u001b[0m\u001b[0m\n\u001b[0m",
      "\u001b[1;32m<ipython-input-33-2f8e4f31b2f2>\u001b[0m in \u001b[0;36msoma\u001b[1;34m(num1, num2)\u001b[0m\n\u001b[0;32m      2\u001b[0m \u001b[1;32mdef\u001b[0m \u001b[0msoma\u001b[0m\u001b[1;33m(\u001b[0m\u001b[0mnum1\u001b[0m\u001b[1;33m,\u001b[0m \u001b[0mnum2\u001b[0m\u001b[1;33m)\u001b[0m\u001b[1;33m:\u001b[0m\u001b[1;33m\u001b[0m\u001b[1;33m\u001b[0m\u001b[0m\n\u001b[0;32m      3\u001b[0m     \u001b[0mtotal2\u001b[0m \u001b[1;33m=\u001b[0m \u001b[0mnum1\u001b[0m \u001b[1;33m+\u001b[0m \u001b[0mnum2\u001b[0m\u001b[1;33m\u001b[0m\u001b[1;33m\u001b[0m\u001b[0m\n\u001b[1;32m----> 4\u001b[1;33m     \u001b[1;32mreturn\u001b[0m \u001b[0mtotal3\u001b[0m\u001b[1;33m\u001b[0m\u001b[1;33m\u001b[0m\u001b[0m\n\u001b[0m",
      "\u001b[1;31mNameError\u001b[0m: name 'total3' is not defined"
     ]
    }
   ],
   "source": [
    "soma(2, 4)"
   ]
  },
  {
   "cell_type": "code",
   "execution_count": 39,
   "id": "34403ea2-a420-4766-b3b7-48b65f72ee56",
   "metadata": {},
   "outputs": [],
   "source": [
    "total = 10\n",
    "def soma(num1, num2):\n",
    "    total = num1 + num2\n",
    "    return total"
   ]
  },
  {
   "cell_type": "code",
   "execution_count": 40,
   "id": "7d79ffc6-55bb-4d28-a7ea-d93292063340",
   "metadata": {},
   "outputs": [
    {
     "data": {
      "text/plain": [
       "6"
      ]
     },
     "execution_count": 40,
     "metadata": {},
     "output_type": "execute_result"
    }
   ],
   "source": [
    "soma(2, 4)"
   ]
  },
  {
   "cell_type": "code",
   "execution_count": 41,
   "id": "3197943f-5c95-4517-bcb9-81fe02a9220c",
   "metadata": {},
   "outputs": [
    {
     "data": {
      "text/plain": [
       "6"
      ]
     },
     "execution_count": 41,
     "metadata": {},
     "output_type": "execute_result"
    }
   ],
   "source": [
    "total"
   ]
  },
  {
   "cell_type": "code",
   "execution_count": null,
   "id": "7ba45f88-6f3f-4544-9777-3284740a61fe",
   "metadata": {},
   "outputs": [],
   "source": [
    "total = 10\n",
    "def soma(num1, num2):\n",
    "    global total\n",
    "    total = num1 + num2\n",
    "    return total"
   ]
  },
  {
   "cell_type": "code",
   "execution_count": null,
   "id": "df40aa8e-7acf-4d26-b799-b062b33f4f37",
   "metadata": {},
   "outputs": [],
   "source": [
    "soma(2, 4)"
   ]
  },
  {
   "cell_type": "code",
   "execution_count": null,
   "id": "4ff40456-2a4c-448f-8d6d-0b1daff3f2fb",
   "metadata": {},
   "outputs": [],
   "source": [
    "total"
   ]
  },
  {
   "cell_type": "markdown",
   "id": "c1bc75af-83d1-4022-b911-463a038d35bb",
   "metadata": {},
   "source": [
    "## DRY (don't repeat yourself) and \"Do One Thing\""
   ]
  },
  {
   "cell_type": "code",
   "execution_count": null,
   "id": "e7e15e28-052e-420e-99c3-a09aeb569c2d",
   "metadata": {},
   "outputs": [],
   "source": [
    "num1 = 5\n",
    "num2 = 23\n",
    "soma = num1 + num2\n",
    "quadrado = soma ** 2\n",
    "print(quadrado)"
   ]
  },
  {
   "cell_type": "code",
   "execution_count": null,
   "id": "a75da151-8fa7-4d75-8754-de431a60c2cd",
   "metadata": {},
   "outputs": [],
   "source": [
    "num3 = 12\n",
    "num4 = 45\n",
    "soma = num3 + num4\n",
    "quadrado = soma ** 2\n",
    "print(quadrado)"
   ]
  },
  {
   "cell_type": "code",
   "execution_count": null,
   "id": "945e151c-e7dd-4f74-81f5-c3009065b3d5",
   "metadata": {},
   "outputs": [],
   "source": [
    "num5 = 30\n",
    "num6 = 8\n",
    "soma = num5 + num6\n",
    "quadrado = soma ** 2\n",
    "print(quadrado)"
   ]
  },
  {
   "cell_type": "code",
   "execution_count": 52,
   "id": "eb8004f0-1998-49a8-b704-7bda25a69b01",
   "metadata": {},
   "outputs": [],
   "source": [
    "def soma_e_quadrado(num1, num2):\n",
    "    soma = num1 + num2\n",
    "    quadrado = soma ** 2\n",
    "    return quadrado"
   ]
  },
  {
   "cell_type": "markdown",
   "id": "22a2c2fa-b485-4d3c-9415-a50dcc9f1db9",
   "metadata": {},
   "source": [
    "## Pass by assignment"
   ]
  },
  {
   "cell_type": "code",
   "execution_count": 53,
   "id": "eeea9f7c-9e26-4aab-bfc4-046aaec15038",
   "metadata": {},
   "outputs": [
    {
     "name": "stdout",
     "output_type": "stream",
     "text": [
      "[99, 2, 3]\n"
     ]
    }
   ],
   "source": [
    "def alterar_lista(x):\n",
    "    x[0] = 99\n",
    "lista = [1, 2, 3]\n",
    "alterar_lista(lista)\n",
    "print(lista)"
   ]
  },
  {
   "cell_type": "code",
   "execution_count": 54,
   "id": "b37886e7-846d-47fa-9351-e96d5b0ee1da",
   "metadata": {},
   "outputs": [
    {
     "name": "stdout",
     "output_type": "stream",
     "text": [
      "5\n"
     ]
    }
   ],
   "source": [
    "def alterar_int(x):\n",
    "    x = x + 10\n",
    "num = 5\n",
    "alterar_int(num)\n",
    "print(num)"
   ]
  },
  {
   "cell_type": "markdown",
   "id": "a0d6024f-2f05-4a93-944c-e2ef17880345",
   "metadata": {},
   "source": [
    "- Imutáveis\n",
    "    - int\n",
    "    - float\n",
    "    - bool\n",
    "    - string\n",
    "    - bytes\n",
    "    - tuple\n",
    "    - frozenset\n",
    "    - None\n",
    "- Mutáveis\n",
    "    - list\n",
    "    - dict\n",
    "    - set\n",
    "    - bytearray\n",
    "    - objects\n",
    "    - functions\n",
    "    - etc"
   ]
  },
  {
   "cell_type": "code",
   "execution_count": 55,
   "id": "7dd65ec0-0b10-4e84-9550-472cd2f67fe2",
   "metadata": {},
   "outputs": [],
   "source": [
    "def add_lista(lista=[]):\n",
    "    lista.append(5)\n",
    "    return lista"
   ]
  },
  {
   "cell_type": "code",
   "execution_count": 59,
   "id": "bd16631c-e9f6-48b9-add2-725977861973",
   "metadata": {},
   "outputs": [
    {
     "data": {
      "text/plain": [
       "[5, 5, 5, 5]"
      ]
     },
     "execution_count": 59,
     "metadata": {},
     "output_type": "execute_result"
    }
   ],
   "source": [
    "add_lista()"
   ]
  },
  {
   "cell_type": "code",
   "execution_count": 60,
   "id": "32f2b441-8676-4937-995f-cf63b4b39a36",
   "metadata": {},
   "outputs": [],
   "source": [
    "def add_lista(lista=None):\n",
    "    if lista is None:\n",
    "        lista = []\n",
    "    lista.append(5)\n",
    "    return lista"
   ]
  },
  {
   "cell_type": "code",
   "execution_count": 65,
   "id": "8f04a1ae-a2b5-4a0d-b6da-f301ab2142a3",
   "metadata": {},
   "outputs": [
    {
     "data": {
      "text/plain": [
       "[5]"
      ]
     },
     "execution_count": 65,
     "metadata": {},
     "output_type": "execute_result"
    }
   ],
   "source": [
    "add_lista()"
   ]
  },
  {
   "cell_type": "code",
   "execution_count": null,
   "id": "b29c1a86-a1aa-4c12-9a83-2b1410f941eb",
   "metadata": {},
   "outputs": [],
   "source": []
  }
 ],
 "metadata": {
  "kernelspec": {
   "display_name": "Python 3",
   "language": "python",
   "name": "python3"
  },
  "language_info": {
   "codemirror_mode": {
    "name": "ipython",
    "version": 3
   },
   "file_extension": ".py",
   "mimetype": "text/x-python",
   "name": "python",
   "nbconvert_exporter": "python",
   "pygments_lexer": "ipython3",
   "version": "3.8.8"
  },
  "toc-autonumbering": true,
  "toc-showcode": false,
  "toc-showmarkdowntxt": false,
  "toc-showtags": false
 },
 "nbformat": 4,
 "nbformat_minor": 5
}
