{
 "cells": [
  {
   "cell_type": "markdown",
   "id": "27a1ea56",
   "metadata": {},
   "source": [
    "# Tuplas"
   ]
  },
  {
   "cell_type": "code",
   "execution_count": 1,
   "id": "2fc58370",
   "metadata": {},
   "outputs": [
    {
     "name": "stdout",
     "output_type": "stream",
     "text": [
      "(1, 2, 3, 4)\n"
     ]
    }
   ],
   "source": [
    "tupla1 = 1, 2, 3, 4\n",
    "print(tupla1)"
   ]
  },
  {
   "cell_type": "code",
   "execution_count": 2,
   "id": "3e83b4a3",
   "metadata": {},
   "outputs": [
    {
     "name": "stdout",
     "output_type": "stream",
     "text": [
      "(1, 2, 3, 4)\n"
     ]
    }
   ],
   "source": [
    "tupla2 = (1, 2, 3, 4)\n",
    "print(tupla2)"
   ]
  },
  {
   "cell_type": "code",
   "execution_count": 8,
   "id": "1d3b4797",
   "metadata": {},
   "outputs": [
    {
     "name": "stdout",
     "output_type": "stream",
     "text": [
      "('1', '2', '3', '4')\n"
     ]
    }
   ],
   "source": [
    "tupla3 = tuple('1234')\n",
    "print(tupla3)"
   ]
  },
  {
   "cell_type": "code",
   "execution_count": 10,
   "id": "80a70b73",
   "metadata": {},
   "outputs": [
    {
     "name": "stdout",
     "output_type": "stream",
     "text": [
      "(1, 'Caio')\n"
     ]
    }
   ],
   "source": [
    "tupla4 = 1, 'Caio'\n",
    "print(tupla4)"
   ]
  },
  {
   "cell_type": "code",
   "execution_count": 13,
   "id": "fc4a3532",
   "metadata": {},
   "outputs": [
    {
     "name": "stdout",
     "output_type": "stream",
     "text": [
      "5\n"
     ]
    }
   ],
   "source": [
    "tupla5 = (5)\n",
    "print(tupla5)\n",
    "print(type(tupla5))"
   ]
  },
  {
   "cell_type": "code",
   "execution_count": 33,
   "id": "1281ca4e",
   "metadata": {},
   "outputs": [
    {
     "name": "stdout",
     "output_type": "stream",
     "text": [
      "('Caio', True, 0.5, 10)\n"
     ]
    }
   ],
   "source": [
    "tupla6 = ('Caio', True, 0.5, 10)\n",
    "print(tupla6)"
   ]
  },
  {
   "cell_type": "code",
   "execution_count": 15,
   "id": "6611f2b6",
   "metadata": {},
   "outputs": [
    {
     "name": "stdout",
     "output_type": "stream",
     "text": [
      "3\n"
     ]
    }
   ],
   "source": [
    "print(tupla1[2])"
   ]
  },
  {
   "cell_type": "code",
   "execution_count": 18,
   "id": "d3af465d",
   "metadata": {},
   "outputs": [
    {
     "name": "stdout",
     "output_type": "stream",
     "text": [
      "(2, 3)\n"
     ]
    }
   ],
   "source": [
    "print(tupla1[1:3])"
   ]
  },
  {
   "cell_type": "code",
   "execution_count": 19,
   "id": "fbc8321b",
   "metadata": {},
   "outputs": [
    {
     "name": "stdout",
     "output_type": "stream",
     "text": [
      "(1, 3)\n"
     ]
    }
   ],
   "source": [
    "print(tupla1[::2])"
   ]
  },
  {
   "cell_type": "code",
   "execution_count": 20,
   "id": "f9c05dfb",
   "metadata": {},
   "outputs": [
    {
     "name": "stdout",
     "output_type": "stream",
     "text": [
      "(4, 3, 2, 1)\n"
     ]
    }
   ],
   "source": [
    "print(tupla1[::-1])"
   ]
  },
  {
   "cell_type": "code",
   "execution_count": null,
   "id": "77587597",
   "metadata": {},
   "outputs": [],
   "source": [
    "print(tupla6[0][2])"
   ]
  },
  {
   "cell_type": "code",
   "execution_count": 21,
   "id": "e953bc1f",
   "metadata": {},
   "outputs": [
    {
     "name": "stdout",
     "output_type": "stream",
     "text": [
      "4\n"
     ]
    }
   ],
   "source": [
    "print(len(tupla1))"
   ]
  },
  {
   "cell_type": "code",
   "execution_count": 24,
   "id": "dfd507db",
   "metadata": {},
   "outputs": [
    {
     "name": "stdout",
     "output_type": "stream",
     "text": [
      "2\n"
     ]
    }
   ],
   "source": [
    "numeros = 1, 3, 6, 5, 8, 3, 2, 9, 10\n",
    "print(numeros.count(3))"
   ]
  },
  {
   "cell_type": "code",
   "execution_count": 25,
   "id": "310810a9",
   "metadata": {},
   "outputs": [
    {
     "name": "stdout",
     "output_type": "stream",
     "text": [
      "True\n",
      "False\n"
     ]
    }
   ],
   "source": [
    "print(6 in numeros)\n",
    "print(7 in numeros)"
   ]
  },
  {
   "cell_type": "code",
   "execution_count": 27,
   "id": "60e42f76",
   "metadata": {},
   "outputs": [
    {
     "data": {
      "text/plain": [
       "3"
      ]
     },
     "execution_count": 27,
     "metadata": {},
     "output_type": "execute_result"
    }
   ],
   "source": [
    "numeros.index(5)"
   ]
  },
  {
   "cell_type": "code",
   "execution_count": null,
   "id": "cc88ea1f",
   "metadata": {},
   "outputs": [],
   "source": [
    "numeros[numeros.index(5):]"
   ]
  },
  {
   "cell_type": "code",
   "execution_count": 29,
   "id": "768b867d",
   "metadata": {},
   "outputs": [
    {
     "data": {
      "text/plain": [
       "47"
      ]
     },
     "execution_count": 29,
     "metadata": {},
     "output_type": "execute_result"
    }
   ],
   "source": [
    "sum(numeros)"
   ]
  },
  {
   "cell_type": "code",
   "execution_count": 30,
   "id": "1ee016b9",
   "metadata": {},
   "outputs": [
    {
     "data": {
      "text/plain": [
       "(1, 2, 3)"
      ]
     },
     "execution_count": 30,
     "metadata": {},
     "output_type": "execute_result"
    }
   ],
   "source": [
    "nums = 1,2,3\n",
    "nums"
   ]
  },
  {
   "cell_type": "code",
   "execution_count": 31,
   "id": "d3f2ae49",
   "metadata": {},
   "outputs": [
    {
     "name": "stdout",
     "output_type": "stream",
     "text": [
      "1\n",
      "2\n",
      "3\n"
     ]
    }
   ],
   "source": [
    "a,b,c = nums\n",
    "print(a)\n",
    "print(b)\n",
    "print(c)"
   ]
  },
  {
   "cell_type": "code",
   "execution_count": 32,
   "id": "cc527c6c",
   "metadata": {},
   "outputs": [
    {
     "name": "stdout",
     "output_type": "stream",
     "text": [
      "1 2 3\n"
     ]
    }
   ],
   "source": [
    "print(*nums)"
   ]
  }
 ],
 "metadata": {
  "kernelspec": {
   "display_name": "Python 3",
   "language": "python",
   "name": "python3"
  },
  "language_info": {
   "codemirror_mode": {
    "name": "ipython",
    "version": 3
   },
   "file_extension": ".py",
   "mimetype": "text/x-python",
   "name": "python",
   "nbconvert_exporter": "python",
   "pygments_lexer": "ipython3",
   "version": "3.8.8"
  },
  "toc": {
   "base_numbering": 1,
   "nav_menu": {},
   "number_sections": true,
   "sideBar": true,
   "skip_h1_title": false,
   "title_cell": "Table of Contents",
   "title_sidebar": "Contents",
   "toc_cell": false,
   "toc_position": {},
   "toc_section_display": true,
   "toc_window_display": false
  }
 },
 "nbformat": 4,
 "nbformat_minor": 5
}
