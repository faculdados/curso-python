{
 "cells": [
  {
   "cell_type": "markdown",
   "id": "09bfd0e1",
   "metadata": {},
   "source": [
    "# Listas"
   ]
  },
  {
   "cell_type": "markdown",
   "id": "1e9fa448",
   "metadata": {},
   "source": [
    "## Criação e manipulação de listas "
   ]
  },
  {
   "cell_type": "code",
   "execution_count": 87,
   "id": "2fb0659e",
   "metadata": {},
   "outputs": [
    {
     "name": "stdout",
     "output_type": "stream",
     "text": [
      "[1, 2, 3, 4]\n"
     ]
    }
   ],
   "source": [
    "lista1 = [1, 2, 3, 4]\n",
    "print(lista1)"
   ]
  },
  {
   "cell_type": "code",
   "execution_count": 4,
   "id": "3b5a7888",
   "metadata": {},
   "outputs": [
    {
     "name": "stdout",
     "output_type": "stream",
     "text": [
      "['1', '2', '3', '4']\n"
     ]
    }
   ],
   "source": [
    "lista2 = list('1234')\n",
    "print(lista2)"
   ]
  },
  {
   "cell_type": "code",
   "execution_count": 5,
   "id": "5e1ae455",
   "metadata": {},
   "outputs": [
    {
     "name": "stdout",
     "output_type": "stream",
     "text": [
      "['P', 'y', 't', 'h', 'o', 'n']\n"
     ]
    }
   ],
   "source": [
    "lista3 = list('Python')\n",
    "print(lista3)"
   ]
  },
  {
   "cell_type": "code",
   "execution_count": 7,
   "id": "ebfd93f7",
   "metadata": {},
   "outputs": [
    {
     "name": "stdout",
     "output_type": "stream",
     "text": [
      "[1, 2, 3, 4]\n"
     ]
    }
   ],
   "source": [
    "lista4 = list((1, 2, 3, 4))\n",
    "print(lista4)"
   ]
  },
  {
   "cell_type": "code",
   "execution_count": 8,
   "id": "71e5724e",
   "metadata": {},
   "outputs": [
    {
     "name": "stdout",
     "output_type": "stream",
     "text": [
      "(1, 2, 3, 4)\n"
     ]
    }
   ],
   "source": [
    "tupla = tuple(lista1)\n",
    "print(tupla)"
   ]
  },
  {
   "cell_type": "code",
   "execution_count": 9,
   "id": "8c62b641",
   "metadata": {},
   "outputs": [
    {
     "data": {
      "text/plain": [
       "3"
      ]
     },
     "execution_count": 9,
     "metadata": {},
     "output_type": "execute_result"
    }
   ],
   "source": [
    "lista1[2]"
   ]
  },
  {
   "cell_type": "code",
   "execution_count": 10,
   "id": "3605cb48",
   "metadata": {},
   "outputs": [
    {
     "data": {
      "text/plain": [
       "['h', 'o', 'n']"
      ]
     },
     "execution_count": 10,
     "metadata": {},
     "output_type": "execute_result"
    }
   ],
   "source": [
    "lista3[3:6]"
   ]
  },
  {
   "cell_type": "code",
   "execution_count": 11,
   "id": "8cebc387",
   "metadata": {},
   "outputs": [
    {
     "data": {
      "text/plain": [
       "True"
      ]
     },
     "execution_count": 11,
     "metadata": {},
     "output_type": "execute_result"
    }
   ],
   "source": [
    "'h' in lista3"
   ]
  },
  {
   "cell_type": "code",
   "execution_count": 14,
   "id": "8bf9fea7",
   "metadata": {},
   "outputs": [
    {
     "data": {
      "text/plain": [
       "2"
      ]
     },
     "execution_count": 14,
     "metadata": {},
     "output_type": "execute_result"
    }
   ],
   "source": [
    "nums = [1, 2, 3, 4, 5, 2]\n",
    "nums.count(2)"
   ]
  },
  {
   "cell_type": "code",
   "execution_count": 15,
   "id": "537fae53",
   "metadata": {},
   "outputs": [
    {
     "name": "stdout",
     "output_type": "stream",
     "text": [
      "[[1, 2, 3, 4], ['1', '2', '3', '4']]\n"
     ]
    }
   ],
   "source": [
    "listas = [lista1, lista2]\n",
    "print(listas)"
   ]
  },
  {
   "cell_type": "code",
   "execution_count": 17,
   "id": "ea945fa2",
   "metadata": {},
   "outputs": [
    {
     "name": "stdout",
     "output_type": "stream",
     "text": [
      "[1, 2, 3, 4]\n",
      "3\n"
     ]
    }
   ],
   "source": [
    "listas[1][2]"
   ]
  },
  {
   "cell_type": "markdown",
   "id": "b2ebaab3",
   "metadata": {},
   "source": [
    "## Funções para manipular listas"
   ]
  },
  {
   "cell_type": "code",
   "execution_count": 19,
   "id": "a51a2f2c",
   "metadata": {},
   "outputs": [
    {
     "name": "stdout",
     "output_type": "stream",
     "text": [
      "['laranja', 'banana', 'abacaxi', 'morango', 'uva']\n",
      "['laranja', 'banana', 'morango', 'uva']\n"
     ]
    }
   ],
   "source": [
    "frutas = ['laranja', 'banana', 'abacaxi', 'morango', 'uva']\n",
    "print(frutas)\n",
    "del(frutas[2])\n",
    "print(frutas)"
   ]
  },
  {
   "cell_type": "code",
   "execution_count": 20,
   "id": "0d0dfdd0",
   "metadata": {},
   "outputs": [
    {
     "name": "stdout",
     "output_type": "stream",
     "text": [
      "['laranja', 'banana', 'uva']\n"
     ]
    }
   ],
   "source": [
    "frutas.remove('morango')\n",
    "print(frutas)"
   ]
  },
  {
   "cell_type": "code",
   "execution_count": 21,
   "id": "756eef3f",
   "metadata": {},
   "outputs": [
    {
     "name": "stdout",
     "output_type": "stream",
     "text": [
      "['laranja', 'banana', 'abacaxi', 'morango', 'uva']\n",
      "['laranja', 'banana', 'abacaxi', 'morango']\n"
     ]
    }
   ],
   "source": [
    "frutas = ['laranja', 'banana', 'abacaxi', 'morango', 'uva']\n",
    "print(frutas)\n",
    "frutas.pop()\n",
    "print(frutas)"
   ]
  },
  {
   "cell_type": "code",
   "execution_count": 22,
   "id": "840ddea8",
   "metadata": {},
   "outputs": [
    {
     "name": "stdout",
     "output_type": "stream",
     "text": [
      "['laranja', 'banana', 'morango']\n"
     ]
    }
   ],
   "source": [
    "frutas.pop(2)\n",
    "print(frutas)"
   ]
  },
  {
   "cell_type": "code",
   "execution_count": 33,
   "id": "4efaccb1",
   "metadata": {},
   "outputs": [
    {
     "name": "stdout",
     "output_type": "stream",
     "text": [
      "['laranja', 'banana', 'abacaxi', 'morango', 'uva']\n",
      "abacaxi\n"
     ]
    }
   ],
   "source": [
    "frutas = ['laranja', 'banana', 'abacaxi', 'morango', 'uva']\n",
    "print(frutas)\n",
    "fruta_excluida = frutas.pop(2)\n",
    "print(fruta_excluida)"
   ]
  },
  {
   "cell_type": "code",
   "execution_count": 34,
   "id": "c6e4311e",
   "metadata": {},
   "outputs": [
    {
     "ename": "SyntaxError",
     "evalue": "invalid syntax (<ipython-input-34-820445c5bf4d>, line 3)",
     "output_type": "error",
     "traceback": [
      "\u001b[1;36m  File \u001b[1;32m\"<ipython-input-34-820445c5bf4d>\"\u001b[1;36m, line \u001b[1;32m3\u001b[0m\n\u001b[1;33m    fruta_excluida_del = del(frutas[2])\u001b[0m\n\u001b[1;37m                         ^\u001b[0m\n\u001b[1;31mSyntaxError\u001b[0m\u001b[1;31m:\u001b[0m invalid syntax\n"
     ]
    }
   ],
   "source": [
    "frutas = ['laranja', 'banana', 'abacaxi', 'morango', 'uva']\n",
    "print(frutas)\n",
    "fruta_excluida_del = del(frutas[2])\n",
    "print(fruta_excluida_del)"
   ]
  },
  {
   "cell_type": "code",
   "execution_count": 35,
   "id": "2077e471",
   "metadata": {},
   "outputs": [
    {
     "data": {
      "text/plain": [
       "['laranja', 'banana', 'morango', 'uva']"
      ]
     },
     "execution_count": 35,
     "metadata": {},
     "output_type": "execute_result"
    }
   ],
   "source": [
    "frutas"
   ]
  },
  {
   "cell_type": "code",
   "execution_count": 36,
   "id": "dc43f732",
   "metadata": {},
   "outputs": [
    {
     "name": "stdout",
     "output_type": "stream",
     "text": [
      "['laranja', 'banana', 'morango', 'uva', 'abacaxi']\n"
     ]
    }
   ],
   "source": [
    "frutas.append('abacaxi')\n",
    "print(frutas)"
   ]
  },
  {
   "cell_type": "code",
   "execution_count": 37,
   "id": "be88941d",
   "metadata": {},
   "outputs": [
    {
     "name": "stdout",
     "output_type": "stream",
     "text": [
      "['laranja', 'banana', 'maçã', 'uva', 'abacaxi']\n"
     ]
    }
   ],
   "source": [
    "frutas[2] = 'maçã'\n",
    "print(frutas)"
   ]
  },
  {
   "cell_type": "code",
   "execution_count": 38,
   "id": "9915dd1b",
   "metadata": {},
   "outputs": [
    {
     "ename": "IndexError",
     "evalue": "list assignment index out of range",
     "output_type": "error",
     "traceback": [
      "\u001b[1;31m---------------------------------------------------------------------------\u001b[0m",
      "\u001b[1;31mIndexError\u001b[0m                                Traceback (most recent call last)",
      "\u001b[1;32m<ipython-input-38-b94ab42876c8>\u001b[0m in \u001b[0;36m<module>\u001b[1;34m\u001b[0m\n\u001b[1;32m----> 1\u001b[1;33m \u001b[0mfrutas\u001b[0m\u001b[1;33m[\u001b[0m\u001b[1;36m5\u001b[0m\u001b[1;33m]\u001b[0m \u001b[1;33m=\u001b[0m \u001b[1;34m'morango'\u001b[0m\u001b[1;33m\u001b[0m\u001b[1;33m\u001b[0m\u001b[0m\n\u001b[0m\u001b[0;32m      2\u001b[0m \u001b[0mprint\u001b[0m\u001b[1;33m(\u001b[0m\u001b[0mfrutas\u001b[0m\u001b[1;33m)\u001b[0m\u001b[1;33m\u001b[0m\u001b[1;33m\u001b[0m\u001b[0m\n",
      "\u001b[1;31mIndexError\u001b[0m: list assignment index out of range"
     ]
    }
   ],
   "source": [
    "frutas[5] = 'melão'\n",
    "print(frutas)"
   ]
  },
  {
   "cell_type": "code",
   "execution_count": 39,
   "id": "983c208b",
   "metadata": {},
   "outputs": [
    {
     "name": "stdout",
     "output_type": "stream",
     "text": [
      "['laranja', 'banana', 'morango', 'maçã', 'uva', 'abacaxi']\n"
     ]
    }
   ],
   "source": [
    "frutas.insert(2, 'morango')\n",
    "print(frutas)"
   ]
  },
  {
   "cell_type": "code",
   "execution_count": 40,
   "id": "28be875b",
   "metadata": {},
   "outputs": [
    {
     "name": "stdout",
     "output_type": "stream",
     "text": [
      "['laranja', 'banana', 'morango', 'maçã', 'uva', 'abacaxi', 'pera', 'mamão']\n"
     ]
    }
   ],
   "source": [
    "frutas2 = ['pera', 'mamão']\n",
    "frutas.extend(frutas2)\n",
    "print(frutas)"
   ]
  },
  {
   "cell_type": "code",
   "execution_count": 41,
   "id": "52727738",
   "metadata": {},
   "outputs": [
    {
     "name": "stdout",
     "output_type": "stream",
     "text": [
      "[]\n"
     ]
    }
   ],
   "source": [
    "frutas.clear()\n",
    "print(frutas)"
   ]
  },
  {
   "cell_type": "code",
   "execution_count": 43,
   "id": "498130f8",
   "metadata": {},
   "outputs": [
    {
     "name": "stdout",
     "output_type": "stream",
     "text": [
      "['abacaxi', 'banana', 'laranja', 'morango', 'uva']\n"
     ]
    }
   ],
   "source": [
    "frutas = ['laranja', 'banana', 'abacaxi', 'morango', 'uva']\n",
    "frutas.sort()\n",
    "print(frutas)"
   ]
  },
  {
   "cell_type": "code",
   "execution_count": 44,
   "id": "9ef2d6d6",
   "metadata": {},
   "outputs": [
    {
     "name": "stdout",
     "output_type": "stream",
     "text": [
      "['uva', 'morango', 'laranja', 'banana', 'abacaxi']\n"
     ]
    }
   ],
   "source": [
    "frutas.sort(reverse=True)\n",
    "print(frutas)"
   ]
  },
  {
   "cell_type": "code",
   "execution_count": 45,
   "id": "4c7cb1a1",
   "metadata": {},
   "outputs": [
    {
     "name": "stdout",
     "output_type": "stream",
     "text": [
      "['uva', 'morango', 'abacaxi', 'banana', 'laranja']\n"
     ]
    }
   ],
   "source": [
    "frutas = ['laranja', 'banana', 'abacaxi', 'morango', 'uva']\n",
    "frutas.reverse()\n",
    "print(frutas)"
   ]
  },
  {
   "cell_type": "code",
   "execution_count": 46,
   "id": "b118596c",
   "metadata": {},
   "outputs": [
    {
     "name": "stdout",
     "output_type": "stream",
     "text": [
      "['abacaxi', 'banana', 'laranja', 'morango', 'uva']\n"
     ]
    }
   ],
   "source": [
    "frutas_ordenadas = sorted(frutas)\n",
    "print(frutas_ordenadas)"
   ]
  },
  {
   "cell_type": "code",
   "execution_count": 48,
   "id": "495bb01e",
   "metadata": {},
   "outputs": [
    {
     "name": "stdout",
     "output_type": "stream",
     "text": [
      "[24, 2, 3] [24, 2, 3]\n"
     ]
    }
   ],
   "source": [
    "lst1 = [1, 2, 3]  \n",
    "lst2 = lst1     \n",
    "lst2[0]=24\n",
    "print(lst1, lst2)"
   ]
  },
  {
   "cell_type": "code",
   "execution_count": 49,
   "id": "edc20200",
   "metadata": {},
   "outputs": [
    {
     "name": "stdout",
     "output_type": "stream",
     "text": [
      "[1, 2, 3] [24, 2, 3]\n"
     ]
    }
   ],
   "source": [
    "lst1 = [1, 2, 3]  \n",
    "lst2 = lst1.copy()    \n",
    "lst2[0]=24\n",
    "print(lst1, lst2)"
   ]
  },
  {
   "cell_type": "code",
   "execution_count": 56,
   "id": "bc2f0866",
   "metadata": {},
   "outputs": [
    {
     "ename": "TypeError",
     "evalue": "sequence item 0: expected str instance, int found",
     "output_type": "error",
     "traceback": [
      "\u001b[1;31m---------------------------------------------------------------------------\u001b[0m",
      "\u001b[1;31mTypeError\u001b[0m                                 Traceback (most recent call last)",
      "\u001b[1;32m<ipython-input-56-783a1b641c4e>\u001b[0m in \u001b[0;36m<module>\u001b[1;34m\u001b[0m\n\u001b[0;32m      1\u001b[0m \u001b[0mnums\u001b[0m \u001b[1;33m=\u001b[0m \u001b[1;33m[\u001b[0m\u001b[1;36m1\u001b[0m\u001b[1;33m,\u001b[0m \u001b[1;36m2\u001b[0m\u001b[1;33m,\u001b[0m \u001b[1;36m3\u001b[0m\u001b[1;33m,\u001b[0m \u001b[1;36m4\u001b[0m\u001b[1;33m]\u001b[0m\u001b[1;33m\u001b[0m\u001b[1;33m\u001b[0m\u001b[0m\n\u001b[1;32m----> 2\u001b[1;33m \u001b[1;34m', '\u001b[0m\u001b[1;33m.\u001b[0m\u001b[0mjoin\u001b[0m\u001b[1;33m(\u001b[0m\u001b[0mnums\u001b[0m\u001b[1;33m)\u001b[0m\u001b[1;33m\u001b[0m\u001b[1;33m\u001b[0m\u001b[0m\n\u001b[0m",
      "\u001b[1;31mTypeError\u001b[0m: sequence item 0: expected str instance, int found"
     ]
    }
   ],
   "source": [
    "nums = [1, 2, 3, 4]\n",
    "', '.join(nums)"
   ]
  },
  {
   "cell_type": "code",
   "execution_count": 57,
   "id": "fbff9b3f",
   "metadata": {},
   "outputs": [
    {
     "data": {
      "text/plain": [
       "'1, 2, 3, 4'"
      ]
     },
     "execution_count": 57,
     "metadata": {},
     "output_type": "execute_result"
    }
   ],
   "source": [
    "nums = ['1', '2', '3', '4']\n",
    "', '.join(nums)"
   ]
  },
  {
   "cell_type": "markdown",
   "id": "b115487c",
   "metadata": {},
   "source": [
    "## Funções com listas"
   ]
  },
  {
   "cell_type": "code",
   "execution_count": 93,
   "id": "1cb81b03",
   "metadata": {},
   "outputs": [
    {
     "name": "stdout",
     "output_type": "stream",
     "text": [
      "8\n",
      "1\n",
      "23\n",
      "6\n"
     ]
    }
   ],
   "source": [
    "nums = [1, 2, 3, 4, 5, 8]\n",
    "print(max(nums))\n",
    "print(min(nums))\n",
    "print(sum(nums))\n",
    "print(len(nums))"
   ]
  }
 ],
 "metadata": {
  "kernelspec": {
   "display_name": "Python 3",
   "language": "python",
   "name": "python3"
  },
  "language_info": {
   "codemirror_mode": {
    "name": "ipython",
    "version": 3
   },
   "file_extension": ".py",
   "mimetype": "text/x-python",
   "name": "python",
   "nbconvert_exporter": "python",
   "pygments_lexer": "ipython3",
   "version": "3.8.8"
  },
  "toc": {
   "base_numbering": 1,
   "nav_menu": {},
   "number_sections": true,
   "sideBar": true,
   "skip_h1_title": false,
   "title_cell": "Table of Contents",
   "title_sidebar": "Contents",
   "toc_cell": false,
   "toc_position": {},
   "toc_section_display": true,
   "toc_window_display": false
  }
 },
 "nbformat": 4,
 "nbformat_minor": 5
}
