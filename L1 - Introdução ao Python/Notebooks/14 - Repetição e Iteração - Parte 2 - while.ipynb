{
 "cells": [
  {
   "cell_type": "markdown",
   "id": "49eb4507",
   "metadata": {},
   "source": [
    "# While"
   ]
  },
  {
   "cell_type": "code",
   "execution_count": 1,
   "id": "986af1cd",
   "metadata": {},
   "outputs": [
    {
     "name": "stdout",
     "output_type": "stream",
     "text": [
      "c = 0\n",
      "c = 1\n",
      "c = 2\n",
      "c = 3\n",
      "c = 4\n",
      "c = 5\n",
      "c = 6\n",
      "c = 7\n",
      "c = 8\n",
      "c = 9\n"
     ]
    }
   ],
   "source": [
    "c = 0\n",
    "while c < 10:\n",
    "    print(f'c = {c}')\n",
    "    c +=1"
   ]
  },
  {
   "cell_type": "code",
   "execution_count": 2,
   "id": "1c78d445",
   "metadata": {},
   "outputs": [
    {
     "name": "stdout",
     "output_type": "stream",
     "text": [
      "c = 1\n",
      "Número par\n"
     ]
    }
   ],
   "source": [
    "c = 0\n",
    "while c < 10:\n",
    "    c +=1\n",
    "    if c % 2 == 0:\n",
    "        print(\"Número par\")\n",
    "        #continue\n",
    "        break\n",
    "    print(f'c = {c}')"
   ]
  },
  {
   "cell_type": "code",
   "execution_count": null,
   "id": "5fbdb039",
   "metadata": {},
   "outputs": [],
   "source": [
    "c = 0\n",
    "while c < 100:\n",
    "    c +=1\n",
    "    if c == 50:\n",
    "        break\n",
    "    print(f'{c}', end=', ')"
   ]
  },
  {
   "cell_type": "code",
   "execution_count": null,
   "id": "b87e64a0",
   "metadata": {},
   "outputs": [],
   "source": [
    "c = 0\n",
    "while True:\n",
    "    c +=1\n",
    "    if c == 50:\n",
    "        break\n",
    "    print(f'{c}', end=', ')"
   ]
  },
  {
   "cell_type": "code",
   "execution_count": null,
   "id": "6c397f6d",
   "metadata": {},
   "outputs": [],
   "source": [
    "while True:\n",
    "    numero = int(input('Digite um número: '))\n",
    "    if numero == 0:\n",
    "        print('Saiu do sistema')\n",
    "        break\n",
    "    print('Digite outro número ou digite 0 para sair.')"
   ]
  }
 ],
 "metadata": {
  "kernelspec": {
   "display_name": "Python 3",
   "language": "python",
   "name": "python3"
  },
  "language_info": {
   "codemirror_mode": {
    "name": "ipython",
    "version": 3
   },
   "file_extension": ".py",
   "mimetype": "text/x-python",
   "name": "python",
   "nbconvert_exporter": "python",
   "pygments_lexer": "ipython3",
   "version": "3.8.8"
  },
  "toc": {
   "base_numbering": 1,
   "nav_menu": {},
   "number_sections": true,
   "sideBar": true,
   "skip_h1_title": false,
   "title_cell": "Table of Contents",
   "title_sidebar": "Contents",
   "toc_cell": false,
   "toc_position": {},
   "toc_section_display": true,
   "toc_window_display": false
  }
 },
 "nbformat": 4,
 "nbformat_minor": 5
}
