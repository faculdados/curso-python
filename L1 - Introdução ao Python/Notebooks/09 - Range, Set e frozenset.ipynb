{
 "cells": [
  {
   "cell_type": "markdown",
   "id": "95aceeed",
   "metadata": {},
   "source": [
    "# Range"
   ]
  },
  {
   "cell_type": "code",
   "execution_count": 1,
   "id": "1921246b",
   "metadata": {},
   "outputs": [
    {
     "name": "stdout",
     "output_type": "stream",
     "text": [
      "range(0, 5)\n"
     ]
    }
   ],
   "source": [
    "print(range(5))"
   ]
  },
  {
   "cell_type": "code",
   "execution_count": 2,
   "id": "cef7416d",
   "metadata": {},
   "outputs": [
    {
     "name": "stdout",
     "output_type": "stream",
     "text": [
      "<class 'range'>\n"
     ]
    }
   ],
   "source": [
    "print(type(range(5)))"
   ]
  },
  {
   "cell_type": "code",
   "execution_count": 3,
   "id": "6af65b71",
   "metadata": {},
   "outputs": [
    {
     "name": "stdout",
     "output_type": "stream",
     "text": [
      "[0, 1, 2, 3, 4]\n"
     ]
    }
   ],
   "source": [
    "print(list(range(5)))"
   ]
  },
  {
   "cell_type": "code",
   "execution_count": 4,
   "id": "d5983fda",
   "metadata": {},
   "outputs": [
    {
     "name": "stdout",
     "output_type": "stream",
     "text": [
      "[0, 2, 4, 6, 8]\n"
     ]
    }
   ],
   "source": [
    "# range(start, end, step)\n",
    "print(list(range(0,10,2)))"
   ]
  },
  {
   "cell_type": "code",
   "execution_count": 5,
   "id": "139ae365",
   "metadata": {},
   "outputs": [
    {
     "name": "stdout",
     "output_type": "stream",
     "text": [
      "[10, 12, 14, 16, 18, 20, 22, 24, 26, 28, 30, 32, 34, 36, 38, 40, 42, 44, 46, 48, 50, 52, 54, 56, 58, 60, 62, 64, 66, 68, 70, 72, 74, 76, 78, 80, 82, 84, 86, 88, 90, 92, 94, 96, 98]\n"
     ]
    }
   ],
   "source": [
    "print(list(range(10,100,2)))"
   ]
  },
  {
   "cell_type": "code",
   "execution_count": null,
   "id": "48e067be",
   "metadata": {},
   "outputs": [],
   "source": [
    "print(list(range(10, 101, 2)))"
   ]
  },
  {
   "cell_type": "code",
   "execution_count": null,
   "id": "a31d96a7",
   "metadata": {},
   "outputs": [],
   "source": [
    "print(list(range(10, 101, 10)))"
   ]
  },
  {
   "cell_type": "markdown",
   "id": "e6e3378d",
   "metadata": {},
   "source": [
    "# Set e Fronzenset"
   ]
  },
  {
   "cell_type": "code",
   "execution_count": 22,
   "id": "b85871bd",
   "metadata": {},
   "outputs": [
    {
     "name": "stdout",
     "output_type": "stream",
     "text": [
      "[1, 2, 3, 4, 5, 1, 2, 3]\n"
     ]
    }
   ],
   "source": [
    "num_lista = [1, 2, 3, 4, 5, 1, 2, 3]\n",
    "print(num_lista)"
   ]
  },
  {
   "cell_type": "code",
   "execution_count": 36,
   "id": "f1bb675e",
   "metadata": {},
   "outputs": [
    {
     "name": "stdout",
     "output_type": "stream",
     "text": [
      "{1, 2, 3, 4, 5}\n"
     ]
    }
   ],
   "source": [
    "num_set = set(num_lista)\n",
    "print(num_set)"
   ]
  },
  {
   "cell_type": "code",
   "execution_count": 34,
   "id": "aa0e5961",
   "metadata": {},
   "outputs": [
    {
     "name": "stdout",
     "output_type": "stream",
     "text": [
      "{1, 2, 3, 4, 5}\n"
     ]
    }
   ],
   "source": [
    "num_set2 = {1, 2, 3, 4, 5, 1, 2, 3}\n",
    "print(num_set2)"
   ]
  },
  {
   "cell_type": "code",
   "execution_count": 15,
   "id": "dc1c9324",
   "metadata": {},
   "outputs": [
    {
     "name": "stdout",
     "output_type": "stream",
     "text": [
      "{1, 2, 3, 4, 5, 6}\n"
     ]
    }
   ],
   "source": [
    "num_set.add(6)\n",
    "print(num_set)"
   ]
  },
  {
   "cell_type": "code",
   "execution_count": 16,
   "id": "61826526",
   "metadata": {},
   "outputs": [
    {
     "name": "stdout",
     "output_type": "stream",
     "text": [
      "{1, 2, 3, 4, 5, 6}\n"
     ]
    }
   ],
   "source": [
    "num_set.add(6)\n",
    "print(num_set)"
   ]
  },
  {
   "cell_type": "code",
   "execution_count": 37,
   "id": "f7163260",
   "metadata": {},
   "outputs": [
    {
     "name": "stdout",
     "output_type": "stream",
     "text": [
      "{2, 3, 4, 5}\n",
      "1\n"
     ]
    }
   ],
   "source": [
    "elemento_removido = num_set.pop()\n",
    "print(num_set)\n",
    "print(elemento_removido)"
   ]
  },
  {
   "cell_type": "code",
   "execution_count": 39,
   "id": "c56a3751",
   "metadata": {},
   "outputs": [
    {
     "name": "stdout",
     "output_type": "stream",
     "text": [
      "{40, 0.5, 'abc', True}\n"
     ]
    }
   ],
   "source": [
    "set3 = {'abc', 40, 0.5, True}\n",
    "print(set3)"
   ]
  },
  {
   "cell_type": "code",
   "execution_count": 40,
   "id": "95eb3f07",
   "metadata": {},
   "outputs": [
    {
     "name": "stdout",
     "output_type": "stream",
     "text": [
      "{0.5, 1, 'abc'}\n"
     ]
    }
   ],
   "source": [
    "set3 = {'abc', 1, 0.5, True}\n",
    "print(set3)"
   ]
  },
  {
   "cell_type": "code",
   "execution_count": null,
   "id": "3bd8c7e7",
   "metadata": {},
   "outputs": [],
   "source": [
    "set3 = {'abc', 0, 0.5, False}\n",
    "print(set3)"
   ]
  },
  {
   "cell_type": "code",
   "execution_count": null,
   "id": "4551b00c",
   "metadata": {},
   "outputs": [],
   "source": [
    "print(num_set)"
   ]
  },
  {
   "cell_type": "code",
   "execution_count": 41,
   "id": "848cc45a",
   "metadata": {},
   "outputs": [
    {
     "data": {
      "text/plain": [
       "True"
      ]
     },
     "execution_count": 41,
     "metadata": {},
     "output_type": "execute_result"
    }
   ],
   "source": [
    "2 in num_set"
   ]
  },
  {
   "cell_type": "code",
   "execution_count": 43,
   "id": "3d11213f",
   "metadata": {},
   "outputs": [
    {
     "name": "stdout",
     "output_type": "stream",
     "text": [
      "{2, 3, 4, 5, 6, 7, 8}\n"
     ]
    }
   ],
   "source": [
    "num_set2 = {6,7,8}\n",
    "num_set.update(num_set2)\n",
    "print(num_set)"
   ]
  },
  {
   "cell_type": "code",
   "execution_count": 44,
   "id": "c7248aaf",
   "metadata": {},
   "outputs": [
    {
     "name": "stdout",
     "output_type": "stream",
     "text": [
      "{2, 3, 4, 5, 6, 7, 8, 9, 10, 11}\n"
     ]
    }
   ],
   "source": [
    "num_lista = [9, 10]\n",
    "num_set.update(num_lista)\n",
    "print(num_set)"
   ]
  },
  {
   "cell_type": "code",
   "execution_count": 47,
   "id": "6a2cf08e",
   "metadata": {},
   "outputs": [
    {
     "ename": "KeyError",
     "evalue": "6",
     "output_type": "error",
     "traceback": [
      "\u001b[1;31m---------------------------------------------------------------------------\u001b[0m",
      "\u001b[1;31mKeyError\u001b[0m                                  Traceback (most recent call last)",
      "\u001b[1;32m<ipython-input-47-921e61d07a47>\u001b[0m in \u001b[0;36m<module>\u001b[1;34m\u001b[0m\n\u001b[1;32m----> 1\u001b[1;33m \u001b[0mnum_set\u001b[0m\u001b[1;33m.\u001b[0m\u001b[0mremove\u001b[0m\u001b[1;33m(\u001b[0m\u001b[1;36m6\u001b[0m\u001b[1;33m)\u001b[0m\u001b[1;33m\u001b[0m\u001b[1;33m\u001b[0m\u001b[0m\n\u001b[0m\u001b[0;32m      2\u001b[0m \u001b[0mprint\u001b[0m\u001b[1;33m(\u001b[0m\u001b[0mnum_set\u001b[0m\u001b[1;33m)\u001b[0m\u001b[1;33m\u001b[0m\u001b[1;33m\u001b[0m\u001b[0m\n",
      "\u001b[1;31mKeyError\u001b[0m: 6"
     ]
    }
   ],
   "source": [
    "num_set.remove(6)\n",
    "print(num_set)"
   ]
  },
  {
   "cell_type": "code",
   "execution_count": 48,
   "id": "0dee2fca",
   "metadata": {},
   "outputs": [
    {
     "name": "stdout",
     "output_type": "stream",
     "text": [
      "{2, 3, 4, 5, 7, 9, 10, 11}\n"
     ]
    }
   ],
   "source": [
    "num_set.discard(8)\n",
    "print(num_set)"
   ]
  },
  {
   "cell_type": "code",
   "execution_count": 49,
   "id": "04ad3c21",
   "metadata": {},
   "outputs": [
    {
     "name": "stdout",
     "output_type": "stream",
     "text": [
      "set()\n"
     ]
    }
   ],
   "source": [
    "num_set.clear()\n",
    "print(num_set)"
   ]
  },
  {
   "cell_type": "code",
   "execution_count": 50,
   "id": "9eda81d6",
   "metadata": {},
   "outputs": [
    {
     "ename": "NameError",
     "evalue": "name 'num_set' is not defined",
     "output_type": "error",
     "traceback": [
      "\u001b[1;31m---------------------------------------------------------------------------\u001b[0m",
      "\u001b[1;31mNameError\u001b[0m                                 Traceback (most recent call last)",
      "\u001b[1;32m<ipython-input-50-ba85332a23ba>\u001b[0m in \u001b[0;36m<module>\u001b[1;34m\u001b[0m\n\u001b[0;32m      1\u001b[0m \u001b[1;32mdel\u001b[0m \u001b[0mnum_set\u001b[0m\u001b[1;33m\u001b[0m\u001b[1;33m\u001b[0m\u001b[0m\n\u001b[1;32m----> 2\u001b[1;33m \u001b[0mprint\u001b[0m\u001b[1;33m(\u001b[0m\u001b[0mnum_set\u001b[0m\u001b[1;33m)\u001b[0m\u001b[1;33m\u001b[0m\u001b[1;33m\u001b[0m\u001b[0m\n\u001b[0m",
      "\u001b[1;31mNameError\u001b[0m: name 'num_set' is not defined"
     ]
    }
   ],
   "source": [
    "del num_set\n",
    "print(num_set)"
   ]
  },
  {
   "cell_type": "code",
   "execution_count": 51,
   "id": "2f8f6da8",
   "metadata": {},
   "outputs": [
    {
     "name": "stdout",
     "output_type": "stream",
     "text": [
      "{1, 2, 3, 4, 5, 6}\n"
     ]
    }
   ],
   "source": [
    "num1 = {1,2,3}\n",
    "num2 = {4,5,6}\n",
    "num3 = num1.union(num2)\n",
    "print(num3)"
   ]
  },
  {
   "cell_type": "code",
   "execution_count": 53,
   "id": "afe36988",
   "metadata": {},
   "outputs": [
    {
     "name": "stdout",
     "output_type": "stream",
     "text": [
      "{4}\n"
     ]
    }
   ],
   "source": [
    "num1 = {1,2,3,4}\n",
    "num2 = {4,5,6}\n",
    "num3 = num1.intersection(num2)\n",
    "print(num3)"
   ]
  },
  {
   "cell_type": "code",
   "execution_count": 52,
   "id": "3e078a81",
   "metadata": {},
   "outputs": [
    {
     "name": "stdout",
     "output_type": "stream",
     "text": [
      "{4}\n"
     ]
    }
   ],
   "source": [
    "num1 = {1,2,3,4}\n",
    "num2 = {4,5,6}\n",
    "num1.intersection_update(num2)\n",
    "print(num1)"
   ]
  },
  {
   "cell_type": "code",
   "execution_count": 55,
   "id": "0bf07ced",
   "metadata": {},
   "outputs": [
    {
     "name": "stdout",
     "output_type": "stream",
     "text": [
      "{1, 2, 3, 5, 6}\n"
     ]
    }
   ],
   "source": [
    "num1 = {1,2,3,4}\n",
    "num2 = {4,5,6}\n",
    "num3 = num1.symmetric_difference(num2)\n",
    "print(num3)"
   ]
  },
  {
   "cell_type": "code",
   "execution_count": 54,
   "id": "7d91d378",
   "metadata": {},
   "outputs": [
    {
     "name": "stdout",
     "output_type": "stream",
     "text": [
      "{1, 2, 3, 5, 6}\n"
     ]
    }
   ],
   "source": [
    "num1 = {1,2,3,4}\n",
    "num2 = {4,5,6}\n",
    "num1.symmetric_difference_update(num2)\n",
    "print(num1)"
   ]
  },
  {
   "cell_type": "code",
   "execution_count": 56,
   "id": "769b7630",
   "metadata": {},
   "outputs": [
    {
     "name": "stdout",
     "output_type": "stream",
     "text": [
      "{1, 2, 3}\n"
     ]
    }
   ],
   "source": [
    "num1 = {1,2,3,4}\n",
    "num2 = {4,5,6}\n",
    "num3 = num1.difference(num2)\n",
    "print(num3)"
   ]
  },
  {
   "cell_type": "code",
   "execution_count": null,
   "id": "1e9dac37",
   "metadata": {},
   "outputs": [],
   "source": [
    "num1 = {1, 2, 3, 4, 1, 2}"
   ]
  },
  {
   "cell_type": "code",
   "execution_count": 57,
   "id": "02c92256",
   "metadata": {},
   "outputs": [
    {
     "name": "stdout",
     "output_type": "stream",
     "text": [
      "frozenset({9, 10, 11})\n"
     ]
    }
   ],
   "source": [
    "frozenset1 = frozenset(num1)\n",
    "print(frozenset1)"
   ]
  },
  {
   "cell_type": "code",
   "execution_count": 58,
   "id": "77c99f68",
   "metadata": {},
   "outputs": [
    {
     "ename": "AttributeError",
     "evalue": "'frozenset' object has no attribute 'pop'",
     "output_type": "error",
     "traceback": [
      "\u001b[1;31m---------------------------------------------------------------------------\u001b[0m",
      "\u001b[1;31mAttributeError\u001b[0m                            Traceback (most recent call last)",
      "\u001b[1;32m<ipython-input-58-6fc869453193>\u001b[0m in \u001b[0;36m<module>\u001b[1;34m\u001b[0m\n\u001b[1;32m----> 1\u001b[1;33m \u001b[0mnum1\u001b[0m\u001b[1;33m.\u001b[0m\u001b[0mpop\u001b[0m\u001b[1;33m(\u001b[0m\u001b[1;33m)\u001b[0m\u001b[1;33m\u001b[0m\u001b[1;33m\u001b[0m\u001b[0m\n\u001b[0m",
      "\u001b[1;31mAttributeError\u001b[0m: 'frozenset' object has no attribute 'pop'"
     ]
    }
   ],
   "source": [
    "frozenset1.pop()"
   ]
  },
  {
   "cell_type": "code",
   "execution_count": null,
   "id": "5d4a3b03",
   "metadata": {},
   "outputs": [],
   "source": []
  }
 ],
 "metadata": {
  "kernelspec": {
   "display_name": "Python 3",
   "language": "python",
   "name": "python3"
  },
  "language_info": {
   "codemirror_mode": {
    "name": "ipython",
    "version": 3
   },
   "file_extension": ".py",
   "mimetype": "text/x-python",
   "name": "python",
   "nbconvert_exporter": "python",
   "pygments_lexer": "ipython3",
   "version": "3.8.8"
  },
  "toc": {
   "base_numbering": 1,
   "nav_menu": {},
   "number_sections": true,
   "sideBar": true,
   "skip_h1_title": false,
   "title_cell": "Table of Contents",
   "title_sidebar": "Contents",
   "toc_cell": false,
   "toc_position": {},
   "toc_section_display": true,
   "toc_window_display": false
  }
 },
 "nbformat": 4,
 "nbformat_minor": 5
}
