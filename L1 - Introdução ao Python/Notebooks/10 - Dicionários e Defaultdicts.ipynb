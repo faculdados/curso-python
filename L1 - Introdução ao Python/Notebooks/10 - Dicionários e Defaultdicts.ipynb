{
 "cells": [
  {
   "cell_type": "markdown",
   "id": "238f5e5d",
   "metadata": {},
   "source": [
    "# Dicionários {}"
   ]
  },
  {
   "cell_type": "code",
   "execution_count": 45,
   "id": "50ae8692",
   "metadata": {},
   "outputs": [
    {
     "name": "stdout",
     "output_type": "stream",
     "text": [
      "{'nome': 'Caio', 'idade': 26}\n"
     ]
    }
   ],
   "source": [
    "usuario = {'nome': 'Caio', 'idade':26}\n",
    "print(usuario)"
   ]
  },
  {
   "cell_type": "code",
   "execution_count": 46,
   "id": "caf07eb2",
   "metadata": {},
   "outputs": [
    {
     "name": "stdout",
     "output_type": "stream",
     "text": [
      "{'nome': 'Caio', 'idade': 26}\n"
     ]
    }
   ],
   "source": [
    "usuario = dict(nome='Caio', idade=26)\n",
    "print(usuario)"
   ]
  },
  {
   "cell_type": "code",
   "execution_count": 47,
   "id": "60afb62b",
   "metadata": {},
   "outputs": [
    {
     "data": {
      "text/plain": [
       "'Caio'"
      ]
     },
     "execution_count": 47,
     "metadata": {},
     "output_type": "execute_result"
    }
   ],
   "source": [
    "usuario.get('nome')"
   ]
  },
  {
   "cell_type": "code",
   "execution_count": 48,
   "id": "ac1c3a59",
   "metadata": {},
   "outputs": [
    {
     "data": {
      "text/plain": [
       "'Caio'"
      ]
     },
     "execution_count": 48,
     "metadata": {},
     "output_type": "execute_result"
    }
   ],
   "source": [
    "usuario['nome']"
   ]
  },
  {
   "cell_type": "code",
   "execution_count": 49,
   "id": "c4d03cb0",
   "metadata": {},
   "outputs": [
    {
     "name": "stdout",
     "output_type": "stream",
     "text": [
      "{'nome': 'Caio', 'idade': 26, 'sobrenome': 'Alencikas'}\n"
     ]
    }
   ],
   "source": [
    "usuario['sobrenome'] = 'Alencikas'\n",
    "print(usuario)"
   ]
  },
  {
   "cell_type": "code",
   "execution_count": 50,
   "id": "2d756806",
   "metadata": {},
   "outputs": [
    {
     "name": "stdout",
     "output_type": "stream",
     "text": [
      "{'nome': 'Caio', 'idade': 26, 'sobrenome': 'Farias'}\n"
     ]
    }
   ],
   "source": [
    "usuario['sobrenome'] = 'Farias'\n",
    "print(usuario)"
   ]
  },
  {
   "cell_type": "code",
   "execution_count": 51,
   "id": "6c80141d",
   "metadata": {},
   "outputs": [
    {
     "name": "stdout",
     "output_type": "stream",
     "text": [
      "{'nome': 'Caio', 'idade': 26, 'sobrenome': 'Farias', 'profissao': 'Analista de dados'}\n"
     ]
    }
   ],
   "source": [
    "usuario.update({'profissao': 'Analista de dados'})\n",
    "print(usuario)"
   ]
  },
  {
   "cell_type": "code",
   "execution_count": 52,
   "id": "ed4d6996",
   "metadata": {},
   "outputs": [
    {
     "name": "stdout",
     "output_type": "stream",
     "text": [
      "{'nome': 'Caio', 'idade': 26, 'sobrenome': 'Farias', 'profissao': 'Data analyst'}\n"
     ]
    }
   ],
   "source": [
    "usuario.update({'profissao': 'Data analyst'})\n",
    "print(usuario)"
   ]
  },
  {
   "cell_type": "code",
   "execution_count": 53,
   "id": "5000931f",
   "metadata": {},
   "outputs": [
    {
     "name": "stdout",
     "output_type": "stream",
     "text": [
      "{'nome': 'Caio', 'idade': 26, 'sobrenome': 'Farias', 'profissao': 'Data analyst', 'cor': 'azul', 'genero': 'M'}\n"
     ]
    }
   ],
   "source": [
    "usuario2 = {'cor': 'azul', 'genero': 'M'}\n",
    "usuario.update(usuario2)\n",
    "print(usuario)"
   ]
  },
  {
   "cell_type": "code",
   "execution_count": 13,
   "id": "54bda460",
   "metadata": {},
   "outputs": [
    {
     "ename": "NameError",
     "evalue": "name 'usuario' is not defined",
     "output_type": "error",
     "traceback": [
      "\u001b[1;31m---------------------------------------------------------------------------\u001b[0m",
      "\u001b[1;31mNameError\u001b[0m                                 Traceback (most recent call last)",
      "\u001b[1;32m<ipython-input-13-44542a387fdc>\u001b[0m in \u001b[0;36m<module>\u001b[1;34m\u001b[0m\n\u001b[1;32m----> 1\u001b[1;33m \u001b[1;32mdel\u001b[0m \u001b[0musuario\u001b[0m\u001b[1;33m\u001b[0m\u001b[1;33m\u001b[0m\u001b[0m\n\u001b[0m\u001b[0;32m      2\u001b[0m \u001b[0mprint\u001b[0m\u001b[1;33m(\u001b[0m\u001b[0musuario\u001b[0m\u001b[1;33m)\u001b[0m\u001b[1;33m\u001b[0m\u001b[1;33m\u001b[0m\u001b[0m\n",
      "\u001b[1;31mNameError\u001b[0m: name 'usuario' is not defined"
     ]
    }
   ],
   "source": [
    "del usuario\n",
    "print(usuario)"
   ]
  },
  {
   "cell_type": "code",
   "execution_count": 20,
   "id": "f77e0721",
   "metadata": {},
   "outputs": [
    {
     "name": "stdout",
     "output_type": "stream",
     "text": [
      "{'nome': 'Caio', 'idade': 26}\n"
     ]
    }
   ],
   "source": [
    "usuario = {'nome': 'Caio', 'idade':26}\n",
    "print(usuario)"
   ]
  },
  {
   "cell_type": "code",
   "execution_count": 15,
   "id": "fa96a791",
   "metadata": {},
   "outputs": [
    {
     "name": "stdout",
     "output_type": "stream",
     "text": [
      "{'idade': 26}\n"
     ]
    }
   ],
   "source": [
    "del usuario['nome']\n",
    "print(usuario)"
   ]
  },
  {
   "cell_type": "code",
   "execution_count": null,
   "id": "1d7ed5a8",
   "metadata": {},
   "outputs": [],
   "source": [
    "usuario = {'nome': 'Caio', 'idade':26}\n",
    "print(usuario)"
   ]
  },
  {
   "cell_type": "code",
   "execution_count": 17,
   "id": "12a4e18c",
   "metadata": {},
   "outputs": [
    {
     "name": "stdout",
     "output_type": "stream",
     "text": [
      "{'idade': 26}\n"
     ]
    }
   ],
   "source": [
    "del(usuario['nome'])\n",
    "print(usuario)"
   ]
  },
  {
   "cell_type": "code",
   "execution_count": null,
   "id": "083908b6",
   "metadata": {},
   "outputs": [],
   "source": [
    "usuario = {'nome': 'Caio', 'idade':26}\n",
    "print(usuario)"
   ]
  },
  {
   "cell_type": "code",
   "execution_count": 19,
   "id": "63151c5e",
   "metadata": {},
   "outputs": [
    {
     "name": "stdout",
     "output_type": "stream",
     "text": [
      "{}\n"
     ]
    }
   ],
   "source": [
    "usuario.clear()\n",
    "print(usuario)"
   ]
  },
  {
   "cell_type": "code",
   "execution_count": null,
   "id": "e39a7894",
   "metadata": {},
   "outputs": [],
   "source": [
    "usuario = {'nome': 'Caio', 'idade':26}\n",
    "print(usuario)"
   ]
  },
  {
   "cell_type": "code",
   "execution_count": 21,
   "id": "19085c50",
   "metadata": {},
   "outputs": [
    {
     "name": "stdout",
     "output_type": "stream",
     "text": [
      "{'idade': 26}\n"
     ]
    }
   ],
   "source": [
    "usuario.pop('nome')\n",
    "print(usuario)"
   ]
  },
  {
   "cell_type": "code",
   "execution_count": 74,
   "id": "f0fe4178",
   "metadata": {},
   "outputs": [
    {
     "name": "stdout",
     "output_type": "stream",
     "text": [
      "{'nome': 'Caio', 'idade': 26}\n"
     ]
    }
   ],
   "source": [
    "usuario = {'nome': 'Caio', 'idade':26}\n",
    "print(usuario)"
   ]
  },
  {
   "cell_type": "code",
   "execution_count": 75,
   "id": "e3cd9c0e",
   "metadata": {},
   "outputs": [
    {
     "name": "stdout",
     "output_type": "stream",
     "text": [
      "{'nome': 'Caio', 'idade': 26, 'sobrenome': 'Alencikas'}\n"
     ]
    }
   ],
   "source": [
    "usuario['sobrenome'] = 'Alencikas'\n",
    "print(usuario)"
   ]
  },
  {
   "cell_type": "code",
   "execution_count": 76,
   "id": "1beccc09",
   "metadata": {},
   "outputs": [
    {
     "name": "stdout",
     "output_type": "stream",
     "text": [
      "{'nome': 'Caio', 'idade': 26}\n"
     ]
    }
   ],
   "source": [
    "usuario.popitem()\n",
    "print(usuario)"
   ]
  },
  {
   "cell_type": "code",
   "execution_count": 2,
   "id": "13a6d28a",
   "metadata": {},
   "outputs": [
    {
     "name": "stdout",
     "output_type": "stream",
     "text": [
      "{'nome': 0, 'sobrenome': 0, 'idade': 0}\n"
     ]
    }
   ],
   "source": [
    "chaves = ('nome', 'sobrenome', 'idade')\n",
    "valor = 0\n",
    "usuario2 = dict.fromkeys(chaves, valor)\n",
    "print(usuario2)"
   ]
  },
  {
   "cell_type": "code",
   "execution_count": 78,
   "id": "b7c16f13",
   "metadata": {},
   "outputs": [
    {
     "name": "stdout",
     "output_type": "stream",
     "text": [
      "{'nome': 'Caio', 'idade': 26}\n",
      "dict_keys(['nome', 'idade'])\n",
      "dict_values(['Caio', 26])\n",
      "dict_items([('nome', 'Caio'), ('idade', 26)])\n"
     ]
    }
   ],
   "source": [
    "print(usuario)\n",
    "print(usuario.keys())\n",
    "print(usuario.values())\n",
    "print(usuario.items())"
   ]
  },
  {
   "cell_type": "code",
   "execution_count": 79,
   "id": "bc79dc75",
   "metadata": {},
   "outputs": [
    {
     "name": "stdout",
     "output_type": "stream",
     "text": [
      "True\n"
     ]
    }
   ],
   "source": [
    "print('nome' in usuario)"
   ]
  },
  {
   "cell_type": "code",
   "execution_count": 80,
   "id": "d9f2dae0",
   "metadata": {},
   "outputs": [
    {
     "ename": "KeyError",
     "evalue": "'genero'",
     "output_type": "error",
     "traceback": [
      "\u001b[1;31m---------------------------------------------------------------------------\u001b[0m",
      "\u001b[1;31mKeyError\u001b[0m                                  Traceback (most recent call last)",
      "\u001b[1;32m<ipython-input-80-880b5acca2b8>\u001b[0m in \u001b[0;36m<module>\u001b[1;34m\u001b[0m\n\u001b[1;32m----> 1\u001b[1;33m \u001b[0musuario\u001b[0m\u001b[1;33m[\u001b[0m\u001b[1;34m'genero'\u001b[0m\u001b[1;33m]\u001b[0m\u001b[1;33m\u001b[0m\u001b[1;33m\u001b[0m\u001b[0m\n\u001b[0m",
      "\u001b[1;31mKeyError\u001b[0m: 'genero'"
     ]
    }
   ],
   "source": [
    "usuario['genero']"
   ]
  },
  {
   "cell_type": "code",
   "execution_count": 81,
   "id": "f937ee39",
   "metadata": {},
   "outputs": [
    {
     "name": "stdout",
     "output_type": "stream",
     "text": [
      "{'nome': 'Caio', 'idade': 26, 'cachorros': ['Loki', 'Niko']}\n"
     ]
    }
   ],
   "source": [
    "usuario['cachorros'] = ['Loki', 'Niko']\n",
    "print(usuario)"
   ]
  },
  {
   "cell_type": "code",
   "execution_count": 82,
   "id": "c75ce54e",
   "metadata": {},
   "outputs": [
    {
     "name": "stdout",
     "output_type": "stream",
     "text": [
      "{'nome': 'Caio', 'idade': 26, 'cachorros': ['Loki', 'Niko'], 'linguagens': {'programacao': ['Python', 'Javascript'], 'idioma': ['Português', 'Inglês']}}\n"
     ]
    }
   ],
   "source": [
    "usuario['linguagens'] = {'programacao': ['Python', 'Javascript'], 'idioma': ['Português', 'Inglês']}\n",
    "print(usuario)"
   ]
  },
  {
   "cell_type": "code",
   "execution_count": 83,
   "id": "d8abaf9f",
   "metadata": {},
   "outputs": [
    {
     "name": "stdout",
     "output_type": "stream",
     "text": [
      "{'nome': 'Caio', 'idade': 26, 'cachorros': ['Loki', 'Niko'], 'linguagens': {'programacao': ['Python', 'Javascript'], 'idioma': ['Português', 'Inglês']}, 'amigos': [{'nome': 'João', 'idade': 25}, {'nome': 'Pedro', 'idade': 30}]}\n"
     ]
    }
   ],
   "source": [
    "usuario['amigos'] = [{'nome': 'João', 'idade': 25}, {'nome':'Pedro', 'idade':30}]\n",
    "print(usuario)"
   ]
  },
  {
   "cell_type": "code",
   "execution_count": 85,
   "id": "cfd8b050",
   "metadata": {},
   "outputs": [
    {
     "data": {
      "text/plain": [
       "{'nome': 'Pedro', 'idade': 30}"
      ]
     },
     "execution_count": 85,
     "metadata": {},
     "output_type": "execute_result"
    }
   ],
   "source": [
    "usuario['amigos'][1]['nome']"
   ]
  },
  {
   "cell_type": "code",
   "execution_count": 59,
   "id": "676976af",
   "metadata": {},
   "outputs": [],
   "source": [
    "from collections import defaultdict"
   ]
  },
  {
   "cell_type": "code",
   "execution_count": 69,
   "id": "e1593f43",
   "metadata": {},
   "outputs": [
    {
     "name": "stdout",
     "output_type": "stream",
     "text": [
      "defaultdict(<class 'str'>, {'nome': 'Caio', 'idade': 26})\n"
     ]
    }
   ],
   "source": [
    "usuario = defaultdict(str)\n",
    "usuario['nome'] = 'Caio'\n",
    "usuario['idade'] = 26\n",
    "print(usuario)"
   ]
  },
  {
   "cell_type": "code",
   "execution_count": 70,
   "id": "46af4f93",
   "metadata": {},
   "outputs": [
    {
     "data": {
      "text/plain": [
       "''"
      ]
     },
     "execution_count": 70,
     "metadata": {},
     "output_type": "execute_result"
    }
   ],
   "source": [
    "usuario['genero']"
   ]
  },
  {
   "cell_type": "code",
   "execution_count": 71,
   "id": "bf499b6b",
   "metadata": {},
   "outputs": [
    {
     "name": "stdout",
     "output_type": "stream",
     "text": [
      "defaultdict(<class 'str'>, {'nome': 'Caio', 'idade': 26, 'genero': ''})\n"
     ]
    }
   ],
   "source": [
    "print(usuario)"
   ]
  },
  {
   "cell_type": "code",
   "execution_count": 72,
   "id": "26ae45c5",
   "metadata": {},
   "outputs": [
    {
     "name": "stdout",
     "output_type": "stream",
     "text": [
      "defaultdict(<class 'list'>, {'nome': 'Caio', 'idade': 26})\n",
      "defaultdict(<class 'list'>, {'nome': 'Caio', 'idade': 26, 'genero': []})\n"
     ]
    }
   ],
   "source": [
    "usuario = defaultdict(list)\n",
    "usuario['nome'] = 'Caio'\n",
    "usuario['idade'] = 26\n",
    "print(usuario)\n",
    "usuario['genero']\n",
    "print(usuario)"
   ]
  },
  {
   "cell_type": "code",
   "execution_count": null,
   "id": "3c829711",
   "metadata": {},
   "outputs": [],
   "source": []
  }
 ],
 "metadata": {
  "kernelspec": {
   "display_name": "Python 3",
   "language": "python",
   "name": "python3"
  },
  "language_info": {
   "codemirror_mode": {
    "name": "ipython",
    "version": 3
   },
   "file_extension": ".py",
   "mimetype": "text/x-python",
   "name": "python",
   "nbconvert_exporter": "python",
   "pygments_lexer": "ipython3",
   "version": "3.8.8"
  },
  "toc": {
   "base_numbering": 1,
   "nav_menu": {},
   "number_sections": true,
   "sideBar": true,
   "skip_h1_title": false,
   "title_cell": "Table of Contents",
   "title_sidebar": "Contents",
   "toc_cell": false,
   "toc_position": {},
   "toc_section_display": true,
   "toc_window_display": false
  }
 },
 "nbformat": 4,
 "nbformat_minor": 5
}
