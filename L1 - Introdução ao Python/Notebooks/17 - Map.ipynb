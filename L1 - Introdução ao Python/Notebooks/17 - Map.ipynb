{
 "cells": [
  {
   "cell_type": "markdown",
   "id": "8230a5d7-c5dd-4ae4-baf2-39239b0f7a55",
   "metadata": {},
   "source": [
    "# Map"
   ]
  },
  {
   "cell_type": "code",
   "execution_count": null,
   "id": "e0592e54-cdc9-4414-82dd-5a785ef85964",
   "metadata": {},
   "outputs": [],
   "source": [
    "# map(função, iterador)   -> aplica a função a cada elemento do iterador"
   ]
  },
  {
   "cell_type": "code",
   "execution_count": 1,
   "id": "5c67728b-2b47-4c67-ab5d-d2f9fa62a0d8",
   "metadata": {},
   "outputs": [],
   "source": [
    "def somar_1(num):\n",
    "    return num+1"
   ]
  },
  {
   "cell_type": "code",
   "execution_count": 4,
   "id": "89956db4-3f3b-4149-8d67-4a3f5051c8d2",
   "metadata": {},
   "outputs": [
    {
     "data": {
      "text/plain": [
       "[6, 11, 16, 21]"
      ]
     },
     "execution_count": 4,
     "metadata": {},
     "output_type": "execute_result"
    }
   ],
   "source": [
    "lista = [5, 10, 15, 20]\n",
    "list(map(somar_1, lista))"
   ]
  },
  {
   "cell_type": "code",
   "execution_count": 6,
   "id": "48062603-3e62-4724-8e91-256cf8f5e2ea",
   "metadata": {},
   "outputs": [
    {
     "data": {
      "text/plain": [
       "[105, 110, 115, 120]"
      ]
     },
     "execution_count": 6,
     "metadata": {},
     "output_type": "execute_result"
    }
   ],
   "source": [
    "list(map(lambda x: x+100, lista))"
   ]
  },
  {
   "cell_type": "code",
   "execution_count": 8,
   "id": "7b6f4d5c-7410-4286-bef1-b781429e46fb",
   "metadata": {},
   "outputs": [
    {
     "data": {
      "text/plain": [
       "[4, 16]"
      ]
     },
     "execution_count": 8,
     "metadata": {},
     "output_type": "execute_result"
    }
   ],
   "source": [
    "list(map(lambda x: x**2, [2, 4]))"
   ]
  },
  {
   "cell_type": "code",
   "execution_count": 9,
   "id": "28e5f0e2-b01c-4547-bce5-ce45a92589c9",
   "metadata": {},
   "outputs": [
    {
     "data": {
      "text/plain": [
       "[12, 104]"
      ]
     },
     "execution_count": 9,
     "metadata": {},
     "output_type": "execute_result"
    }
   ],
   "source": [
    "list(map(lambda x,y: x+y, [2, 4], [10, 100]))"
   ]
  },
  {
   "cell_type": "code",
   "execution_count": 10,
   "id": "5a3d907c-57e8-4856-895a-ad4000a6890f",
   "metadata": {},
   "outputs": [
    {
     "data": {
      "text/plain": [
       "[100, 125]"
      ]
     },
     "execution_count": 10,
     "metadata": {},
     "output_type": "execute_result"
    }
   ],
   "source": [
    "list(map(lambda x,y: x**y, [10, 5], [2, 3]))"
   ]
  },
  {
   "cell_type": "code",
   "execution_count": 2,
   "id": "8bd568f0-c1a1-42a9-9a98-02ca051c271a",
   "metadata": {},
   "outputs": [
    {
     "data": {
      "text/plain": [
       "[True, False, False, True]"
      ]
     },
     "execution_count": 2,
     "metadata": {},
     "output_type": "execute_result"
    }
   ],
   "source": [
    "list(map(lambda x: x[0] == 'A', ['Amar', 'Borboleta', 'Tigre', 'Arte']))"
   ]
  },
  {
   "cell_type": "code",
   "execution_count": 3,
   "id": "ed4c6423-d896-4479-ac2f-951517c714b4",
   "metadata": {},
   "outputs": [
    {
     "data": {
      "text/plain": [
       "['AMAR', 'BORBOLETA', 'TIGRE', 'ARTE']"
      ]
     },
     "execution_count": 3,
     "metadata": {},
     "output_type": "execute_result"
    }
   ],
   "source": [
    "list(map(str.upper, ['Amar', 'Borboleta', 'Tigre', 'Arte']))"
   ]
  },
  {
   "cell_type": "code",
   "execution_count": 10,
   "id": "bd86ee3a-cd94-496c-846e-a7c7aac11689",
   "metadata": {},
   "outputs": [
    {
     "data": {
      "text/plain": [
       "[range(0, 5), range(1, 6), range(2, 7)]"
      ]
     },
     "execution_count": 10,
     "metadata": {},
     "output_type": "execute_result"
    }
   ],
   "source": [
    "list(map(range, [0, 1, 2], [5, 6, 7]))"
   ]
  },
  {
   "cell_type": "code",
   "execution_count": 12,
   "id": "8a802510-6120-4f60-875d-f4c1430d2783",
   "metadata": {},
   "outputs": [
    {
     "data": {
      "text/plain": [
       "[[0, 1, 2, 3, 4], [1, 2, 3, 4, 5], [2, 3, 4, 5, 6]]"
      ]
     },
     "execution_count": 12,
     "metadata": {},
     "output_type": "execute_result"
    }
   ],
   "source": [
    "[list(x) for x in list(map(range, [0, 1, 2], [5, 6, 7]))]"
   ]
  },
  {
   "cell_type": "code",
   "execution_count": 7,
   "id": "d310d320-8107-494b-9494-7b00e416f56f",
   "metadata": {},
   "outputs": [
    {
     "data": {
      "text/plain": [
       "[4.0, 5.5, 4.52, 2.452, 9.2585, 4.51449, 4.651823]"
      ]
     },
     "execution_count": 7,
     "metadata": {},
     "output_type": "execute_result"
    }
   ],
   "source": [
    "nums = [3.514728, 5.471896, 4.517482, 2.451863, 9.258465, 4.514486, 4.651823]\n",
    "list(map(round, nums, range(0, 7)))"
   ]
  },
  {
   "cell_type": "code",
   "execution_count": 45,
   "id": "c18e039b-6bd5-4c8e-b10e-75422876a331",
   "metadata": {},
   "outputs": [
    {
     "data": {
      "text/plain": [
       "[50, 80]"
      ]
     },
     "execution_count": 45,
     "metadata": {},
     "output_type": "execute_result"
    }
   ],
   "source": [
    "list(map(lambda x: x[1] * 10, {'Banana': 5, 'Uva': 8}.items()))"
   ]
  },
  {
   "cell_type": "markdown",
   "id": "cf4b927f-3252-4498-b5e4-e1c545ce1f19",
   "metadata": {},
   "source": [
    "# Starmap"
   ]
  },
  {
   "cell_type": "code",
   "execution_count": 19,
   "id": "f07ec0af-2d4b-4497-95a5-66f5458a72c4",
   "metadata": {},
   "outputs": [],
   "source": []
  },
  {
   "cell_type": "code",
   "execution_count": 18,
   "id": "694021dd-a23a-45b3-bdd4-65bf058976b8",
   "metadata": {},
   "outputs": [
    {
     "data": {
      "text/plain": [
       "[10, 100, 25]"
      ]
     },
     "execution_count": 18,
     "metadata": {},
     "output_type": "execute_result"
    }
   ],
   "source": [
    "nums = [(2, 5), (10, 10), (5, 5)]\n",
    "list(starmap(lambda x, y: x*y, nums))"
   ]
  },
  {
   "cell_type": "code",
   "execution_count": 22,
   "id": "f06e56c4-1334-4a04-8041-53b93f6953ab",
   "metadata": {},
   "outputs": [
    {
     "data": {
      "text/plain": [
       "[10, 10, 10, 10, 10, 10, 10, 10, 10, 10]"
      ]
     },
     "execution_count": 22,
     "metadata": {},
     "output_type": "execute_result"
    }
   ],
   "source": [
    "list(repeat(10, 10))"
   ]
  }
 ],
 "metadata": {
  "kernelspec": {
   "display_name": "Python 3",
   "language": "python",
   "name": "python3"
  },
  "language_info": {
   "codemirror_mode": {
    "name": "ipython",
    "version": 3
   },
   "file_extension": ".py",
   "mimetype": "text/x-python",
   "name": "python",
   "nbconvert_exporter": "python",
   "pygments_lexer": "ipython3",
   "version": "3.8.8"
  }
 },
 "nbformat": 4,
 "nbformat_minor": 5
}
