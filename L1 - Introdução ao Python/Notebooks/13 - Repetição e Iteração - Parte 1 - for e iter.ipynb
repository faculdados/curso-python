{
 "cells": [
  {
   "cell_type": "markdown",
   "id": "bc3e6e2a",
   "metadata": {},
   "source": [
    "# Iterações"
   ]
  },
  {
   "cell_type": "code",
   "execution_count": 14,
   "id": "f8d272d1",
   "metadata": {},
   "outputs": [],
   "source": [
    "lst_num = [1, 2, 3, 4]"
   ]
  },
  {
   "cell_type": "code",
   "execution_count": 19,
   "id": "aca5d40d",
   "metadata": {},
   "outputs": [],
   "source": [
    "it_num = iter(lst_num)"
   ]
  },
  {
   "cell_type": "code",
   "execution_count": 9,
   "id": "60d6dcd9",
   "metadata": {},
   "outputs": [
    {
     "ename": "StopIteration",
     "evalue": "",
     "output_type": "error",
     "traceback": [
      "\u001b[1;31m---------------------------------------------------------------------------\u001b[0m",
      "\u001b[1;31mStopIteration\u001b[0m                             Traceback (most recent call last)",
      "\u001b[1;32m<ipython-input-9-06c6f219edda>\u001b[0m in \u001b[0;36m<module>\u001b[1;34m\u001b[0m\n\u001b[1;32m----> 1\u001b[1;33m \u001b[0mnext\u001b[0m\u001b[1;33m(\u001b[0m\u001b[0mit_num\u001b[0m\u001b[1;33m)\u001b[0m\u001b[1;33m\u001b[0m\u001b[1;33m\u001b[0m\u001b[0m\n\u001b[0m",
      "\u001b[1;31mStopIteration\u001b[0m: "
     ]
    }
   ],
   "source": [
    "next(it_num)"
   ]
  },
  {
   "cell_type": "code",
   "execution_count": 17,
   "id": "75b77216",
   "metadata": {},
   "outputs": [
    {
     "name": "stdout",
     "output_type": "stream",
     "text": [
      "<list_iterator object at 0x0000023D24CFAAF0>\n"
     ]
    }
   ],
   "source": [
    "print(it_num)"
   ]
  },
  {
   "cell_type": "code",
   "execution_count": 21,
   "id": "148ae790",
   "metadata": {},
   "outputs": [
    {
     "name": "stdout",
     "output_type": "stream",
     "text": [
      "\n"
     ]
    }
   ],
   "source": [
    "print(*it_num)"
   ]
  },
  {
   "cell_type": "code",
   "execution_count": 22,
   "id": "9577de0a",
   "metadata": {},
   "outputs": [],
   "source": [
    "texto = 'python'"
   ]
  },
  {
   "cell_type": "code",
   "execution_count": 31,
   "id": "fb192bf0",
   "metadata": {},
   "outputs": [],
   "source": [
    "it_texto = iter(texto)"
   ]
  },
  {
   "cell_type": "code",
   "execution_count": 30,
   "id": "7b2a3be9",
   "metadata": {},
   "outputs": [
    {
     "ename": "StopIteration",
     "evalue": "",
     "output_type": "error",
     "traceback": [
      "\u001b[1;31m---------------------------------------------------------------------------\u001b[0m",
      "\u001b[1;31mStopIteration\u001b[0m                             Traceback (most recent call last)",
      "\u001b[1;32m<ipython-input-30-a2a28e9a724e>\u001b[0m in \u001b[0;36m<module>\u001b[1;34m\u001b[0m\n\u001b[1;32m----> 1\u001b[1;33m \u001b[0mnext\u001b[0m\u001b[1;33m(\u001b[0m\u001b[0mit_texto\u001b[0m\u001b[1;33m)\u001b[0m\u001b[1;33m\u001b[0m\u001b[1;33m\u001b[0m\u001b[0m\n\u001b[0m",
      "\u001b[1;31mStopIteration\u001b[0m: "
     ]
    }
   ],
   "source": [
    "next(it_texto)"
   ]
  },
  {
   "cell_type": "code",
   "execution_count": 32,
   "id": "5ace9b51",
   "metadata": {},
   "outputs": [],
   "source": [
    "dicionario = {'chave1': 1, 'chave2': 2}"
   ]
  },
  {
   "cell_type": "code",
   "execution_count": 33,
   "id": "e0efb790",
   "metadata": {},
   "outputs": [],
   "source": [
    "it_dict = iter(dicionario)"
   ]
  },
  {
   "cell_type": "code",
   "execution_count": 36,
   "id": "923e4cde",
   "metadata": {},
   "outputs": [
    {
     "ename": "StopIteration",
     "evalue": "",
     "output_type": "error",
     "traceback": [
      "\u001b[1;31m---------------------------------------------------------------------------\u001b[0m",
      "\u001b[1;31mStopIteration\u001b[0m                             Traceback (most recent call last)",
      "\u001b[1;32m<ipython-input-36-3a40887d79d2>\u001b[0m in \u001b[0;36m<module>\u001b[1;34m\u001b[0m\n\u001b[1;32m----> 1\u001b[1;33m \u001b[0mnext\u001b[0m\u001b[1;33m(\u001b[0m\u001b[0mit_dict\u001b[0m\u001b[1;33m)\u001b[0m\u001b[1;33m\u001b[0m\u001b[1;33m\u001b[0m\u001b[0m\n\u001b[0m",
      "\u001b[1;31mStopIteration\u001b[0m: "
     ]
    }
   ],
   "source": [
    "next(it_dict)"
   ]
  },
  {
   "cell_type": "markdown",
   "id": "c641a544",
   "metadata": {},
   "source": [
    "# For"
   ]
  },
  {
   "cell_type": "code",
   "execution_count": 1,
   "id": "b72a8727",
   "metadata": {},
   "outputs": [
    {
     "data": {
      "text/plain": [
       "[0, 1, 2, 3, 4]"
      ]
     },
     "execution_count": 1,
     "metadata": {},
     "output_type": "execute_result"
    }
   ],
   "source": [
    "list(range(0, 5))"
   ]
  },
  {
   "cell_type": "code",
   "execution_count": 3,
   "id": "56c04319",
   "metadata": {},
   "outputs": [
    {
     "name": "stdout",
     "output_type": "stream",
     "text": [
      "0\n",
      "1\n",
      "2\n",
      "3\n",
      "4\n"
     ]
    }
   ],
   "source": [
    "for i in range(5):\n",
    "    print(i)"
   ]
  },
  {
   "cell_type": "code",
   "execution_count": 4,
   "id": "2c3d7bc8",
   "metadata": {},
   "outputs": [
    {
     "name": "stdout",
     "output_type": "stream",
     "text": [
      "0\n",
      "2\n",
      "4\n",
      "6\n",
      "8\n"
     ]
    }
   ],
   "source": [
    "for i in range(5):\n",
    "    print(i*2)"
   ]
  },
  {
   "cell_type": "code",
   "execution_count": 5,
   "id": "24765534",
   "metadata": {},
   "outputs": [
    {
     "name": "stdout",
     "output_type": "stream",
     "text": [
      "0\n",
      "2\n",
      "4\n"
     ]
    }
   ],
   "source": [
    "for i in range(5):\n",
    "    if i % 2 == 0:\n",
    "        print(i)"
   ]
  },
  {
   "cell_type": "code",
   "execution_count": 6,
   "id": "6cb6748a",
   "metadata": {},
   "outputs": [
    {
     "name": "stdout",
     "output_type": "stream",
     "text": [
      "Hoje vou comer banana\n",
      "Hoje vou comer macarrão\n",
      "Hoje vou comer arroz\n"
     ]
    }
   ],
   "source": [
    "refeicoes = ['banana', 'macarrão', 'arroz']\n",
    "for comida in refeicoes:\n",
    "    print(f'Hoje vou comer {comida}')"
   ]
  },
  {
   "cell_type": "code",
   "execution_count": 9,
   "id": "90347a08",
   "metadata": {},
   "outputs": [
    {
     "name": "stdout",
     "output_type": "stream",
     "text": [
      "Digite o nome que você quer pesquisar: Ana\n",
      "Ana está inscrito(a)\n"
     ]
    }
   ],
   "source": [
    "inscritos = ('Gustavo', 'Maria', 'José', 'Ana')\n",
    "checar_pessoa = input('Digite o nome que você quer pesquisar: ')\n",
    "for pessoa in inscritos:\n",
    "    if pessoa == checar_pessoa:\n",
    "        print(f'{checar_pessoa} está inscrito(a)')"
   ]
  },
  {
   "cell_type": "code",
   "execution_count": 10,
   "id": "ac7cb2ee",
   "metadata": {},
   "outputs": [
    {
     "name": "stdout",
     "output_type": "stream",
     "text": [
      "nome\n",
      "idade\n"
     ]
    }
   ],
   "source": [
    "cadastro = {'nome': 'Caio', 'idade': 27}\n",
    "for i in cadastro:\n",
    "    print(i)"
   ]
  },
  {
   "cell_type": "code",
   "execution_count": 12,
   "id": "fd1b36f8",
   "metadata": {},
   "outputs": [
    {
     "name": "stdout",
     "output_type": "stream",
     "text": [
      "nome\n",
      "idade\n"
     ]
    }
   ],
   "source": [
    "cadastro = {'nome': 'Caio', 'idade': 27}\n",
    "for i in cadastro.keys():\n",
    "    print(i)"
   ]
  },
  {
   "cell_type": "code",
   "execution_count": 14,
   "id": "0b9215a7",
   "metadata": {},
   "outputs": [
    {
     "name": "stdout",
     "output_type": "stream",
     "text": [
      "Caio\n",
      "27\n"
     ]
    }
   ],
   "source": [
    "cadastro = {'nome': 'Caio', 'idade': 27}\n",
    "for i in cadastro.values():\n",
    "    print(i)"
   ]
  },
  {
   "cell_type": "code",
   "execution_count": 15,
   "id": "65580c60",
   "metadata": {},
   "outputs": [
    {
     "name": "stdout",
     "output_type": "stream",
     "text": [
      "('nome', 'Caio')\n",
      "('idade', 27)\n"
     ]
    }
   ],
   "source": [
    "cadastro = {'nome': 'Caio', 'idade': 27}\n",
    "for i in cadastro.items():\n",
    "    print(i)"
   ]
  },
  {
   "cell_type": "code",
   "execution_count": 18,
   "id": "92b50d73",
   "metadata": {},
   "outputs": [
    {
     "name": "stdout",
     "output_type": "stream",
     "text": [
      "chave é nome\n",
      "valor é Caio\n",
      "chave é idade\n",
      "valor é 27\n"
     ]
    }
   ],
   "source": [
    "cadastro = {'nome': 'Caio', 'idade': 27}\n",
    "for i, j in cadastro.items():\n",
    "    print(f'chave é {i}')\n",
    "    print(f'valor é {j}')"
   ]
  },
  {
   "cell_type": "code",
   "execution_count": 20,
   "id": "bab2379b",
   "metadata": {},
   "outputs": [
    {
     "name": "stdout",
     "output_type": "stream",
     "text": [
      "nome -> Caio\n",
      "idade -> 27\n"
     ]
    }
   ],
   "source": [
    "cadastro = {'nome': 'Caio', 'idade': 27}\n",
    "for i, j in cadastro.items():\n",
    "    print(f'{i} -> {j}')"
   ]
  },
  {
   "cell_type": "code",
   "execution_count": 21,
   "id": "74ae677a",
   "metadata": {},
   "outputs": [
    {
     "name": "stdout",
     "output_type": "stream",
     "text": [
      "C\n",
      "a\n",
      "i\n",
      "o\n"
     ]
    }
   ],
   "source": [
    "for letra in 'Caio':\n",
    "    print(letra)"
   ]
  },
  {
   "cell_type": "code",
   "execution_count": 25,
   "id": "faa8f604",
   "metadata": {},
   "outputs": [
    {
     "name": "stdout",
     "output_type": "stream",
     "text": [
      "C\n",
      "a\n",
      "i\n",
      "o\n",
      "Finalizou\n"
     ]
    }
   ],
   "source": [
    "for letra in 'Caio':\n",
    "    print(letra)\n",
    "else:\n",
    "    print('Finalizou')"
   ]
  },
  {
   "cell_type": "code",
   "execution_count": 26,
   "id": "78e78408",
   "metadata": {},
   "outputs": [
    {
     "name": "stdout",
     "output_type": "stream",
     "text": [
      "2 Banana\n",
      "2 Laranja\n",
      "2 Limão\n",
      "5 Banana\n",
      "5 Laranja\n",
      "5 Limão\n",
      "10 Banana\n",
      "10 Laranja\n",
      "10 Limão\n"
     ]
    }
   ],
   "source": [
    "# Nested loop ou loop aninhado\n",
    "quantidade = [2, 5, 10]\n",
    "frutas = ['Banana', 'Laranja', 'Limão']\n",
    "for i in quantidade:\n",
    "    for j in frutas:\n",
    "        print(i, j)"
   ]
  },
  {
   "cell_type": "markdown",
   "id": "6e66134b",
   "metadata": {},
   "source": [
    "# Pass, break e continue"
   ]
  },
  {
   "cell_type": "code",
   "execution_count": 31,
   "id": "0b96cdf8",
   "metadata": {},
   "outputs": [
    {
     "name": "stdout",
     "output_type": "stream",
     "text": [
      "0\n",
      "1\n"
     ]
    }
   ],
   "source": [
    "for i in range(5):\n",
    "    #print(i)\n",
    "    if i == 2:\n",
    "        #pass\n",
    "        #continue\n",
    "        break\n",
    "        print('passou aqui')\n",
    "    else:\n",
    "        print(i)"
   ]
  },
  {
   "cell_type": "markdown",
   "id": "ad7c71c1",
   "metadata": {},
   "source": [
    "# Zip"
   ]
  },
  {
   "cell_type": "code",
   "execution_count": 22,
   "id": "8063f122",
   "metadata": {},
   "outputs": [
    {
     "name": "stdout",
     "output_type": "stream",
     "text": [
      "O Vasco está em 1º lugar\n",
      "O Santos está em 2º lugar\n",
      "O Palmeiras está em 3º lugar\n"
     ]
    }
   ],
   "source": [
    "times = ['Vasco', 'Santos', 'Palmeiras']\n",
    "posicoes = [1, 2, 3]\n",
    "for posicao, time in zip(posicoes, times):\n",
    "    print(f'O {time} está em {posicao}º lugar')"
   ]
  },
  {
   "cell_type": "code",
   "execution_count": null,
   "id": "04581f24",
   "metadata": {},
   "outputs": [],
   "source": []
  }
 ],
 "metadata": {
  "kernelspec": {
   "display_name": "Python 3",
   "language": "python",
   "name": "python3"
  },
  "language_info": {
   "codemirror_mode": {
    "name": "ipython",
    "version": 3
   },
   "file_extension": ".py",
   "mimetype": "text/x-python",
   "name": "python",
   "nbconvert_exporter": "python",
   "pygments_lexer": "ipython3",
   "version": "3.8.8"
  },
  "toc": {
   "base_numbering": 1,
   "nav_menu": {},
   "number_sections": true,
   "sideBar": true,
   "skip_h1_title": false,
   "title_cell": "Table of Contents",
   "title_sidebar": "Contents",
   "toc_cell": false,
   "toc_position": {},
   "toc_section_display": true,
   "toc_window_display": false
  }
 },
 "nbformat": 4,
 "nbformat_minor": 5
}
