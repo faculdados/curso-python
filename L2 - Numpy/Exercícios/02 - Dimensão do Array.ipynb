{
 "cells": [
  {
   "cell_type": "code",
   "execution_count": 1,
   "id": "a13cecad-1b2f-4e4b-8e2f-d9588d04ff34",
   "metadata": {},
   "outputs": [],
   "source": [
    "import numpy as np"
   ]
  },
  {
   "cell_type": "code",
   "execution_count": 5,
   "id": "039b9c5a-106a-4a08-9702-d82bab7705e9",
   "metadata": {},
   "outputs": [],
   "source": [
    "# Exercício 1 - Crie um array de 5 até 16 utilizando arange"
   ]
  },
  {
   "cell_type": "code",
   "execution_count": 4,
   "id": "6c4a1960-99ec-4175-a072-73946992fe8d",
   "metadata": {},
   "outputs": [],
   "source": [
    "# Exercício 2 - Mude esse array para uma matriz 3x4 (3 linhas e 4 colunas). Imprima o novo array na tela e seu shape"
   ]
  },
  {
   "cell_type": "code",
   "execution_count": 3,
   "id": "120e21c8-2ddf-4a14-888c-f9b5176f73c4",
   "metadata": {},
   "outputs": [],
   "source": [
    "# Exercício 3 - Crie um array 3x2 com zeros"
   ]
  },
  {
   "cell_type": "code",
   "execution_count": 2,
   "id": "89d6c1e7-273c-4365-a2e7-e4298302b9d1",
   "metadata": {},
   "outputs": [],
   "source": [
    "# Exercício 4 - Crie um array 3x2 só com número um"
   ]
  },
  {
   "cell_type": "code",
   "execution_count": 1,
   "id": "9a8824a3-de97-4f14-af51-e4f3b2799653",
   "metadata": {},
   "outputs": [],
   "source": [
    "# Exercício 5 - Crie um array 3x2 só com número cinco"
   ]
  },
  {
   "cell_type": "code",
   "execution_count": null,
   "id": "b70084da-a78d-4489-b2c9-43ca55a2660c",
   "metadata": {},
   "outputs": [],
   "source": []
  }
 ],
 "metadata": {
  "kernelspec": {
   "display_name": "Python 3",
   "language": "python",
   "name": "python3"
  },
  "language_info": {
   "codemirror_mode": {
    "name": "ipython",
    "version": 3
   },
   "file_extension": ".py",
   "mimetype": "text/x-python",
   "name": "python",
   "nbconvert_exporter": "python",
   "pygments_lexer": "ipython3",
   "version": "3.8.8"
  }
 },
 "nbformat": 4,
 "nbformat_minor": 5
}
